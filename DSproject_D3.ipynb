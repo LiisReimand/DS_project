{
 "cells": [
  {
   "cell_type": "code",
   "execution_count": 1,
   "id": "5bd87b80",
   "metadata": {},
   "outputs": [],
   "source": [
    "import pandas as pd\n",
    "import numpy as np\n",
    "from matplotlib import pyplot as plt\n",
    "import seaborn as sns"
   ]
  },
  {
   "cell_type": "code",
   "execution_count": 2,
   "id": "92b0b7ad",
   "metadata": {},
   "outputs": [
    {
     "name": "stderr",
     "output_type": "stream",
     "text": [
      "C:\\Users\\Liis Reimand\\AppData\\Local\\Temp\\ipykernel_20048\\1789013292.py:2: DtypeWarning: Columns (8,9,21) have mixed types. Specify dtype option on import or set low_memory=False.\n",
      "  data_orig=pd.read_csv(\"soidukid.csv\",on_bad_lines='skip', sep=\";\")\n"
     ]
    }
   ],
   "source": [
    "#loeme andmed sisse\n",
    "data_orig=pd.read_csv(\"soidukid.csv\",on_bad_lines='skip', sep=\";\")"
   ]
  },
  {
   "cell_type": "code",
   "execution_count": 3,
   "id": "573b1f6f",
   "metadata": {},
   "outputs": [],
   "source": [
    "#kopeerime originaalse andmestiku\n",
    "data=data_orig.copy()"
   ]
  },
  {
   "cell_type": "code",
   "execution_count": 4,
   "id": "694a39ce",
   "metadata": {},
   "outputs": [],
   "source": [
    "#kustutame ebavajalikud andmed\n",
    "data=data[data.YLDINE_STAATUS != \"PEATATUD\"]\n",
    "data=data.reset_index()\n",
    "data=data.drop([\"Andmed seisuga\",\"index\",\"VARV\",\"ISTEKOHTI\", \"Kere nimetus\", \"ARV\",\"Kategooria\",\"Keretüüp\",\"TELGI_KOKKU\",\"TAISMASS\", \"TYHIMASS\",\"YLDINE_STAATUS\",\"EESTIS_ESMAREG_KP\", \"MOOTORI_TYYP\", \"Kütuse tüüp\", \"HYBRIIDI_TYYP\"], axis=1)"
   ]
  },
  {
   "cell_type": "code",
   "execution_count": 5,
   "id": "474abacc",
   "metadata": {},
   "outputs": [],
   "source": [
    "#asendame Nan-informatsioonilahtrid käigukastitüübis\n",
    "#Nan -> manuaal\n",
    "data[\"KAIGUKASTI_TYYP\"]=data[\"KAIGUKASTI_TYYP\"].fillna(\"MANUAAL\")"
   ]
  },
  {
   "cell_type": "code",
   "execution_count": 6,
   "id": "28aea41e",
   "metadata": {},
   "outputs": [],
   "source": [
    "#asendame puuduvad NEDC väärtused võimalusel WLTP omadega, vastasel juhul\n",
    "#eelistame NEDC\n",
    "\n",
    "for i in range(len(data[\"CO2_NEDC\"])):\n",
    "    vana=data[\"CO2_NEDC\"].iloc[i]\n",
    "    uus=data[\"CO2_WLTP\"].iloc[i]\n",
    "    if str(vana)==\"nan\" and str(uus)!=\"nan\":\n",
    "        data.loc[i,'CO2_NEDC']=int(uus)\n",
    "data=data.drop([\"CO2_WLTP\"], axis=1)        "
   ]
  },
  {
   "cell_type": "code",
   "execution_count": 7,
   "id": "710ec49e",
   "metadata": {},
   "outputs": [],
   "source": [
    "#data.to_csv('soidukid_cleaned.csv',encoding='utf-8-sig',sep=';')"
   ]
  },
  {
   "cell_type": "code",
   "execution_count": 8,
   "id": "16d38618",
   "metadata": {},
   "outputs": [],
   "source": [
    "#VAZ-de CO2_NEDC NaN väärtused asendame 210-ga, kuna antud autod omavad sama mootorit\n",
    "for i in range(len(data[\"CO2_NEDC\"])):\n",
    "    mark=data[\"Mark\"].iloc[i]\n",
    "    if str(mark)==\"VAZ\":\n",
    "        data.loc[i,'CO2_NEDC']=210"
   ]
  },
  {
   "cell_type": "code",
   "execution_count": 9,
   "id": "f8c4d45c",
   "metadata": {},
   "outputs": [],
   "source": [
    "#Vaatame autosid, millel on CO2 NaN-valued\n",
    "#for i in range(len(data[\"CO2_NEDC\"])):\n",
    " #  mark=data[\"Mark\"].iloc[i]\n",
    "  #  maht=data[\"MOOTORI_MAHT\"].iloc[i]\n",
    "   # tüüp=data[\"Kütusekombinatsioon\"].iloc[i]\n",
    "    #if str(NEDC)==\"nan\" and str(mark)==\"BMW\":\n",
    "     #   print(str(data[\"Mark\"].iloc[i])+ \" \" + str(data[\"Mudel\"].iloc[i]) + \" \" + str(maht) + \" \" + str(tüüp))"
   ]
  },
  {
   "cell_type": "code",
   "execution_count": 10,
   "id": "e0728212",
   "metadata": {},
   "outputs": [],
   "source": [
    "#Peamised mootorid ning nende CO2_NEDC, et vähendada NaN valuesid CO2 tulbas\n",
    "motoras_VW={1968.0:146.0, 1896.0:162.0, 2461.0:171.0, 2771.0:255.0, 2967.0:180.0 ,1781.0:190.0, 2792.0:278.0}\n",
    "motoras_BMW={1596.0:171.6, 1991.0:165.3, 2979.0:169.0, 2993.0:170.0, 2926.0:178.0, 1995.0:153.0, 1796.0:208.0, 1950.0:158.0}"
   ]
  },
  {
   "cell_type": "code",
   "execution_count": 11,
   "id": "5a88ce84",
   "metadata": {},
   "outputs": [],
   "source": [
    "#Asendame NaN-valued võimalusel Volkswageni ja Audi peamiste mootorite CO2 reostustasemed\n",
    "for i in range(len(data[\"CO2_NEDC\"])):\n",
    "    mootor=data[\"MOOTORI_MAHT\"].iloc[i]\n",
    "    NEDC=data[\"CO2_NEDC\"].iloc[i]\n",
    "    mark=data[\"Mark\"].iloc[i]\n",
    "    if str(NEDC)==\"nan\" and float(mootor) in motoras_VW.keys() and (str(mark)==\"VOLKSWAGEN\" or str(mark)==\"AUDI\"):\n",
    "        data.loc[i,'CO2_NEDC']=int(motoras_VW.get(float(mootor)))"
   ]
  },
  {
   "cell_type": "code",
   "execution_count": 12,
   "id": "4af53edf",
   "metadata": {},
   "outputs": [],
   "source": [
    "#Asendame NaN-valued võimalusel BMW peamiste mootorite CO2 reostustasemed\n",
    "for i in range(len(data[\"CO2_NEDC\"])):\n",
    "    mootor=data[\"MOOTORI_MAHT\"].iloc[i]\n",
    "    NEDC=data[\"CO2_NEDC\"].iloc[i]\n",
    "    mark=data[\"Mark\"].iloc[i]\n",
    "    if str(NEDC)==\"nan\" and float(mootor) in motoras_BMW.keys() and str(mark)==\"BMW\":\n",
    "        data.loc[i,'CO2_NEDC']=int(motoras_BMW.get(float(mootor)))"
   ]
  },
  {
   "cell_type": "code",
   "execution_count": 13,
   "id": "c51cae12",
   "metadata": {},
   "outputs": [],
   "source": [
    "#Asendame NaN-valued elektri-autodel nulliga\n",
    "for i in range(len(data[\"CO2_NEDC\"])):\n",
    "    kütus=data[\"Kütusekombinatsioon\"].iloc[i]\n",
    "    NEDC=data[\"CO2_NEDC\"].iloc[i]\n",
    "    if str(NEDC)==\"nan\" and str(kütus)==\"ELEKTER\":\n",
    "        data.loc[i,'CO2_NEDC']=0"
   ]
  },
  {
   "cell_type": "code",
   "execution_count": 14,
   "id": "6d5136b1",
   "metadata": {},
   "outputs": [],
   "source": [
    "brändid={}\n",
    "for i in range(len(data[\"CO2_NEDC\"])):\n",
    "    NEDC=data[\"CO2_NEDC\"].iloc[i]\n",
    "    if str(NEDC)==\"nan\":\n",
    "        if str(data[\"Mark\"].iloc[i]) in brändid.keys():\n",
    "            brändid[str(data[\"Mark\"].iloc[i])]= int(brändid.get(str(data[\"Mark\"].iloc[i])))+1\n",
    "        else:\n",
    "            brändid[str(data[\"Mark\"].iloc[i])]= 1             \n",
    "brändid=dict(sorted(brändid.items(), key=lambda item: item[1]))\n",
    "#print(brändid)"
   ]
  },
  {
   "cell_type": "code",
   "execution_count": 15,
   "id": "b246337b",
   "metadata": {},
   "outputs": [],
   "source": [
    "#Asendame vigased maakonna nimed\n",
    "tundmatud=['L��NE-VIRU MAAKOND', 'P�RNU MAAKOND', 'J�RVA MAAKOND', 'P�LVA MAAKOND', 'V�RU MAAKOND']\n",
    "asendused=[\"LÄÄNE-VIRU MAAKOND\", \"PÄRNU MAAKOND\", \"JÄRVA MAAKOND\", \"PÕLVA MAAKOND\", \"VÕRU MAAKOND\"]\n",
    "\n",
    "for i in range(len(tundmatud)):\n",
    "    data[\"VK/OM MAAKOND\"]=data[\"VK/OM MAAKOND\"].replace([tundmatud[i]],asendused[i])\n",
    "    \n",
    "MAAKONNAD=[]\n",
    "for i in range(len(data[\"VK/OM MAAKOND\"])):\n",
    "    maakond=data[\"VK/OM MAAKOND\"].iloc[i]\n",
    "    if str(maakond) not in MAAKONNAD:\n",
    "        MAAKONNAD.append(str(maakond))"
   ]
  },
  {
   "cell_type": "code",
   "execution_count": 16,
   "id": "b10abda6",
   "metadata": {
    "scrolled": true
   },
   "outputs": [
    {
     "name": "stdout",
     "output_type": "stream",
     "text": [
      "Passateid Eestis 29261\n",
      "{'HARJU MAAKOND': 281403, 'PÄRNU MAAKOND': 42387, 'TARTU MAAKOND': 74682, 'VALGA MAAKOND': 14754, 'VÕRU MAAKOND': 20159, 'HIIU MAAKOND': 6339, 'PÕLVA MAAKOND': 15091, 'SAARE MAAKOND': 20174, 'LÄÄNE-VIRU MAAKOND': 29375, 'IDA-VIRU MAAKOND': 48605, 'JÕGEVA MAAKOND': 14729, 'LÄÄNE MAAKOND': 10963, 'RAPLA MAAKOND': 18914, 'VILJANDI MAAKOND': 24343, 'JÄRVA MAAKOND': 15828, 'MÄÄRAMATA': 11487}\n",
      "{'HARJU MAAKOND': 8835, 'PÄRNU MAAKOND': 2027, 'TARTU MAAKOND': 4346, 'VALGA MAAKOND': 1055, 'VÕRU MAAKOND': 1833, 'HIIU MAAKOND': 276, 'PÕLVA MAAKOND': 1419, 'SAARE MAAKOND': 816, 'LÄÄNE-VIRU MAAKOND': 1317, 'IDA-VIRU MAAKOND': 2101, 'JÕGEVA MAAKOND': 995, 'LÄÄNE MAAKOND': 479, 'RAPLA MAAKOND': 876, 'VILJANDI MAAKOND': 1462, 'JÄRVA MAAKOND': 830, 'MÄÄRAMATA': 594}\n"
     ]
    }
   ],
   "source": [
    "autod_maakonnas={'HARJU MAAKOND':0, 'PÄRNU MAAKOND':0, 'TARTU MAAKOND':0, 'VALGA MAAKOND':0, 'VÕRU MAAKOND':0, 'HIIU MAAKOND':0, 'PÕLVA MAAKOND':0, 'SAARE MAAKOND':0, 'LÄÄNE-VIRU MAAKOND':0, 'IDA-VIRU MAAKOND':0, 'JÕGEVA MAAKOND':0, 'LÄÄNE MAAKOND':0, 'RAPLA MAAKOND':0, 'VILJANDI MAAKOND':0, 'JÄRVA MAAKOND':0, 'MÄÄRAMATA':0}\n",
    "passatid_maakonnas={'HARJU MAAKOND':0, 'PÄRNU MAAKOND':0, 'TARTU MAAKOND':0, 'VALGA MAAKOND':0, 'VÕRU MAAKOND':0, 'HIIU MAAKOND':0, 'PÕLVA MAAKOND':0, 'SAARE MAAKOND':0, 'LÄÄNE-VIRU MAAKOND':0, 'IDA-VIRU MAAKOND':0, 'JÕGEVA MAAKOND':0, 'LÄÄNE MAAKOND':0, 'RAPLA MAAKOND':0, 'VILJANDI MAAKOND':0, 'JÄRVA MAAKOND':0, 'MÄÄRAMATA':0}\n",
    "passatid_kokku=0\n",
    "\n",
    "for i in range(len(data[\"VK/OM MAAKOND\"])):\n",
    "    mudel=data[\"Mudel\"].iloc[i]\n",
    "    maakond=data[\"VK/OM MAAKOND\"].iloc[i]\n",
    "    autod_maakonnas[str(maakond)]= int(autod_maakonnas.get(str(maakond)))+1\n",
    "    if \"PASSAT\" in str(mudel):\n",
    "        passatid_kokku+=1\n",
    "        passatid_maakonnas[str(maakond)]= int(passatid_maakonnas.get(str(maakond)))+1\n",
    "\n",
    "print(\"Passateid Eestis \" + str(passatid_kokku))\n",
    "print(autod_maakonnas)\n",
    "print(passatid_maakonnas)"
   ]
  },
  {
   "cell_type": "code",
   "execution_count": 17,
   "id": "750da0d1",
   "metadata": {
    "scrolled": true
   },
   "outputs": [
    {
     "name": "stdout",
     "output_type": "stream",
     "text": [
      "Passateid HARJU MAAKOND 3.14 %\n",
      "Passateid PÄRNU MAAKOND 4.78 %\n",
      "Passateid TARTU MAAKOND 5.82 %\n",
      "Passateid VALGA MAAKOND 7.15 %\n",
      "Passateid VÕRU MAAKOND 9.09 %\n",
      "Passateid HIIU MAAKOND 4.35 %\n",
      "Passateid PÕLVA MAAKOND 9.4 %\n",
      "Passateid SAARE MAAKOND 4.04 %\n",
      "Passateid LÄÄNE-VIRU MAAKOND 4.48 %\n",
      "Passateid IDA-VIRU MAAKOND 4.32 %\n",
      "Passateid JÕGEVA MAAKOND 6.76 %\n",
      "Passateid LÄÄNE MAAKOND 4.37 %\n",
      "Passateid RAPLA MAAKOND 4.63 %\n",
      "Passateid VILJANDI MAAKOND 6.01 %\n",
      "Passateid JÄRVA MAAKOND 5.24 %\n",
      "Passateid MÄÄRAMATA 5.17 %\n"
     ]
    }
   ],
   "source": [
    "for i in range(len(autod_maakonnas)):\n",
    "    print(\"Passateid \" + str(MAAKONNAD[i]) +\" \"+ str(round((passatid_maakonnas.get(MAAKONNAD[i])/autod_maakonnas.get(MAAKONNAD[i]))*100,2))+ \" %\")"
   ]
  },
  {
   "cell_type": "code",
   "execution_count": 18,
   "id": "a0dbf631",
   "metadata": {},
   "outputs": [],
   "source": [
    "CO2_maakonnas={'HARJU MAAKOND':0, 'PÄRNU MAAKOND':0, 'TARTU MAAKOND':0, 'VALGA MAAKOND':0, 'VÕRU MAAKOND':0, 'HIIU MAAKOND':0, 'PÕLVA MAAKOND':0, 'SAARE MAAKOND':0, 'LÄÄNE-VIRU MAAKOND':0, 'IDA-VIRU MAAKOND':0, 'JÕGEVA MAAKOND':0, 'LÄÄNE MAAKOND':0, 'RAPLA MAAKOND':0, 'VILJANDI MAAKOND':0, 'JÄRVA MAAKOND':0, 'MÄÄRAMATA':0}\n",
    "\n",
    "for i in range(len(data[\"CO2_NEDC\"])):\n",
    "    maakond=data[\"VK/OM MAAKOND\"].iloc[i]\n",
    "    co=data[\"CO2_NEDC\"].iloc[i]\n",
    "    if str(co)!=\"nan\":\n",
    "        CO2_maakonnas[str(maakond)]= float(CO2_maakonnas.get(str(maakond))) + float(data[\"CO2_NEDC\"].iloc[i])"
   ]
  },
  {
   "cell_type": "code",
   "execution_count": 19,
   "id": "e0cb747f",
   "metadata": {
    "scrolled": true
   },
   "outputs": [
    {
     "name": "stdout",
     "output_type": "stream",
     "text": [
      "CO2 reostus: HARJU MAAKOND 135.47 g/km\n",
      "CO2 reostus: PÄRNU MAAKOND 130.43 g/km\n",
      "CO2 reostus: TARTU MAAKOND 132.39 g/km\n",
      "CO2 reostus: VALGA MAAKOND 128.27 g/km\n",
      "CO2 reostus: VÕRU MAAKOND 127.07 g/km\n",
      "CO2 reostus: HIIU MAAKOND 126.2 g/km\n",
      "CO2 reostus: PÕLVA MAAKOND 126.13 g/km\n",
      "CO2 reostus: SAARE MAAKOND 124.21 g/km\n",
      "CO2 reostus: LÄÄNE-VIRU MAAKOND 129.11 g/km\n",
      "CO2 reostus: IDA-VIRU MAAKOND 137.09 g/km\n",
      "CO2 reostus: JÕGEVA MAAKOND 129.22 g/km\n",
      "CO2 reostus: LÄÄNE MAAKOND 127.54 g/km\n",
      "CO2 reostus: RAPLA MAAKOND 129.7 g/km\n",
      "CO2 reostus: VILJANDI MAAKOND 127.56 g/km\n",
      "CO2 reostus: JÄRVA MAAKOND 130.09 g/km\n",
      "CO2 reostus: MÄÄRAMATA 134.39 g/km\n"
     ]
    }
   ],
   "source": [
    "CO2_maakonniti=[]\n",
    "for i in range(len(autod_maakonnas)):\n",
    "    print(\"CO2 reostus: \" + str(MAAKONNAD[i]) +\" \"+ str(round((CO2_maakonnas.get(MAAKONNAD[i])/autod_maakonnas.get(MAAKONNAD[i])),2))+ \" g/km\")\n",
    "    CO2_maakonniti.append(round((CO2_maakonnas.get(MAAKONNAD[i])/autod_maakonnas.get(MAAKONNAD[i])),2))"
   ]
  },
  {
   "cell_type": "code",
   "execution_count": 20,
   "id": "968a09f9",
   "metadata": {
    "scrolled": true
   },
   "outputs": [
    {
     "data": {
      "image/png": "[encoded data removed]",
      "text/plain": [
       "<Figure size 1152x648 with 1 Axes>"
      ]
     },
     "metadata": {
      "needs_background": "light"
     },
     "output_type": "display_data"
    }
   ],
   "source": [
    "fig, ax = plt.subplots(figsize =(16, 9))\n",
    "\n",
    "ax.barh(MAAKONNAD, CO2_maakonniti)\n",
    "\n",
    "ax.set_xlabel('CO2 emissions (g/km)')\n",
    "ax.set_ylabel('Counties')\n",
    "ax.set_title('Average CO2 emissions by car in county')\n",
    "\n",
    "plt.xlim([115,140])\n",
    "\n",
    "plt.show()"
   ]
  },
  {
   "cell_type": "code",
   "execution_count": 21,
   "id": "ed66caeb",
   "metadata": {},
   "outputs": [],
   "source": [
    "margid={}\n",
    "for i in range(len(data[\"Mark\"])):\n",
    "    mark=data[\"Mark\"].iloc[i]\n",
    "    if str(mark) not in margid:\n",
    "        margid[str(mark)]=1  "
   ]
  },
  {
   "cell_type": "code",
   "execution_count": 22,
   "id": "c8085898",
   "metadata": {},
   "outputs": [
    {
     "name": "stdout",
     "output_type": "stream",
     "text": [
      "VOLKSWAGEN\n",
      "TOYOTA\n",
      "AUDI\n"
     ]
    }
   ],
   "source": [
    "#top 3 enim kasutatud auto mark\n",
    "for i in range(len(data[\"Mark\"])):\n",
    "    mark=data[\"Mark\"].iloc[i]\n",
    "    margid[str(mark)]=margid.get(str(mark))+1\n",
    "margid=dict(sorted(margid.items(), key=lambda item: item[1]))\n",
    "print(list(margid.keys())[-1])\n",
    "print(list(margid.keys())[-2])\n",
    "print(list(margid.keys())[-3])"
   ]
  },
  {
   "cell_type": "code",
   "execution_count": 23,
   "id": "6c5e0a79",
   "metadata": {},
   "outputs": [],
   "source": [
    "mudelid_vw={}\n",
    "mudelid_toyota={}\n",
    "mudelid_audi={}\n",
    "\n",
    "for i in range(len(data[\"Mudel\"])):\n",
    "    mark=data[\"Mark\"].iloc[i]\n",
    "    mudel=data[\"Mudel\"].iloc[i]\n",
    "    if str(mark) == \"VOLKSWAGEN\":\n",
    "        if str(mudel) not in mudelid_vw:\n",
    "            mudelid_vw[str(mudel)]=1\n",
    "        else:\n",
    "            mudelid_vw[str(mudel)]=mudelid_vw.get(str(mudel))+1\n",
    "    elif str(mark) == \"TOYOTA\":\n",
    "        if str(mudel) not in mudelid_toyota:\n",
    "            mudelid_toyota[str(mudel)]=1\n",
    "        else:\n",
    "            mudelid_toyota[str(mudel)]=mudelid_toyota.get(str(mudel))+1\n",
    "    elif str(mark) == \"AUDI\":\n",
    "        if str(mudel) not in mudelid_audi:\n",
    "            mudelid_audi[str(mudel)]=1\n",
    "        else:\n",
    "            mudelid_audi[str(mudel)]=mudelid_audi.get(str(mudel))+1"
   ]
  },
  {
   "cell_type": "code",
   "execution_count": 24,
   "id": "1dced717",
   "metadata": {
    "scrolled": true
   },
   "outputs": [
    {
     "name": "stdout",
     "output_type": "stream",
     "text": [
      "AUDI TOP 3: \n",
      "A6 AVANT 9395\n",
      "A4 AVANT 7399\n",
      "A4 4787\n",
      "A6 4625\n",
      "\n",
      "Volkswagen TOP 3: \n",
      "PASSAT 17205\n",
      "GOLF 12801\n",
      "PASSAT VARIANT 11543\n",
      "\n",
      "Toyota TOP 3: \n",
      "AVENSIS 14439\n",
      "COROLLA 11531\n",
      "RAV4 11394\n"
     ]
    }
   ],
   "source": [
    "mudelid_audi=dict(sorted(mudelid_audi.items(), key=lambda item: item[1]))\n",
    "mudelid_toyota=dict(sorted(mudelid_toyota.items(), key=lambda item: item[1]))\n",
    "mudelid_vw=dict(sorted(mudelid_vw.items(), key=lambda item: item[1]))\n",
    "\n",
    "print(\"AUDI TOP 3: \")\n",
    "print(list(mudelid_audi.keys())[-1] + \" \" + str(list(mudelid_audi.values())[-1]))\n",
    "print(list(mudelid_audi.keys())[-2] + \" \" + str(list(mudelid_audi.values())[-2]))\n",
    "print(list(mudelid_audi.keys())[-3] + \" \" + str(list(mudelid_audi.values())[-3]))\n",
    "print(list(mudelid_audi.keys())[-4] + \" \" + str(list(mudelid_audi.values())[-4]))\n",
    "print()\n",
    "print(\"Volkswagen TOP 3: \")\n",
    "print(list(mudelid_vw.keys())[-1] + \" \" + str(list(mudelid_vw.values())[-1]))\n",
    "print(list(mudelid_vw.keys())[-2] + \" \" + str(list(mudelid_vw.values())[-2]))\n",
    "print(list(mudelid_vw.keys())[-3] + \" \" + str(list(mudelid_vw.values())[-3]))\n",
    "print()\n",
    "print(\"Toyota TOP 3: \")\n",
    "print(list(mudelid_toyota.keys())[-1] + \" \" + str(list(mudelid_toyota.values())[-1]))\n",
    "print(list(mudelid_toyota.keys())[-2] + \" \" + str(list(mudelid_toyota.values())[-2]))\n",
    "print(list(mudelid_toyota.keys())[-3] + \" \" + str(list(mudelid_toyota.values())[-3]))"
   ]
  },
  {
   "cell_type": "code",
   "execution_count": 25,
   "id": "e80790b5",
   "metadata": {},
   "outputs": [],
   "source": [
    "mudelid_BMW={}\n",
    "for i in range(len(data[\"Mudel\"])):\n",
    "    mark=data[\"Mark\"].iloc[i]\n",
    "    mudel=data[\"Mudel\"].iloc[i]\n",
    "    if str(mark) == \"BMW\":\n",
    "        if str(mudel) not in mudelid_BMW:\n",
    "            mudelid_BMW[str(mudel)]=1\n",
    "        else:\n",
    "            mudelid_BMW[str(mudel)]=mudelid_BMW.get(str(mudel))+1\n",
    "mudelid_BMW=dict(sorted(mudelid_BMW.items(), key=lambda item: item[1]))\n"
   ]
  },
  {
   "cell_type": "code",
   "execution_count": 26,
   "id": "8be58b60",
   "metadata": {},
   "outputs": [],
   "source": [
    "#Estonian motor sizes\n",
    "mootori_maht = {}\n",
    "mootori_mahud = []\n",
    "mootoreid = []\n",
    "data[\"MOOTORI_MAHT\"] = data[\"MOOTORI_MAHT\"].fillna(0)\n",
    "for i in range(len(data[\"MOOTORI_MAHT\"])):\n",
    "    maht = data[\"MOOTORI_MAHT\"].iloc[i]\n",
    "    mahtr = round(int(maht)/1000,1)\n",
    "    if str(mahtr) not in mootori_maht:\n",
    "        mootori_maht[str(mahtr)] = 1\n",
    "    else:\n",
    "        mootori_maht[str(mahtr)]=mootori_maht.get(str(mahtr))+1\n",
    "mootori_maht=dict(sorted(mootori_maht.items(), key=lambda item: item[1]))"
   ]
  },
  {
   "cell_type": "code",
   "execution_count": 27,
   "id": "ba88e681",
   "metadata": {},
   "outputs": [],
   "source": [
    "for key, value in mootori_maht.items():\n",
    "    if int(value) > 25000:\n",
    "        mootori_mahud.append(key) \n",
    "        mootoreid.append(value)"
   ]
  },
  {
   "cell_type": "code",
   "execution_count": 28,
   "id": "0e1b5c25",
   "metadata": {},
   "outputs": [],
   "source": [
    "res = {}\n",
    "mootorcopy = mootoreid.copy()\n",
    "for key in mootori_mahud:\n",
    "    for value in mootorcopy:\n",
    "        res[key] = value\n",
    "        mootorcopy.remove(value)\n",
    "        break\n",
    "res=dict(sorted(res.items(), key=lambda item: item[1]))"
   ]
  },
  {
   "cell_type": "code",
   "execution_count": 29,
   "id": "6639f673",
   "metadata": {
    "scrolled": true
   },
   "outputs": [
    {
     "data": {
      "image/png": "[encoded data removed]",
      "text/plain": [
       "<Figure size 432x288 with 1 Axes>"
      ]
     },
     "metadata": {
      "needs_background": "light"
     },
     "output_type": "display_data"
    }
   ],
   "source": [
    "plt.bar(*zip(*res.items()))\n",
    "plt.title('Levinumad mootorimahud üh.Liiter')\n",
    "plt.ylabel('Populaarsus')\n",
    "plt.xlabel('Liitrid')\n",
    "plt.show()"
   ]
  },
  {
   "cell_type": "code",
   "execution_count": 30,
   "id": "3c2f9c06",
   "metadata": {
    "scrolled": true
   },
   "outputs": [
    {
     "data": {
      "image/png": "[encoded data removed]",
      "text/plain": [
       "<Figure size 1152x648 with 1 Axes>"
      ]
     },
     "metadata": {
      "needs_background": "light"
     },
     "output_type": "display_data"
    }
   ],
   "source": [
    "kütused = {}\n",
    "data[\"Kütusekombinatsioon\"] = data[\"Kütusekombinatsioon\"].fillna(\"TEADMATA\")\n",
    "for i in range(len(data[\"Kütusekombinatsioon\"])):\n",
    "    kütus = data[\"Kütusekombinatsioon\"].iloc[i]\n",
    "    if str(kütus) not in kütused:\n",
    "        kütused[str(kütus)] = 1\n",
    "    else:\n",
    "        kütused[str(kütus)]=kütused.get(str(kütus))+1\n",
    "kütused=dict(sorted(kütused.items(), key=lambda item: item[1]))\n",
    "kütused = dict(reversed(list(kütused.items())))\n",
    "\n",
    "fig, ax = plt.subplots(figsize =(16, 9))\n",
    "\n",
    "ax.barh(*zip(*kütused.items()))\n",
    "\n",
    "ax.set_xlabel('Levinumad kütused')\n",
    "ax.set_ylabel('Kütused')\n",
    "ax.set_title('Populaarsus')\n",
    "\n",
    "#plt.xlim([115,140])\n",
    "\n",
    "plt.show()"
   ]
  },
  {
   "cell_type": "code",
   "execution_count": 31,
   "id": "23bacb52",
   "metadata": {},
   "outputs": [
    {
     "data": {
      "image/png": "[encoded data removed]",
      "text/plain": [
       "<Figure size 1152x648 with 1 Axes>"
      ]
     },
     "metadata": {
      "needs_background": "light"
     },
     "output_type": "display_data"
    }
   ],
   "source": [
    "käigukastid = {}\n",
    "data[\"KAIGUKASTI_TYYP\"] = data[\"KAIGUKASTI_TYYP\"].fillna(\"TEADMATA\")\n",
    "for i in range(len(data[\"KAIGUKASTI_TYYP\"])):\n",
    "    käigukast = data[\"KAIGUKASTI_TYYP\"].iloc[i]\n",
    "    if str(käigukast) not in käigukastid:\n",
    "        käigukastid[str(käigukast)] = 1\n",
    "    else:\n",
    "        käigukastid[str(käigukast)]=käigukastid.get(str(käigukast))+1\n",
    "käigukastid=dict(sorted(käigukastid.items(), key=lambda item: item[1]))\n",
    "käigukastid = dict(reversed(list(käigukastid.items())))\n",
    "\n",
    "fig, ax = plt.subplots(figsize =(16, 9))\n",
    "\n",
    "ax.barh(*zip(*käigukastid.items()))\n",
    "\n",
    "ax.set_xlabel('Levinumad käigukastid')\n",
    "ax.set_ylabel('Kast')\n",
    "ax.set_title('Populaarsus')\n",
    "\n",
    "plt.show()"
   ]
  },
  {
   "cell_type": "code",
   "execution_count": 32,
   "id": "90fce4a2",
   "metadata": {},
   "outputs": [],
   "source": [
    "aastad = {}\n",
    "for i in range(len(data[\"ESMANE_REG_KP\"])):\n",
    "    aasta = int(str(data[\"ESMANE_REG_KP\"].iloc[i])[6:10])\n",
    "    if aasta not in aastad:\n",
    "        aastad[aasta] = 1\n",
    "    else:\n",
    "        aastad[aasta]=aastad.get(aasta)+1"
   ]
  },
  {
   "cell_type": "code",
   "execution_count": 33,
   "id": "05a49ad7",
   "metadata": {},
   "outputs": [],
   "source": [
    "aastad=dict(sorted(aastad.items(), key=lambda item: item[1]))\n",
    "\n",
    "aasta_vahemikud = [\"1900-1989\", \"1990-1999\", \"2000-2005\", \"2006-2010\", \"2010-2015\", \"2016-2020\", \"2021+\"]\n",
    "autode_arv_vahemikus = [0,0,0,0,0,0,0]\n",
    "\n",
    "for key, value in aastad.items():\n",
    "    if key > 1899 and key < 1990:\n",
    "        autode_arv_vahemikus[0] = autode_arv_vahemikus[0] + value\n",
    "    elif key > 1899 and key < 2000:\n",
    "        autode_arv_vahemikus[1] = autode_arv_vahemikus[1] + value\n",
    "    elif key > 1999 and key < 2006:\n",
    "        autode_arv_vahemikus[2] = autode_arv_vahemikus[2] + value\n",
    "    elif key > 2005 and key < 2011:\n",
    "        autode_arv_vahemikus[3] = autode_arv_vahemikus[3] + value\n",
    "    elif key > 2010 and key < 2016:\n",
    "        autode_arv_vahemikus[4] = autode_arv_vahemikus[4] + value\n",
    "    elif key > 2015 and key < 2021:\n",
    "        autode_arv_vahemikus[5] = autode_arv_vahemikus[5] + value\n",
    "    else:\n",
    "        autode_arv_vahemikus[6] = autode_arv_vahemikus[6] + value"
   ]
  },
  {
   "cell_type": "code",
   "execution_count": 34,
   "id": "dbc265c4",
   "metadata": {
    "scrolled": false
   },
   "outputs": [
    {
     "data": {
      "image/png": "[encoded data removed]",
      "text/plain": [
       "<Figure size 1152x648 with 1 Axes>"
      ]
     },
     "metadata": {
      "needs_background": "light"
     },
     "output_type": "display_data"
    }
   ],
   "source": [
    "fig, ax = plt.subplots(figsize =(16, 9))\n",
    "\n",
    "ax.barh(aasta_vahemikud, autode_arv_vahemikus)\n",
    "\n",
    "ax.set_xlabel('Autode arv')\n",
    "ax.set_ylabel('Aastad')\n",
    "ax.set_title('Mis aasta autodega sõidab Eesti rahvas')\n",
    "\n",
    "plt.show()"
   ]
  },
  {
   "cell_type": "code",
   "execution_count": 35,
   "id": "4bbb3936",
   "metadata": {},
   "outputs": [],
   "source": [
    "võimsuse_vahemikud = [\"0-50\", \"51-100\", \"101-150\", \"151-200\", \"201-250\", \"251+\"]\n",
    "autode_arv_võimsuse_vahemikus = [0,0,0,0,0,0]\n",
    "\n",
    "for i in range(len(data[\"MOOTORI_VOIMSUS\"])):\n",
    "    võimsus_str = str(data[\"MOOTORI_VOIMSUS\"].iloc[i])\n",
    "    if ',' in võimsus_str:\n",
    "        võimsus_str=võimsus_str.replace(\",\",\".\")\n",
    "    võimsus = float(võimsus_str)\n",
    "    if võimsus <= 50:\n",
    "        autode_arv_võimsuse_vahemikus[0] = autode_arv_võimsuse_vahemikus[0] + 1\n",
    "    elif võimsus <= 100 and võimsus > 50:\n",
    "        autode_arv_võimsuse_vahemikus[1] = autode_arv_võimsuse_vahemikus[1] + 1\n",
    "    elif võimsus <= 150 and võimsus > 100:\n",
    "        autode_arv_võimsuse_vahemikus[2] = autode_arv_võimsuse_vahemikus[2] + 1\n",
    "    elif võimsus <= 200 and võimsus > 150:\n",
    "        autode_arv_võimsuse_vahemikus[3] = autode_arv_võimsuse_vahemikus[3] + 1\n",
    "    elif võimsus <= 250 and võimsus > 200:\n",
    "        autode_arv_võimsuse_vahemikus[4] = autode_arv_võimsuse_vahemikus[4] + 1\n",
    "    else:\n",
    "        autode_arv_võimsuse_vahemikus[5] = autode_arv_võimsuse_vahemikus[5] + 1"
   ]
  },
  {
   "cell_type": "code",
   "execution_count": 36,
   "id": "e4a8a349",
   "metadata": {},
   "outputs": [
    {
     "data": {
      "image/png": "[encoded data removed]",
      "text/plain": [
       "<Figure size 1152x648 with 1 Axes>"
      ]
     },
     "metadata": {
      "needs_background": "light"
     },
     "output_type": "display_data"
    }
   ],
   "source": [
    "fig, ax = plt.subplots(figsize =(16, 9))\n",
    "\n",
    "ax.barh(võimsuse_vahemikud, autode_arv_võimsuse_vahemikus)\n",
    "\n",
    "ax.set_xlabel('Autode arv')\n",
    "ax.set_ylabel('Aastad')\n",
    "ax.set_title('Kui võimsad on Eesti rahva autod')\n",
    "\n",
    "plt.show()"
   ]
  },
  {
   "cell_type": "code",
   "execution_count": 37,
   "id": "f08d180e",
   "metadata": {},
   "outputs": [],
   "source": [
    "#BIG PREDICTION\n",
    "#tootmisaasta -> keskmise CO2 ->predictime järgnevad aastad CO2 (mis kütus)"
   ]
  },
  {
   "cell_type": "code",
   "execution_count": 38,
   "id": "3ad55f92",
   "metadata": {
    "scrolled": true
   },
   "outputs": [
    {
     "data": {
      "text/html": [
       "<div>\n",
       "<style scoped>\n",
       "    .dataframe tbody tr th:only-of-type {\n",
       "        vertical-align: middle;\n",
       "    }\n",
       "\n",
       "    .dataframe tbody tr th {\n",
       "        vertical-align: top;\n",
       "    }\n",
       "\n",
       "    .dataframe thead th {\n",
       "        text-align: right;\n",
       "    }\n",
       "</style>\n",
       "<table border=\"1\" class=\"dataframe\">\n",
       "  <thead>\n",
       "    <tr style=\"text-align: right;\">\n",
       "      <th></th>\n",
       "      <th>ESMANE_REG_KP</th>\n",
       "      <th>KAIGUKASTI_TYYP</th>\n",
       "      <th>MOOTORI_MAHT</th>\n",
       "      <th>MOOTORI_VOIMSUS</th>\n",
       "      <th>Kütusekombinatsioon</th>\n",
       "      <th>CO2_NEDC</th>\n",
       "      <th>Mark</th>\n",
       "      <th>Mudel</th>\n",
       "      <th>REG_MASS</th>\n",
       "      <th>HEITMENORM</th>\n",
       "      <th>VK/OM MAAKOND</th>\n",
       "    </tr>\n",
       "  </thead>\n",
       "  <tbody>\n",
       "    <tr>\n",
       "      <th>0</th>\n",
       "      <td>18.05.2020</td>\n",
       "      <td>AUTOMAAT</td>\n",
       "      <td>1332.0</td>\n",
       "      <td>117</td>\n",
       "      <td>BENSIIN</td>\n",
       "      <td>131.0</td>\n",
       "      <td>NISSAN</td>\n",
       "      <td>QASHQAI</td>\n",
       "      <td>1885</td>\n",
       "      <td>EURO6</td>\n",
       "      <td>HARJU MAAKOND</td>\n",
       "    </tr>\n",
       "    <tr>\n",
       "      <th>1</th>\n",
       "      <td>01.01.1938</td>\n",
       "      <td>MANUAAL</td>\n",
       "      <td>2127.0</td>\n",
       "      <td>79</td>\n",
       "      <td>BENSIIN</td>\n",
       "      <td>NaN</td>\n",
       "      <td>VAUXHALL</td>\n",
       "      <td>-</td>\n",
       "      <td>1450</td>\n",
       "      <td>NaN</td>\n",
       "      <td>PÄRNU MAAKOND</td>\n",
       "    </tr>\n",
       "    <tr>\n",
       "      <th>2</th>\n",
       "      <td>01.01.1960</td>\n",
       "      <td>MANUAAL</td>\n",
       "      <td>2445.0</td>\n",
       "      <td>55</td>\n",
       "      <td>BENSIIN</td>\n",
       "      <td>NaN</td>\n",
       "      <td>GAZ</td>\n",
       "      <td>21I</td>\n",
       "      <td>1875</td>\n",
       "      <td>NaN</td>\n",
       "      <td>TARTU MAAKOND</td>\n",
       "    </tr>\n",
       "    <tr>\n",
       "      <th>3</th>\n",
       "      <td>01.01.1969</td>\n",
       "      <td>MANUAAL</td>\n",
       "      <td>1360.0</td>\n",
       "      <td>36</td>\n",
       "      <td>BENSIIN</td>\n",
       "      <td>NaN</td>\n",
       "      <td>AZLK</td>\n",
       "      <td>408</td>\n",
       "      <td>1290</td>\n",
       "      <td>NaN</td>\n",
       "      <td>VALGA MAAKOND</td>\n",
       "    </tr>\n",
       "    <tr>\n",
       "      <th>4</th>\n",
       "      <td>01.01.1974</td>\n",
       "      <td>MANUAAL</td>\n",
       "      <td>1450.0</td>\n",
       "      <td>55</td>\n",
       "      <td>BENSIIN</td>\n",
       "      <td>210.0</td>\n",
       "      <td>VAZ</td>\n",
       "      <td>2103</td>\n",
       "      <td>1430</td>\n",
       "      <td>NaN</td>\n",
       "      <td>VÕRU MAAKOND</td>\n",
       "    </tr>\n",
       "  </tbody>\n",
       "</table>\n",
       "</div>"
      ],
      "text/plain": [
       "  ESMANE_REG_KP KAIGUKASTI_TYYP  MOOTORI_MAHT MOOTORI_VOIMSUS  \\\n",
       "0    18.05.2020        AUTOMAAT        1332.0             117   \n",
       "1    01.01.1938         MANUAAL        2127.0              79   \n",
       "2    01.01.1960         MANUAAL        2445.0              55   \n",
       "3    01.01.1969         MANUAAL        1360.0              36   \n",
       "4    01.01.1974         MANUAAL        1450.0              55   \n",
       "\n",
       "  Kütusekombinatsioon  CO2_NEDC      Mark    Mudel  REG_MASS HEITMENORM  \\\n",
       "0             BENSIIN     131.0    NISSAN  QASHQAI      1885      EURO6   \n",
       "1             BENSIIN       NaN  VAUXHALL        -      1450        NaN   \n",
       "2             BENSIIN       NaN       GAZ      21I      1875        NaN   \n",
       "3             BENSIIN       NaN      AZLK      408      1290        NaN   \n",
       "4             BENSIIN     210.0       VAZ     2103      1430        NaN   \n",
       "\n",
       "   VK/OM MAAKOND  \n",
       "0  HARJU MAAKOND  \n",
       "1  PÄRNU MAAKOND  \n",
       "2  TARTU MAAKOND  \n",
       "3  VALGA MAAKOND  \n",
       "4   VÕRU MAAKOND  "
      ]
     },
     "execution_count": 38,
     "metadata": {},
     "output_type": "execute_result"
    }
   ],
   "source": [
    "data.head()"
   ]
  },
  {
   "cell_type": "code",
   "execution_count": 59,
   "id": "6ace1f8d",
   "metadata": {},
   "outputs": [],
   "source": [
    "big_predict=data.copy()"
   ]
  },
  {
   "cell_type": "code",
   "execution_count": 60,
   "id": "b5bfe50a",
   "metadata": {},
   "outputs": [],
   "source": [
    "big_predict[\"AASTA\"]=data[\"ESMANE_REG_KP\"].str[-4:]\n",
    "big_predict=big_predict.drop([\"ESMANE_REG_KP\",\"Mark\",\"Mudel\",\"VK/OM MAAKOND\"], axis=1)\n",
    "big_predict=big_predict.dropna()"
   ]
  },
  {
   "cell_type": "code",
   "execution_count": 61,
   "id": "6a9923db",
   "metadata": {},
   "outputs": [],
   "source": [
    "big_predict=big_predict.reset_index()\n",
    "big_predict=big_predict.drop([\"index\"], axis=1)"
   ]
  },
  {
   "cell_type": "code",
   "execution_count": 62,
   "id": "7ba5eb06",
   "metadata": {},
   "outputs": [
    {
     "data": {
      "text/html": [
       "<div>\n",
       "<style scoped>\n",
       "    .dataframe tbody tr th:only-of-type {\n",
       "        vertical-align: middle;\n",
       "    }\n",
       "\n",
       "    .dataframe tbody tr th {\n",
       "        vertical-align: top;\n",
       "    }\n",
       "\n",
       "    .dataframe thead th {\n",
       "        text-align: right;\n",
       "    }\n",
       "</style>\n",
       "<table border=\"1\" class=\"dataframe\">\n",
       "  <thead>\n",
       "    <tr style=\"text-align: right;\">\n",
       "      <th></th>\n",
       "      <th>KAIGUKASTI_TYYP</th>\n",
       "      <th>MOOTORI_MAHT</th>\n",
       "      <th>MOOTORI_VOIMSUS</th>\n",
       "      <th>Kütusekombinatsioon</th>\n",
       "      <th>CO2_NEDC</th>\n",
       "      <th>REG_MASS</th>\n",
       "      <th>HEITMENORM</th>\n",
       "      <th>AASTA</th>\n",
       "    </tr>\n",
       "  </thead>\n",
       "  <tbody>\n",
       "    <tr>\n",
       "      <th>466561</th>\n",
       "      <td>KONSTANTNE_YLEKANNE</td>\n",
       "      <td>0.0</td>\n",
       "      <td>158</td>\n",
       "      <td>ELEKTER</td>\n",
       "      <td>0.0</td>\n",
       "      <td>3170</td>\n",
       "      <td>AX</td>\n",
       "      <td>2022</td>\n",
       "    </tr>\n",
       "    <tr>\n",
       "      <th>466562</th>\n",
       "      <td>AUTOMAAT</td>\n",
       "      <td>2993.0</td>\n",
       "      <td>145</td>\n",
       "      <td>DIISEL</td>\n",
       "      <td>172.0</td>\n",
       "      <td>2140</td>\n",
       "      <td>EURO4</td>\n",
       "      <td>2007</td>\n",
       "    </tr>\n",
       "    <tr>\n",
       "      <th>466563</th>\n",
       "      <td>AUTOMAAT</td>\n",
       "      <td>1997.0</td>\n",
       "      <td>125</td>\n",
       "      <td>DIISEL</td>\n",
       "      <td>193.0</td>\n",
       "      <td>3070</td>\n",
       "      <td>EURO6</td>\n",
       "      <td>2022</td>\n",
       "    </tr>\n",
       "    <tr>\n",
       "      <th>466564</th>\n",
       "      <td>MANUAAL</td>\n",
       "      <td>1199.0</td>\n",
       "      <td>81</td>\n",
       "      <td>BENSIIN</td>\n",
       "      <td>145.0</td>\n",
       "      <td>2050</td>\n",
       "      <td>EURO6</td>\n",
       "      <td>2022</td>\n",
       "    </tr>\n",
       "    <tr>\n",
       "      <th>466565</th>\n",
       "      <td>MANUAAL</td>\n",
       "      <td>1499.0</td>\n",
       "      <td>75</td>\n",
       "      <td>DIISEL</td>\n",
       "      <td>136.0</td>\n",
       "      <td>2120</td>\n",
       "      <td>EURO6</td>\n",
       "      <td>2022</td>\n",
       "    </tr>\n",
       "    <tr>\n",
       "      <th>466566</th>\n",
       "      <td>MANUAAL</td>\n",
       "      <td>1598.0</td>\n",
       "      <td>110,1</td>\n",
       "      <td>BENSIIN</td>\n",
       "      <td>153.0</td>\n",
       "      <td>2085</td>\n",
       "      <td>EURO6</td>\n",
       "      <td>2022</td>\n",
       "    </tr>\n",
       "    <tr>\n",
       "      <th>466567</th>\n",
       "      <td>AUTOMAAT</td>\n",
       "      <td>1499.0</td>\n",
       "      <td>96</td>\n",
       "      <td>DIISEL</td>\n",
       "      <td>121.0</td>\n",
       "      <td>1795</td>\n",
       "      <td>EURO6</td>\n",
       "      <td>2022</td>\n",
       "    </tr>\n",
       "    <tr>\n",
       "      <th>466568</th>\n",
       "      <td>MANUAAL</td>\n",
       "      <td>1598.0</td>\n",
       "      <td>77</td>\n",
       "      <td>DIISEL</td>\n",
       "      <td>109.0</td>\n",
       "      <td>1960</td>\n",
       "      <td>EURO5</td>\n",
       "      <td>2012</td>\n",
       "    </tr>\n",
       "    <tr>\n",
       "      <th>466569</th>\n",
       "      <td>MANUAAL</td>\n",
       "      <td>1560.0</td>\n",
       "      <td>80</td>\n",
       "      <td>DIISEL</td>\n",
       "      <td>132.0</td>\n",
       "      <td>1900</td>\n",
       "      <td>EURO4</td>\n",
       "      <td>2006</td>\n",
       "    </tr>\n",
       "    <tr>\n",
       "      <th>466570</th>\n",
       "      <td>AUTOMAAT</td>\n",
       "      <td>2400.0</td>\n",
       "      <td>120</td>\n",
       "      <td>DIISEL</td>\n",
       "      <td>199.0</td>\n",
       "      <td>2400</td>\n",
       "      <td>EURO4</td>\n",
       "      <td>2009</td>\n",
       "    </tr>\n",
       "    <tr>\n",
       "      <th>466571</th>\n",
       "      <td>AUTOMAAT</td>\n",
       "      <td>1984.0</td>\n",
       "      <td>110</td>\n",
       "      <td>DIISEL</td>\n",
       "      <td>154.0</td>\n",
       "      <td>2020</td>\n",
       "      <td>EURO5</td>\n",
       "      <td>2011</td>\n",
       "    </tr>\n",
       "    <tr>\n",
       "      <th>466572</th>\n",
       "      <td>AUTOMAAT</td>\n",
       "      <td>1499.0</td>\n",
       "      <td>96</td>\n",
       "      <td>DIISEL</td>\n",
       "      <td>135.0</td>\n",
       "      <td>2000</td>\n",
       "      <td>EURO6</td>\n",
       "      <td>2022</td>\n",
       "    </tr>\n",
       "    <tr>\n",
       "      <th>466573</th>\n",
       "      <td>AUTOMAAT</td>\n",
       "      <td>1499.0</td>\n",
       "      <td>96</td>\n",
       "      <td>DIISEL</td>\n",
       "      <td>136.0</td>\n",
       "      <td>2043</td>\n",
       "      <td>EURO6</td>\n",
       "      <td>2022</td>\n",
       "    </tr>\n",
       "    <tr>\n",
       "      <th>466574</th>\n",
       "      <td>AUTOMAAT</td>\n",
       "      <td>1968.0</td>\n",
       "      <td>176</td>\n",
       "      <td>DIISEL</td>\n",
       "      <td>159.0</td>\n",
       "      <td>2360</td>\n",
       "      <td>EURO6</td>\n",
       "      <td>2018</td>\n",
       "    </tr>\n",
       "    <tr>\n",
       "      <th>466575</th>\n",
       "      <td>AUTOMAAT</td>\n",
       "      <td>1968.0</td>\n",
       "      <td>146</td>\n",
       "      <td>DIISEL</td>\n",
       "      <td>189.0</td>\n",
       "      <td>3080</td>\n",
       "      <td>EURO6</td>\n",
       "      <td>2021</td>\n",
       "    </tr>\n",
       "    <tr>\n",
       "      <th>466576</th>\n",
       "      <td>AUTOMAAT</td>\n",
       "      <td>4969.0</td>\n",
       "      <td>351</td>\n",
       "      <td>BENSIIN</td>\n",
       "      <td>267.0</td>\n",
       "      <td>2375</td>\n",
       "      <td>EURO6</td>\n",
       "      <td>2018</td>\n",
       "    </tr>\n",
       "    <tr>\n",
       "      <th>466577</th>\n",
       "      <td>AUTOMAAT</td>\n",
       "      <td>2987.0</td>\n",
       "      <td>165</td>\n",
       "      <td>DIISEL</td>\n",
       "      <td>253.0</td>\n",
       "      <td>2895</td>\n",
       "      <td>EURO4</td>\n",
       "      <td>2007</td>\n",
       "    </tr>\n",
       "    <tr>\n",
       "      <th>466578</th>\n",
       "      <td>AUTOMAAT</td>\n",
       "      <td>1968.0</td>\n",
       "      <td>150</td>\n",
       "      <td>MUU</td>\n",
       "      <td>142.0</td>\n",
       "      <td>2510</td>\n",
       "      <td>EURO6</td>\n",
       "      <td>2022</td>\n",
       "    </tr>\n",
       "    <tr>\n",
       "      <th>466579</th>\n",
       "      <td>CVT</td>\n",
       "      <td>2494.0</td>\n",
       "      <td>133</td>\n",
       "      <td>MUU</td>\n",
       "      <td>104.0</td>\n",
       "      <td>2235</td>\n",
       "      <td>EURO6</td>\n",
       "      <td>2017</td>\n",
       "    </tr>\n",
       "    <tr>\n",
       "      <th>466580</th>\n",
       "      <td>AUTOMAAT</td>\n",
       "      <td>1950.0</td>\n",
       "      <td>143</td>\n",
       "      <td>DIISEL</td>\n",
       "      <td>102.0</td>\n",
       "      <td>2320</td>\n",
       "      <td>EURO6</td>\n",
       "      <td>2017</td>\n",
       "    </tr>\n",
       "    <tr>\n",
       "      <th>466581</th>\n",
       "      <td>AUTOMAAT</td>\n",
       "      <td>2148.0</td>\n",
       "      <td>80</td>\n",
       "      <td>DIISEL</td>\n",
       "      <td>252.0</td>\n",
       "      <td>3190</td>\n",
       "      <td>EURO4</td>\n",
       "      <td>2011</td>\n",
       "    </tr>\n",
       "    <tr>\n",
       "      <th>466582</th>\n",
       "      <td>AUTOMAAT</td>\n",
       "      <td>2993.0</td>\n",
       "      <td>190</td>\n",
       "      <td>DIISEL</td>\n",
       "      <td>154.0</td>\n",
       "      <td>2530</td>\n",
       "      <td>EURO6</td>\n",
       "      <td>2014</td>\n",
       "    </tr>\n",
       "    <tr>\n",
       "      <th>466583</th>\n",
       "      <td>AUTOMAAT</td>\n",
       "      <td>1998.0</td>\n",
       "      <td>190</td>\n",
       "      <td>BENSIIN</td>\n",
       "      <td>138.0</td>\n",
       "      <td>1740</td>\n",
       "      <td>EURO6</td>\n",
       "      <td>2022</td>\n",
       "    </tr>\n",
       "    <tr>\n",
       "      <th>466584</th>\n",
       "      <td>AUTOMAAT</td>\n",
       "      <td>1998.0</td>\n",
       "      <td>185</td>\n",
       "      <td>MUU</td>\n",
       "      <td>135.0</td>\n",
       "      <td>2360</td>\n",
       "      <td>EURO6</td>\n",
       "      <td>2022</td>\n",
       "    </tr>\n",
       "    <tr>\n",
       "      <th>466585</th>\n",
       "      <td>AUTOMAAT</td>\n",
       "      <td>1580.0</td>\n",
       "      <td>77,2</td>\n",
       "      <td>MUU</td>\n",
       "      <td>101.0</td>\n",
       "      <td>1940</td>\n",
       "      <td>EURO6</td>\n",
       "      <td>2022</td>\n",
       "    </tr>\n",
       "  </tbody>\n",
       "</table>\n",
       "</div>"
      ],
      "text/plain": [
       "            KAIGUKASTI_TYYP  MOOTORI_MAHT MOOTORI_VOIMSUS Kütusekombinatsioon  \\\n",
       "466561  KONSTANTNE_YLEKANNE           0.0             158             ELEKTER   \n",
       "466562             AUTOMAAT        2993.0             145              DIISEL   \n",
       "466563             AUTOMAAT        1997.0             125              DIISEL   \n",
       "466564              MANUAAL        1199.0              81             BENSIIN   \n",
       "466565              MANUAAL        1499.0              75              DIISEL   \n",
       "466566              MANUAAL        1598.0           110,1             BENSIIN   \n",
       "466567             AUTOMAAT        1499.0              96              DIISEL   \n",
       "466568              MANUAAL        1598.0              77              DIISEL   \n",
       "466569              MANUAAL        1560.0              80              DIISEL   \n",
       "466570             AUTOMAAT        2400.0             120              DIISEL   \n",
       "466571             AUTOMAAT        1984.0             110              DIISEL   \n",
       "466572             AUTOMAAT        1499.0              96              DIISEL   \n",
       "466573             AUTOMAAT        1499.0              96              DIISEL   \n",
       "466574             AUTOMAAT        1968.0             176              DIISEL   \n",
       "466575             AUTOMAAT        1968.0             146              DIISEL   \n",
       "466576             AUTOMAAT        4969.0             351             BENSIIN   \n",
       "466577             AUTOMAAT        2987.0             165              DIISEL   \n",
       "466578             AUTOMAAT        1968.0             150                 MUU   \n",
       "466579                  CVT        2494.0             133                 MUU   \n",
       "466580             AUTOMAAT        1950.0             143              DIISEL   \n",
       "466581             AUTOMAAT        2148.0              80              DIISEL   \n",
       "466582             AUTOMAAT        2993.0             190              DIISEL   \n",
       "466583             AUTOMAAT        1998.0             190             BENSIIN   \n",
       "466584             AUTOMAAT        1998.0             185                 MUU   \n",
       "466585             AUTOMAAT        1580.0            77,2                 MUU   \n",
       "\n",
       "        CO2_NEDC  REG_MASS HEITMENORM AASTA  \n",
       "466561       0.0      3170         AX  2022  \n",
       "466562     172.0      2140      EURO4  2007  \n",
       "466563     193.0      3070      EURO6  2022  \n",
       "466564     145.0      2050      EURO6  2022  \n",
       "466565     136.0      2120      EURO6  2022  \n",
       "466566     153.0      2085      EURO6  2022  \n",
       "466567     121.0      1795      EURO6  2022  \n",
       "466568     109.0      1960      EURO5  2012  \n",
       "466569     132.0      1900      EURO4  2006  \n",
       "466570     199.0      2400      EURO4  2009  \n",
       "466571     154.0      2020      EURO5  2011  \n",
       "466572     135.0      2000      EURO6  2022  \n",
       "466573     136.0      2043      EURO6  2022  \n",
       "466574     159.0      2360      EURO6  2018  \n",
       "466575     189.0      3080      EURO6  2021  \n",
       "466576     267.0      2375      EURO6  2018  \n",
       "466577     253.0      2895      EURO4  2007  \n",
       "466578     142.0      2510      EURO6  2022  \n",
       "466579     104.0      2235      EURO6  2017  \n",
       "466580     102.0      2320      EURO6  2017  \n",
       "466581     252.0      3190      EURO4  2011  \n",
       "466582     154.0      2530      EURO6  2014  \n",
       "466583     138.0      1740      EURO6  2022  \n",
       "466584     135.0      2360      EURO6  2022  \n",
       "466585     101.0      1940      EURO6  2022  "
      ]
     },
     "execution_count": 62,
     "metadata": {},
     "output_type": "execute_result"
    }
   ],
   "source": [
    "\n",
    "vägaoluline=[\"BENSIIN-CNG-LPG\",\"DIISEL-LPG\",\"BENSIIN-LNG\",\"ELEKTER-VESINIK\",\"BENSIIN-CNG-ETANOOL\",\"CNG-LPG\",\"LPG\",\"BENSIIN-ETANOOL-LPG\",\"BENSIIN-ETANOOL\",\"BENSIIN-ELEKTER-LPG\", \"BENSIIN-CNG\",\"DIISEL-ELEKTER\", \"BENSIIN-LPG\", \"BENSIIN-ELEKTER\"] \n",
    "for i in range(len(vägaoluline)):\n",
    "    big_predict[\"Kütusekombinatsioon\"]=big_predict[\"Kütusekombinatsioon\"].replace([vägaoluline[i]],\"MUU\")\n",
    "    \n",
    "for i in range(len(big_predict[\"HEITMENORM\"])):\n",
    "    if \"EURO 6\" in str(big_predict[\"HEITMENORM\"].iloc[i]):\n",
    "        big_predict.loc[i, \"HEITMENORM\"]=\"EURO6\"\n",
    "\n",
    "big_predict.tail(25)"
   ]
  },
  {
   "cell_type": "code",
   "execution_count": null,
   "id": "ac9706f4",
   "metadata": {},
   "outputs": [],
   "source": [
    "columns = big_predict.columns\n",
    "big_predict = pd.get_dummies(big_predict, columns=['KAIGUKASTI_TYYP', \"Kütusekombinatsioon\"])\n",
    "#big_predict=big_predict.drop(['KAIGUKASTI_TYYP', \"Kütusekombinatsioon\"], axis=1)\n",
    "big_predict.head(25)"
   ]
  },
  {
   "cell_type": "code",
   "execution_count": null,
   "id": "8bbc976d",
   "metadata": {},
   "outputs": [],
   "source": [
    "train_data = tf.data.Dataset.from_tensor_slices((x_train, y_train))\n",
    "train_data = train_data.repeat().shuffle(5000).batch(batch_size).prefetch(1)"
   ]
  },
  {
   "cell_type": "code",
   "execution_count": null,
   "id": "171b118d",
   "metadata": {},
   "outputs": [],
   "source": [
    "from sklearn.model_selection import train_test_split\n",
    "X_train, X_test, y_train, y_test = train_test_split(data.loc[:, data.columns!=\"CO2_NEDC\"],data[\"CO2_NEDC\"], test_size=0.3, random_state=1)"
   ]
  },
  {
   "cell_type": "code",
   "execution_count": null,
   "id": "56261b0f",
   "metadata": {},
   "outputs": [],
   "source": [
    "from sklearn.linear_model import LinearRegression\n",
    "genius_regression_model = LinearRegression()"
   ]
  },
  {
   "cell_type": "code",
   "execution_count": null,
   "id": "e6b0aaad",
   "metadata": {},
   "outputs": [],
   "source": [
    "x=np.array(big_predict[['AASTA','KUU']].astype(int))\n",
    "y=np.array(big_predict[\"CO2\"])\n",
    "genius_regression_model.fit(x,y)\n",
    "print(genius_regression_model.predict([[2026,8]]))"
   ]
  },
  {
   "cell_type": "code",
   "execution_count": null,
   "id": "11d5e0df",
   "metadata": {},
   "outputs": [],
   "source": [
    "big_predict.head(25)"
   ]
  }
 ],
 "metadata": {
  "kernelspec": {
   "display_name": "Python 3 (ipykernel)",
   "language": "python",
   "name": "python3"
  },
  "language_info": {
   "codemirror_mode": {
    "name": "ipython",
    "version": 3
   },
   "file_extension": ".py",
   "mimetype": "text/x-python",
   "name": "python",
   "nbconvert_exporter": "python",
   "pygments_lexer": "ipython3",
   "version": "3.9.12"
  }
 },
 "nbformat": 4,
 "nbformat_minor": 5
}
