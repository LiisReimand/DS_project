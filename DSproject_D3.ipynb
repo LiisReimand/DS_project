{
 "cells": [
  {
   "cell_type": "code",
   "execution_count": 1,
   "id": "5bd87b80",
   "metadata": {},
   "outputs": [],
   "source": [
    "import pandas as pd\n",
    "import numpy as np\n",
    "from matplotlib import pyplot as plt\n",
    "import seaborn as sns"
   ]
  },
  {
   "cell_type": "code",
   "execution_count": 2,
   "id": "92b0b7ad",
   "metadata": {},
   "outputs": [
    {
     "name": "stderr",
     "output_type": "stream",
     "text": [
      "C:\\Users\\Rait Pommer\\AppData\\Local\\Temp\\ipykernel_14000\\1789013292.py:2: DtypeWarning: Columns (8,9,21) have mixed types. Specify dtype option on import or set low_memory=False.\n",
      "  data_orig=pd.read_csv(\"soidukid.csv\",on_bad_lines='skip', sep=\";\")\n"
     ]
    }
   ],
   "source": [
    "#loeme andmed sisse\n",
    "data_orig=pd.read_csv(\"soidukid.csv\",on_bad_lines='skip', sep=\";\")"
   ]
  },
  {
   "cell_type": "code",
   "execution_count": 3,
   "id": "573b1f6f",
   "metadata": {},
   "outputs": [],
   "source": [
    "#kopeerime originaalse andmestiku\n",
    "data=data_orig.copy()"
   ]
  },
  {
   "cell_type": "code",
   "execution_count": 4,
   "id": "694a39ce",
   "metadata": {},
   "outputs": [],
   "source": [
    "#kustutame ebavajalikud andmed\n",
    "data=data[data.YLDINE_STAATUS != \"PEATATUD\"]\n",
    "data=data.reset_index()\n",
    "data=data.drop([\"Andmed seisuga\",\"index\",\"VARV\",\"ISTEKOHTI\", \"Kere nimetus\", \"ARV\",\"Kategooria\",\"Keretüüp\",\"TELGI_KOKKU\",\"TAISMASS\", \"TYHIMASS\",\"YLDINE_STAATUS\",\"EESTIS_ESMAREG_KP\", \"MOOTORI_TYYP\", \"Kütuse tüüp\", \"HYBRIIDI_TYYP\"], axis=1)"
   ]
  },
  {
   "cell_type": "code",
   "execution_count": 5,
   "id": "474abacc",
   "metadata": {},
   "outputs": [],
   "source": [
    "#asendame Nan-informatsioonilahtrid käigukastitüübis\n",
    "#Nan -> manuaal\n",
    "data[\"KAIGUKASTI_TYYP\"]=data[\"KAIGUKASTI_TYYP\"].fillna(\"MANUAAL\")"
   ]
  },
  {
   "cell_type": "code",
   "execution_count": 6,
   "id": "28aea41e",
   "metadata": {},
   "outputs": [],
   "source": [
    "#asendame puuduvad NEDC väärtused võimalusel WLTP omadega, vastasel juhul\n",
    "#eelistame NEDC\n",
    "\n",
    "for i in range(len(data[\"CO2_NEDC\"])):\n",
    "    vana=data[\"CO2_NEDC\"].iloc[i]\n",
    "    uus=data[\"CO2_WLTP\"].iloc[i]\n",
    "    if str(vana)==\"nan\" and str(uus)!=\"nan\":\n",
    "        data.loc[i,'CO2_NEDC']=int(uus)\n",
    "data=data.drop([\"CO2_WLTP\"], axis=1)        "
   ]
  },
  {
   "cell_type": "code",
   "execution_count": 7,
   "id": "710ec49e",
   "metadata": {},
   "outputs": [],
   "source": [
    "#data.to_csv('soidukid_cleaned.csv',encoding='utf-8-sig',sep=';')"
   ]
  },
  {
   "cell_type": "code",
   "execution_count": 8,
   "id": "16d38618",
   "metadata": {},
   "outputs": [],
   "source": [
    "#VAZ-de CO2_NEDC NaN väärtused asendame 210-ga, kuna antud autod omavad sama mootorit\n",
    "for i in range(len(data[\"CO2_NEDC\"])):\n",
    "    mark=data[\"Mark\"].iloc[i]\n",
    "    if str(mark)==\"VAZ\":\n",
    "        data.loc[i,'CO2_NEDC']=210"
   ]
  },
  {
   "cell_type": "code",
   "execution_count": 9,
   "id": "f8c4d45c",
   "metadata": {},
   "outputs": [],
   "source": [
    "#Vaatame autosid, millel on CO2 NaN-valued\n",
    "#for i in range(len(data[\"CO2_NEDC\"])):\n",
    " #  mark=data[\"Mark\"].iloc[i]\n",
    "  #  maht=data[\"MOOTORI_MAHT\"].iloc[i]\n",
    "   # tüüp=data[\"Kütusekombinatsioon\"].iloc[i]\n",
    "    #if str(NEDC)==\"nan\" and str(mark)==\"BMW\":\n",
    "     #   print(str(data[\"Mark\"].iloc[i])+ \" \" + str(data[\"Mudel\"].iloc[i]) + \" \" + str(maht) + \" \" + str(tüüp))"
   ]
  },
  {
   "cell_type": "code",
   "execution_count": 10,
   "id": "e0728212",
   "metadata": {},
   "outputs": [],
   "source": [
    "#Peamised mootorid ning nende CO2_NEDC, et vähendada NaN valuesid CO2 tulbas\n",
    "motoras_VW={1968.0:146.0, 1896.0:162.0, 2461.0:171.0, 2771.0:255.0, 2967.0:180.0 ,1781.0:190.0, 2792.0:278.0}\n",
    "motoras_BMW={1596.0:171.6, 1991.0:165.3, 2979.0:169.0, 2993.0:170.0, 2926.0:178.0, 1995.0:153.0, 1796.0:208.0, 1950.0:158.0}"
   ]
  },
  {
   "cell_type": "code",
   "execution_count": 11,
   "id": "5a88ce84",
   "metadata": {},
   "outputs": [],
   "source": [
    "#Asendame NaN-valued võimalusel Volkswageni ja Audi peamiste mootorite CO2 reostustasemed\n",
    "for i in range(len(data[\"CO2_NEDC\"])):\n",
    "    mootor=data[\"MOOTORI_MAHT\"].iloc[i]\n",
    "    NEDC=data[\"CO2_NEDC\"].iloc[i]\n",
    "    mark=data[\"Mark\"].iloc[i]\n",
    "    if str(NEDC)==\"nan\" and float(mootor) in motoras_VW.keys() and (str(mark)==\"VOLKSWAGEN\" or str(mark)==\"AUDI\"):\n",
    "        data.loc[i,'CO2_NEDC']=int(motoras_VW.get(float(mootor)))"
   ]
  },
  {
   "cell_type": "code",
   "execution_count": 12,
   "id": "4af53edf",
   "metadata": {},
   "outputs": [],
   "source": [
    "#Asendame NaN-valued võimalusel BMW peamiste mootorite CO2 reostustasemed\n",
    "for i in range(len(data[\"CO2_NEDC\"])):\n",
    "    mootor=data[\"MOOTORI_MAHT\"].iloc[i]\n",
    "    NEDC=data[\"CO2_NEDC\"].iloc[i]\n",
    "    mark=data[\"Mark\"].iloc[i]\n",
    "    if str(NEDC)==\"nan\" and float(mootor) in motoras_BMW.keys() and str(mark)==\"BMW\":\n",
    "        data.loc[i,'CO2_NEDC']=int(motoras_BMW.get(float(mootor)))"
   ]
  },
  {
   "cell_type": "code",
   "execution_count": 13,
   "id": "c51cae12",
   "metadata": {},
   "outputs": [],
   "source": [
    "#Asendame NaN-valued elektri-autodel nulliga\n",
    "for i in range(len(data[\"CO2_NEDC\"])):\n",
    "    kütus=data[\"Kütusekombinatsioon\"].iloc[i]\n",
    "    NEDC=data[\"CO2_NEDC\"].iloc[i]\n",
    "    if str(NEDC)==\"nan\" and str(kütus)==\"ELEKTER\":\n",
    "        data.loc[i,'CO2_NEDC']=0"
   ]
  },
  {
   "cell_type": "code",
   "execution_count": 14,
   "id": "6d5136b1",
   "metadata": {},
   "outputs": [],
   "source": [
    "brändid={}\n",
    "for i in range(len(data[\"CO2_NEDC\"])):\n",
    "    NEDC=data[\"CO2_NEDC\"].iloc[i]\n",
    "    if str(NEDC)==\"nan\":\n",
    "        if str(data[\"Mark\"].iloc[i]) in brändid.keys():\n",
    "            brändid[str(data[\"Mark\"].iloc[i])]= int(brändid.get(str(data[\"Mark\"].iloc[i])))+1\n",
    "        else:\n",
    "            brändid[str(data[\"Mark\"].iloc[i])]= 1             \n",
    "brändid=dict(sorted(brändid.items(), key=lambda item: item[1]))\n",
    "#print(brändid)"
   ]
  },
  {
   "cell_type": "code",
   "execution_count": 15,
   "id": "b246337b",
   "metadata": {},
   "outputs": [],
   "source": [
    "#Asendame vigased maakonna nimed\n",
    "tundmatud=['L��NE-VIRU MAAKOND', 'P�RNU MAAKOND', 'J�RVA MAAKOND', 'P�LVA MAAKOND', 'V�RU MAAKOND']\n",
    "asendused=[\"LÄÄNE-VIRU MAAKOND\", \"PÄRNU MAAKOND\", \"JÄRVA MAAKOND\", \"PÕLVA MAAKOND\", \"VÕRU MAAKOND\"]\n",
    "\n",
    "for i in range(len(tundmatud)):\n",
    "    data[\"VK/OM MAAKOND\"]=data[\"VK/OM MAAKOND\"].replace([tundmatud[i]],asendused[i])\n",
    "    \n",
    "MAAKONNAD=[]\n",
    "for i in range(len(data[\"VK/OM MAAKOND\"])):\n",
    "    maakond=data[\"VK/OM MAAKOND\"].iloc[i]\n",
    "    if str(maakond) not in MAAKONNAD:\n",
    "        MAAKONNAD.append(str(maakond))"
   ]
  },
  {
   "cell_type": "code",
   "execution_count": 16,
   "id": "b10abda6",
   "metadata": {
    "scrolled": true
   },
   "outputs": [
    {
     "name": "stdout",
     "output_type": "stream",
     "text": [
      "Passateid Eestis 29301\n",
      "{'HARJU MAAKOND': 280845, 'PÄRNU MAAKOND': 42348, 'TARTU MAAKOND': 74519, 'VALGA MAAKOND': 14728, 'VÕRU MAAKOND': 20143, 'HIIU MAAKOND': 6318, 'PÕLVA MAAKOND': 15134, 'SAARE MAAKOND': 20130, 'LÄÄNE-VIRU MAAKOND': 29368, 'IDA-VIRU MAAKOND': 48535, 'JÕGEVA MAAKOND': 14728, 'LÄÄNE MAAKOND': 10947, 'RAPLA MAAKOND': 18884, 'VILJANDI MAAKOND': 24338, 'JÄRVA MAAKOND': 15797, 'MÄÄRAMATA': 11557}\n",
      "{'HARJU MAAKOND': 8836, 'PÄRNU MAAKOND': 2019, 'TARTU MAAKOND': 4345, 'VALGA MAAKOND': 1059, 'VÕRU MAAKOND': 1847, 'HIIU MAAKOND': 279, 'PÕLVA MAAKOND': 1433, 'SAARE MAAKOND': 808, 'LÄÄNE-VIRU MAAKOND': 1323, 'IDA-VIRU MAAKOND': 2105, 'JÕGEVA MAAKOND': 1000, 'LÄÄNE MAAKOND': 481, 'RAPLA MAAKOND': 884, 'VILJANDI MAAKOND': 1466, 'JÄRVA MAAKOND': 828, 'MÄÄRAMATA': 588}\n"
     ]
    }
   ],
   "source": [
    "autod_maakonnas={'HARJU MAAKOND':0, 'PÄRNU MAAKOND':0, 'TARTU MAAKOND':0, 'VALGA MAAKOND':0, 'VÕRU MAAKOND':0, 'HIIU MAAKOND':0, 'PÕLVA MAAKOND':0, 'SAARE MAAKOND':0, 'LÄÄNE-VIRU MAAKOND':0, 'IDA-VIRU MAAKOND':0, 'JÕGEVA MAAKOND':0, 'LÄÄNE MAAKOND':0, 'RAPLA MAAKOND':0, 'VILJANDI MAAKOND':0, 'JÄRVA MAAKOND':0, 'MÄÄRAMATA':0}\n",
    "passatid_maakonnas={'HARJU MAAKOND':0, 'PÄRNU MAAKOND':0, 'TARTU MAAKOND':0, 'VALGA MAAKOND':0, 'VÕRU MAAKOND':0, 'HIIU MAAKOND':0, 'PÕLVA MAAKOND':0, 'SAARE MAAKOND':0, 'LÄÄNE-VIRU MAAKOND':0, 'IDA-VIRU MAAKOND':0, 'JÕGEVA MAAKOND':0, 'LÄÄNE MAAKOND':0, 'RAPLA MAAKOND':0, 'VILJANDI MAAKOND':0, 'JÄRVA MAAKOND':0, 'MÄÄRAMATA':0}\n",
    "passatid_kokku=0\n",
    "\n",
    "for i in range(len(data[\"VK/OM MAAKOND\"])):\n",
    "    mudel=data[\"Mudel\"].iloc[i]\n",
    "    maakond=data[\"VK/OM MAAKOND\"].iloc[i]\n",
    "    autod_maakonnas[str(maakond)]= int(autod_maakonnas.get(str(maakond)))+1\n",
    "    if \"PASSAT\" in str(mudel):\n",
    "        passatid_kokku+=1\n",
    "        passatid_maakonnas[str(maakond)]= int(passatid_maakonnas.get(str(maakond)))+1\n",
    "\n",
    "print(\"Passateid Eestis \" + str(passatid_kokku))\n",
    "print(autod_maakonnas)\n",
    "print(passatid_maakonnas)"
   ]
  },
  {
   "cell_type": "code",
   "execution_count": 17,
   "id": "750da0d1",
   "metadata": {
    "scrolled": true
   },
   "outputs": [
    {
     "name": "stdout",
     "output_type": "stream",
     "text": [
      "Passateid HARJU MAAKOND 3.15 %\n",
      "Passateid PÄRNU MAAKOND 4.77 %\n",
      "Passateid TARTU MAAKOND 5.83 %\n",
      "Passateid VALGA MAAKOND 7.19 %\n",
      "Passateid VÕRU MAAKOND 9.17 %\n",
      "Passateid HIIU MAAKOND 4.42 %\n",
      "Passateid PÕLVA MAAKOND 9.47 %\n",
      "Passateid SAARE MAAKOND 4.01 %\n",
      "Passateid LÄÄNE-VIRU MAAKOND 4.5 %\n",
      "Passateid IDA-VIRU MAAKOND 4.34 %\n",
      "Passateid JÕGEVA MAAKOND 6.79 %\n",
      "Passateid LÄÄNE MAAKOND 4.39 %\n",
      "Passateid RAPLA MAAKOND 4.68 %\n",
      "Passateid VILJANDI MAAKOND 6.02 %\n",
      "Passateid JÄRVA MAAKOND 5.24 %\n",
      "Passateid MÄÄRAMATA 5.09 %\n"
     ]
    }
   ],
   "source": [
    "for i in range(len(autod_maakonnas)):\n",
    "    print(\"Passateid \" + str(MAAKONNAD[i]) +\" \"+ str(round((passatid_maakonnas.get(MAAKONNAD[i])/autod_maakonnas.get(MAAKONNAD[i]))*100,2))+ \" %\")"
   ]
  },
  {
   "cell_type": "code",
   "execution_count": 18,
   "id": "a0dbf631",
   "metadata": {},
   "outputs": [],
   "source": [
    "CO2_maakonnas={'HARJU MAAKOND':0, 'PÄRNU MAAKOND':0, 'TARTU MAAKOND':0, 'VALGA MAAKOND':0, 'VÕRU MAAKOND':0, 'HIIU MAAKOND':0, 'PÕLVA MAAKOND':0, 'SAARE MAAKOND':0, 'LÄÄNE-VIRU MAAKOND':0, 'IDA-VIRU MAAKOND':0, 'JÕGEVA MAAKOND':0, 'LÄÄNE MAAKOND':0, 'RAPLA MAAKOND':0, 'VILJANDI MAAKOND':0, 'JÄRVA MAAKOND':0, 'MÄÄRAMATA':0}\n",
    "\n",
    "for i in range(len(data[\"CO2_NEDC\"])):\n",
    "    maakond=data[\"VK/OM MAAKOND\"].iloc[i]\n",
    "    co=data[\"CO2_NEDC\"].iloc[i]\n",
    "    if str(co)!=\"nan\":\n",
    "        CO2_maakonnas[str(maakond)]= float(CO2_maakonnas.get(str(maakond))) + float(data[\"CO2_NEDC\"].iloc[i])"
   ]
  },
  {
   "cell_type": "code",
   "execution_count": 19,
   "id": "e0cb747f",
   "metadata": {
    "scrolled": true
   },
   "outputs": [
    {
     "name": "stdout",
     "output_type": "stream",
     "text": [
      "CO2 reostus: HARJU MAAKOND 135.39 g/km\n",
      "CO2 reostus: PÄRNU MAAKOND 130.22 g/km\n",
      "CO2 reostus: TARTU MAAKOND 132.23 g/km\n",
      "CO2 reostus: VALGA MAAKOND 128.28 g/km\n",
      "CO2 reostus: VÕRU MAAKOND 126.91 g/km\n",
      "CO2 reostus: HIIU MAAKOND 126.16 g/km\n",
      "CO2 reostus: PÕLVA MAAKOND 125.81 g/km\n",
      "CO2 reostus: SAARE MAAKOND 123.84 g/km\n",
      "CO2 reostus: LÄÄNE-VIRU MAAKOND 128.83 g/km\n",
      "CO2 reostus: IDA-VIRU MAAKOND 136.76 g/km\n",
      "CO2 reostus: JÕGEVA MAAKOND 128.85 g/km\n",
      "CO2 reostus: LÄÄNE MAAKOND 127.26 g/km\n",
      "CO2 reostus: RAPLA MAAKOND 129.13 g/km\n",
      "CO2 reostus: VILJANDI MAAKOND 127.29 g/km\n",
      "CO2 reostus: JÄRVA MAAKOND 129.86 g/km\n",
      "CO2 reostus: MÄÄRAMATA 134.01 g/km\n"
     ]
    }
   ],
   "source": [
    "CO2_maakonniti=[]\n",
    "for i in range(len(autod_maakonnas)):\n",
    "    print(\"CO2 reostus: \" + str(MAAKONNAD[i]) +\" \"+ str(round((CO2_maakonnas.get(MAAKONNAD[i])/autod_maakonnas.get(MAAKONNAD[i])),2))+ \" g/km\")\n",
    "    CO2_maakonniti.append(round((CO2_maakonnas.get(MAAKONNAD[i])/autod_maakonnas.get(MAAKONNAD[i])),2))"
   ]
  },
  {
   "cell_type": "code",
   "execution_count": 20,
   "id": "968a09f9",
   "metadata": {
    "scrolled": true
   },
   "outputs": [
    {
     "data": {
      "image/png": "[encoded data removed]",
      "text/plain": [
       "<Figure size 1152x648 with 1 Axes>"
      ]
     },
     "metadata": {
      "needs_background": "light"
     },
     "output_type": "display_data"
    }
   ],
   "source": [
    "fig, ax = plt.subplots(figsize =(16, 9))\n",
    "\n",
    "ax.barh(MAAKONNAD, CO2_maakonniti)\n",
    "\n",
    "ax.set_xlabel('CO2 emissions (g/km)')\n",
    "ax.set_ylabel('Counties')\n",
    "ax.set_title('Average CO2 emissions by car in county')\n",
    "\n",
    "plt.xlim([115,140])\n",
    "\n",
    "plt.show()"
   ]
  },
  {
   "cell_type": "code",
   "execution_count": 21,
   "id": "ed66caeb",
   "metadata": {},
   "outputs": [],
   "source": [
    "margid={}\n",
    "for i in range(len(data[\"Mark\"])):\n",
    "    mark=data[\"Mark\"].iloc[i]\n",
    "    if str(mark) not in margid:\n",
    "        margid[str(mark)]=1  "
   ]
  },
  {
   "cell_type": "code",
   "execution_count": 22,
   "id": "c8085898",
   "metadata": {},
   "outputs": [
    {
     "name": "stdout",
     "output_type": "stream",
     "text": [
      "VOLKSWAGEN\n",
      "TOYOTA\n",
      "AUDI\n"
     ]
    }
   ],
   "source": [
    "#top 3 enim kasutatud auto mark\n",
    "for i in range(len(data[\"Mark\"])):\n",
    "    mark=data[\"Mark\"].iloc[i]\n",
    "    margid[str(mark)]=margid.get(str(mark))+1\n",
    "margid=dict(sorted(margid.items(), key=lambda item: item[1]))\n",
    "print(list(margid.keys())[-1])\n",
    "print(list(margid.keys())[-2])\n",
    "print(list(margid.keys())[-3])"
   ]
  },
  {
   "cell_type": "code",
   "execution_count": 23,
   "id": "6c5e0a79",
   "metadata": {},
   "outputs": [],
   "source": [
    "mudelid_vw={}\n",
    "mudelid_toyota={}\n",
    "mudelid_audi={}\n",
    "\n",
    "for i in range(len(data[\"Mudel\"])):\n",
    "    mark=data[\"Mark\"].iloc[i]\n",
    "    mudel=data[\"Mudel\"].iloc[i]\n",
    "    if str(mark) == \"VOLKSWAGEN\":\n",
    "        if str(mudel) not in mudelid_vw:\n",
    "            mudelid_vw[str(mudel)]=1\n",
    "        else:\n",
    "            mudelid_vw[str(mudel)]=mudelid_vw.get(str(mudel))+1\n",
    "    elif str(mark) == \"TOYOTA\":\n",
    "        if str(mudel) not in mudelid_toyota:\n",
    "            mudelid_toyota[str(mudel)]=1\n",
    "        else:\n",
    "            mudelid_toyota[str(mudel)]=mudelid_toyota.get(str(mudel))+1\n",
    "    elif str(mark) == \"AUDI\":\n",
    "        if str(mudel) not in mudelid_audi:\n",
    "            mudelid_audi[str(mudel)]=1\n",
    "        else:\n",
    "            mudelid_audi[str(mudel)]=mudelid_audi.get(str(mudel))+1"
   ]
  },
  {
   "cell_type": "code",
   "execution_count": 24,
   "id": "1dced717",
   "metadata": {
    "scrolled": true
   },
   "outputs": [
    {
     "name": "stdout",
     "output_type": "stream",
     "text": [
      "AUDI TOP 3: \n",
      "A6 AVANT 9388\n",
      "A4 AVANT 7386\n",
      "A4 4823\n",
      "A6 4654\n",
      "\n",
      "Volkswagen TOP 3: \n",
      "PASSAT 17186\n",
      "GOLF 12824\n",
      "PASSAT VARIANT 11602\n",
      "\n",
      "Toyota TOP 3: \n",
      "AVENSIS 14472\n",
      "COROLLA 11504\n",
      "RAV4 11358\n"
     ]
    }
   ],
   "source": [
    "mudelid_audi=dict(sorted(mudelid_audi.items(), key=lambda item: item[1]))\n",
    "mudelid_toyota=dict(sorted(mudelid_toyota.items(), key=lambda item: item[1]))\n",
    "mudelid_vw=dict(sorted(mudelid_vw.items(), key=lambda item: item[1]))\n",
    "\n",
    "print(\"AUDI TOP 3: \")\n",
    "print(list(mudelid_audi.keys())[-1] + \" \" + str(list(mudelid_audi.values())[-1]))\n",
    "print(list(mudelid_audi.keys())[-2] + \" \" + str(list(mudelid_audi.values())[-2]))\n",
    "print(list(mudelid_audi.keys())[-3] + \" \" + str(list(mudelid_audi.values())[-3]))\n",
    "print(list(mudelid_audi.keys())[-4] + \" \" + str(list(mudelid_audi.values())[-4]))\n",
    "print()\n",
    "print(\"Volkswagen TOP 3: \")\n",
    "print(list(mudelid_vw.keys())[-1] + \" \" + str(list(mudelid_vw.values())[-1]))\n",
    "print(list(mudelid_vw.keys())[-2] + \" \" + str(list(mudelid_vw.values())[-2]))\n",
    "print(list(mudelid_vw.keys())[-3] + \" \" + str(list(mudelid_vw.values())[-3]))\n",
    "print()\n",
    "print(\"Toyota TOP 3: \")\n",
    "print(list(mudelid_toyota.keys())[-1] + \" \" + str(list(mudelid_toyota.values())[-1]))\n",
    "print(list(mudelid_toyota.keys())[-2] + \" \" + str(list(mudelid_toyota.values())[-2]))\n",
    "print(list(mudelid_toyota.keys())[-3] + \" \" + str(list(mudelid_toyota.values())[-3]))"
   ]
  },
  {
   "cell_type": "code",
   "execution_count": 25,
   "id": "e80790b5",
   "metadata": {},
   "outputs": [],
   "source": [
    "mudelid_BMW={}\n",
    "for i in range(len(data[\"Mudel\"])):\n",
    "    mark=data[\"Mark\"].iloc[i]\n",
    "    mudel=data[\"Mudel\"].iloc[i]\n",
    "    if str(mark) == \"BMW\":\n",
    "        if str(mudel) not in mudelid_BMW:\n",
    "            mudelid_BMW[str(mudel)]=1\n",
    "        else:\n",
    "            mudelid_BMW[str(mudel)]=mudelid_BMW.get(str(mudel))+1\n",
    "mudelid_BMW=dict(sorted(mudelid_BMW.items(), key=lambda item: item[1]))\n"
   ]
  },
  {
   "cell_type": "code",
   "execution_count": 26,
   "id": "8be58b60",
   "metadata": {},
   "outputs": [],
   "source": [
    "#Estonian motor sizes\n",
    "mootori_maht = {}\n",
    "mootori_mahud = []\n",
    "mootoreid = []\n",
    "data[\"MOOTORI_MAHT\"] = data[\"MOOTORI_MAHT\"].fillna(0)\n",
    "for i in range(len(data[\"MOOTORI_MAHT\"])):\n",
    "    maht = data[\"MOOTORI_MAHT\"].iloc[i]\n",
    "    mahtr = round(int(maht)/1000,1)\n",
    "    if str(mahtr) not in mootori_maht:\n",
    "        mootori_maht[str(mahtr)] = 1\n",
    "    else:\n",
    "        mootori_maht[str(mahtr)]=mootori_maht.get(str(mahtr))+1\n",
    "mootori_maht=dict(sorted(mootori_maht.items(), key=lambda item: item[1]))"
   ]
  },
  {
   "cell_type": "code",
   "execution_count": 27,
   "id": "ba88e681",
   "metadata": {},
   "outputs": [],
   "source": [
    "for key, value in mootori_maht.items():\n",
    "    if int(value) > 25000:\n",
    "        mootori_mahud.append(key) \n",
    "        mootoreid.append(value)"
   ]
  },
  {
   "cell_type": "code",
   "execution_count": 28,
   "id": "0e1b5c25",
   "metadata": {},
   "outputs": [],
   "source": [
    "res = {}\n",
    "mootorcopy = mootoreid.copy()\n",
    "for key in mootori_mahud:\n",
    "    for value in mootorcopy:\n",
    "        res[key] = value\n",
    "        mootorcopy.remove(value)\n",
    "        break\n",
    "res=dict(sorted(res.items(), key=lambda item: item[1]))"
   ]
  },
  {
   "cell_type": "code",
   "execution_count": 29,
   "id": "6639f673",
   "metadata": {
    "scrolled": true
   },
   "outputs": [
    {
     "data": {
      "image/png": "[encoded data removed]",
      "text/plain": [
       "<Figure size 432x288 with 1 Axes>"
      ]
     },
     "metadata": {
      "needs_background": "light"
     },
     "output_type": "display_data"
    }
   ],
   "source": [
    "plt.bar(*zip(*res.items()))\n",
    "plt.title('Levinumad mootorimahud üh.Liiter')\n",
    "plt.ylabel('Populaarsus')\n",
    "plt.xlabel('Liitrid')\n",
    "plt.show()"
   ]
  },
  {
   "cell_type": "code",
   "execution_count": 30,
   "id": "3c2f9c06",
   "metadata": {
    "scrolled": true
   },
   "outputs": [
    {
     "data": {
      "image/png": "[encoded data removed]",
      "text/plain": [
       "<Figure size 1152x648 with 1 Axes>"
      ]
     },
     "metadata": {
      "needs_background": "light"
     },
     "output_type": "display_data"
    }
   ],
   "source": [
    "kütused = {}\n",
    "data[\"Kütusekombinatsioon\"] = data[\"Kütusekombinatsioon\"].fillna(\"TEADMATA\")\n",
    "for i in range(len(data[\"Kütusekombinatsioon\"])):\n",
    "    kütus = data[\"Kütusekombinatsioon\"].iloc[i]\n",
    "    if str(kütus) not in kütused:\n",
    "        kütused[str(kütus)] = 1\n",
    "    else:\n",
    "        kütused[str(kütus)]=kütused.get(str(kütus))+1\n",
    "kütused=dict(sorted(kütused.items(), key=lambda item: item[1]))\n",
    "kütused = dict(reversed(list(kütused.items())))\n",
    "\n",
    "fig, ax = plt.subplots(figsize =(16, 9))\n",
    "\n",
    "ax.barh(*zip(*kütused.items()))\n",
    "\n",
    "ax.set_xlabel('Levinumad kütused')\n",
    "ax.set_ylabel('Kütused')\n",
    "ax.set_title('Populaarsus')\n",
    "\n",
    "#plt.xlim([115,140])\n",
    "\n",
    "plt.show()"
   ]
  },
  {
   "cell_type": "code",
   "execution_count": 31,
   "id": "23bacb52",
   "metadata": {},
   "outputs": [
    {
     "data": {
      "image/png": "[encoded data removed]",
      "text/plain": [
       "<Figure size 1152x648 with 1 Axes>"
      ]
     },
     "metadata": {
      "needs_background": "light"
     },
     "output_type": "display_data"
    }
   ],
   "source": [
    "käigukastid = {}\n",
    "data[\"KAIGUKASTI_TYYP\"] = data[\"KAIGUKASTI_TYYP\"].fillna(\"TEADMATA\")\n",
    "for i in range(len(data[\"KAIGUKASTI_TYYP\"])):\n",
    "    käigukast = data[\"KAIGUKASTI_TYYP\"].iloc[i]\n",
    "    if str(käigukast) not in käigukastid:\n",
    "        käigukastid[str(käigukast)] = 1\n",
    "    else:\n",
    "        käigukastid[str(käigukast)]=käigukastid.get(str(käigukast))+1\n",
    "käigukastid=dict(sorted(käigukastid.items(), key=lambda item: item[1]))\n",
    "käigukastid = dict(reversed(list(käigukastid.items())))\n",
    "\n",
    "fig, ax = plt.subplots(figsize =(16, 9))\n",
    "\n",
    "ax.barh(*zip(*käigukastid.items()))\n",
    "\n",
    "ax.set_xlabel('Levinumad käigukastid')\n",
    "ax.set_ylabel('Kast')\n",
    "ax.set_title('Populaarsus')\n",
    "\n",
    "plt.show()"
   ]
  },
  {
   "cell_type": "code",
   "execution_count": 32,
   "id": "90fce4a2",
   "metadata": {},
   "outputs": [],
   "source": [
    "aastad = {}\n",
    "for i in range(len(data[\"ESMANE_REG_KP\"])):\n",
    "    aasta = int(str(data[\"ESMANE_REG_KP\"].iloc[i])[6:10])\n",
    "    if aasta not in aastad:\n",
    "        aastad[aasta] = 1\n",
    "    else:\n",
    "        aastad[aasta]=aastad.get(aasta)+1"
   ]
  },
  {
   "cell_type": "code",
   "execution_count": 33,
   "id": "05a49ad7",
   "metadata": {},
   "outputs": [],
   "source": [
    "aastad=dict(sorted(aastad.items(), key=lambda item: item[1]))\n",
    "\n",
    "aasta_vahemikud = [\"1900-1989\", \"1990-1999\", \"2000-2005\", \"2006-2010\", \"2010-2015\", \"2016-2020\", \"2021+\"]\n",
    "autode_arv_vahemikus = [0,0,0,0,0,0,0]\n",
    "\n",
    "for key, value in aastad.items():\n",
    "    if key > 1899 and key < 1990:\n",
    "        autode_arv_vahemikus[0] = autode_arv_vahemikus[0] + value\n",
    "    elif key > 1899 and key < 2000:\n",
    "        autode_arv_vahemikus[1] = autode_arv_vahemikus[1] + value\n",
    "    elif key > 1999 and key < 2006:\n",
    "        autode_arv_vahemikus[2] = autode_arv_vahemikus[2] + value\n",
    "    elif key > 2005 and key < 2011:\n",
    "        autode_arv_vahemikus[3] = autode_arv_vahemikus[3] + value\n",
    "    elif key > 2010 and key < 2016:\n",
    "        autode_arv_vahemikus[4] = autode_arv_vahemikus[4] + value\n",
    "    elif key > 2015 and key < 2021:\n",
    "        autode_arv_vahemikus[5] = autode_arv_vahemikus[5] + value\n",
    "    else:\n",
    "        autode_arv_vahemikus[6] = autode_arv_vahemikus[6] + value"
   ]
  },
  {
   "cell_type": "code",
   "execution_count": 34,
   "id": "dbc265c4",
   "metadata": {
    "scrolled": false
   },
   "outputs": [
    {
     "data": {
      "image/png": "[encoded data removed]",
      "text/plain": [
       "<Figure size 1152x648 with 1 Axes>"
      ]
     },
     "metadata": {
      "needs_background": "light"
     },
     "output_type": "display_data"
    }
   ],
   "source": [
    "fig, ax = plt.subplots(figsize =(16, 9))\n",
    "\n",
    "ax.barh(aasta_vahemikud, autode_arv_vahemikus)\n",
    "\n",
    "ax.set_xlabel('Autode arv')\n",
    "ax.set_ylabel('Aastad')\n",
    "ax.set_title('Mis aasta autodega sõidab Eesti rahvas')\n",
    "\n",
    "plt.show()"
   ]
  },
  {
   "cell_type": "code",
   "execution_count": 35,
   "id": "4bbb3936",
   "metadata": {},
   "outputs": [],
   "source": [
    "võimsuse_vahemikud = [\"0-50\", \"51-100\", \"101-150\", \"151-200\", \"201-250\", \"251+\"]\n",
    "autode_arv_võimsuse_vahemikus = [0,0,0,0,0,0]\n",
    "\n",
    "for i in range(len(data[\"MOOTORI_VOIMSUS\"])):\n",
    "    võimsus_str = str(data[\"MOOTORI_VOIMSUS\"].iloc[i])\n",
    "    if ',' in võimsus_str:\n",
    "        võimsus_str=võimsus_str.replace(\",\",\".\")\n",
    "    võimsus = float(võimsus_str)\n",
    "    if võimsus <= 50:\n",
    "        autode_arv_võimsuse_vahemikus[0] = autode_arv_võimsuse_vahemikus[0] + 1\n",
    "    elif võimsus <= 100 and võimsus > 50:\n",
    "        autode_arv_võimsuse_vahemikus[1] = autode_arv_võimsuse_vahemikus[1] + 1\n",
    "    elif võimsus <= 150 and võimsus > 100:\n",
    "        autode_arv_võimsuse_vahemikus[2] = autode_arv_võimsuse_vahemikus[2] + 1\n",
    "    elif võimsus <= 200 and võimsus > 150:\n",
    "        autode_arv_võimsuse_vahemikus[3] = autode_arv_võimsuse_vahemikus[3] + 1\n",
    "    elif võimsus <= 250 and võimsus > 200:\n",
    "        autode_arv_võimsuse_vahemikus[4] = autode_arv_võimsuse_vahemikus[4] + 1\n",
    "    else:\n",
    "        autode_arv_võimsuse_vahemikus[5] = autode_arv_võimsuse_vahemikus[5] + 1"
   ]
  },
  {
   "cell_type": "code",
   "execution_count": 36,
   "id": "e4a8a349",
   "metadata": {},
   "outputs": [
    {
     "data": {
      "image/png": "[encoded data removed]",
      "text/plain": [
       "<Figure size 1152x648 with 1 Axes>"
      ]
     },
     "metadata": {
      "needs_background": "light"
     },
     "output_type": "display_data"
    }
   ],
   "source": [
    "fig, ax = plt.subplots(figsize =(16, 9))\n",
    "\n",
    "ax.barh(võimsuse_vahemikud, autode_arv_võimsuse_vahemikus)\n",
    "\n",
    "ax.set_xlabel('Autode arv')\n",
    "ax.set_ylabel('Aastad')\n",
    "ax.set_title('Kui võimsad on Eesti rahva autod')\n",
    "\n",
    "plt.show()"
   ]
  },
  {
   "cell_type": "code",
   "execution_count": null,
   "id": "f08d180e",
   "metadata": {},
   "outputs": [],
   "source": []
  }
 ],
 "metadata": {
  "kernelspec": {
   "display_name": "Python 3 (ipykernel)",
   "language": "python",
   "name": "python3"
  },
  "language_info": {
   "codemirror_mode": {
    "name": "ipython",
    "version": 3
   },
   "file_extension": ".py",
   "mimetype": "text/x-python",
   "name": "python",
   "nbconvert_exporter": "python",
   "pygments_lexer": "ipython3",
   "version": "3.9.12"
  }
 },
 "nbformat": 4,
 "nbformat_minor": 5
}
