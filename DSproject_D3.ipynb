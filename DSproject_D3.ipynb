{
 "cells": [
  {
   "cell_type": "code",
   "execution_count": 1,
   "id": "5bd87b80",
   "metadata": {},
   "outputs": [],
   "source": [
    "import pandas as pd\n",
    "import numpy as np\n",
    "from matplotlib import pyplot as plt\n",
    "import seaborn as sns\n",
    "from sklearn.model_selection import train_test_split\n",
    "from sklearn.linear_model import LinearRegression\n",
    "from sklearn.linear_model import Ridge\n",
    "from sklearn.linear_model import Lasso\n",
    "from sklearn.metrics import mean_squared_error"
   ]
  },
  {
   "cell_type": "code",
   "execution_count": 2,
   "id": "92b0b7ad",
   "metadata": {
    "scrolled": true
   },
   "outputs": [
    {
     "name": "stderr",
     "output_type": "stream",
     "text": [
      "C:\\Users\\Liis Reimand\\AppData\\Local\\Temp\\ipykernel_11540\\2727347924.py:2: DtypeWarning: Columns (8,9,21) have mixed types. Specify dtype option on import or set low_memory=False.\n",
      "  data_orig=pd.read_csv(\"soidukid.csv\",on_bad_lines='skip', sep=\";\")\n"
     ]
    }
   ],
   "source": [
    "#Read csv\n",
    "data_orig=pd.read_csv(\"soidukid.csv\",on_bad_lines='skip', sep=\";\")"
   ]
  },
  {
   "cell_type": "code",
   "execution_count": 3,
   "id": "573b1f6f",
   "metadata": {},
   "outputs": [],
   "source": [
    "#Copying original database\n",
    "data=data_orig.copy()"
   ]
  },
  {
   "cell_type": "code",
   "execution_count": 4,
   "id": "694a39ce",
   "metadata": {},
   "outputs": [],
   "source": [
    "#Deleting irrelevant information\n",
    "data=data[data.YLDINE_STAATUS != \"PEATATUD\"]\n",
    "#Resetting indexes to not cause any errors in code below\n",
    "data=data.reset_index()\n",
    "#Deleting irrelevant columns\n",
    "data=data.drop([\"Andmed seisuga\",\"index\",\"VARV\",\"ISTEKOHTI\", \"Kere nimetus\", \"ARV\",\"Kategooria\",\"Keretüüp\",\"TELGI_KOKKU\",\"TAISMASS\", \"TYHIMASS\",\"YLDINE_STAATUS\",\"EESTIS_ESMAREG_KP\", \"MOOTORI_TYYP\", \"Kütuse tüüp\", \"HYBRIIDI_TYYP\"], axis=1)"
   ]
  },
  {
   "cell_type": "code",
   "execution_count": 5,
   "id": "474abacc",
   "metadata": {},
   "outputs": [],
   "source": [
    "#Replacing NaN values in gearbox column with manual transission\n",
    "#Nan -> manuaal, because manufactoring year of most cars with NaN-values in gearbox column allows to exclude automatic transmission\n",
    "#on those cars\n",
    "data[\"KAIGUKASTI_TYYP\"]=data[\"KAIGUKASTI_TYYP\"].fillna(\"MANUAAL\")"
   ]
  },
  {
   "cell_type": "code",
   "execution_count": 6,
   "id": "28aea41e",
   "metadata": {},
   "outputs": [],
   "source": [
    "#Replacing NaN-values in NEDC column with WLTP values if possible, because the difference between these two aspects\n",
    "#does not affect the results of our project\n",
    "for i in range(len(data[\"CO2_NEDC\"])):\n",
    "    vana=data[\"CO2_NEDC\"].iloc[i]\n",
    "    uus=data[\"CO2_WLTP\"].iloc[i]\n",
    "    if str(vana)==\"nan\" and str(uus)!=\"nan\":\n",
    "        data.loc[i,'CO2_NEDC']=int(uus)\n",
    "data=data.drop([\"CO2_WLTP\"], axis=1)        "
   ]
  },
  {
   "cell_type": "code",
   "execution_count": 7,
   "id": "16d38618",
   "metadata": {},
   "outputs": [],
   "source": [
    "#Replacing NEDC NaN values of VAZ with 210-ga, because those cars have the same engines\n",
    "for i in range(len(data[\"CO2_NEDC\"])):\n",
    "    mark=data[\"Mark\"].iloc[i]\n",
    "    if str(mark)==\"VAZ\":\n",
    "        data.loc[i,'CO2_NEDC']=210"
   ]
  },
  {
   "cell_type": "code",
   "execution_count": 8,
   "id": "56b8585d",
   "metadata": {},
   "outputs": [],
   "source": [
    "#Counting NaN values of NEDC by car brands (TOP3 - VolksWagen, Audi, BMW)\n",
    "brändid={}\n",
    "for i in range(len(data[\"CO2_NEDC\"])):\n",
    "    NEDC=data[\"CO2_NEDC\"].iloc[i]\n",
    "    if str(NEDC)==\"nan\":\n",
    "        if str(data[\"Mark\"].iloc[i]) in brändid.keys():\n",
    "            brändid[str(data[\"Mark\"].iloc[i])]= int(brändid.get(str(data[\"Mark\"].iloc[i])))+1\n",
    "        else:\n",
    "            brändid[str(data[\"Mark\"].iloc[i])]= 1             \n",
    "brändid=dict(sorted(brändid.items(), key=lambda item: item[1]))\n",
    "#print(brändid)"
   ]
  },
  {
   "cell_type": "code",
   "execution_count": 9,
   "id": "e0728212",
   "metadata": {},
   "outputs": [],
   "source": [
    "#Replacing Volkswagen, Audi and BMW most common engines NEDC NaN-values\n",
    "#motoras={engine_size : NEDC}\n",
    "motoras_VW={1968.0:146.0, 1896.0:162.0, 2461.0:171.0, 2771.0:255.0, 2967.0:180.0 ,1781.0:190.0, 2792.0:278.0}\n",
    "motoras_BMW={1596.0:171.6, 1991.0:165.3, 2979.0:169.0, 2993.0:170.0, 2926.0:178.0, 1995.0:153.0, 1796.0:208.0, 1950.0:158.0}"
   ]
  },
  {
   "cell_type": "code",
   "execution_count": 10,
   "id": "5a88ce84",
   "metadata": {},
   "outputs": [],
   "source": [
    "#Replacing Volkswagen and Audi NaN-values in NEDC columns\n",
    "for i in range(len(data[\"CO2_NEDC\"])):\n",
    "    mootor=data[\"MOOTORI_MAHT\"].iloc[i]\n",
    "    NEDC=data[\"CO2_NEDC\"].iloc[i]\n",
    "    mark=data[\"Mark\"].iloc[i]\n",
    "    if str(NEDC)==\"nan\" and float(mootor) in motoras_VW.keys() and (str(mark)==\"VOLKSWAGEN\" or str(mark)==\"AUDI\"):\n",
    "        data.loc[i,'CO2_NEDC']=int(motoras_VW.get(float(mootor)))"
   ]
  },
  {
   "cell_type": "code",
   "execution_count": 11,
   "id": "4af53edf",
   "metadata": {},
   "outputs": [],
   "source": [
    "#Replacing BMW NaN-values in NEDC column\n",
    "for i in range(len(data[\"CO2_NEDC\"])):\n",
    "    mootor=data[\"MOOTORI_MAHT\"].iloc[i]\n",
    "    NEDC=data[\"CO2_NEDC\"].iloc[i]\n",
    "    mark=data[\"Mark\"].iloc[i]\n",
    "    if str(NEDC)==\"nan\" and float(mootor) in motoras_BMW.keys() and str(mark)==\"BMW\":\n",
    "        data.loc[i,'CO2_NEDC']=int(motoras_BMW.get(float(mootor)))"
   ]
  },
  {
   "cell_type": "code",
   "execution_count": 12,
   "id": "c51cae12",
   "metadata": {},
   "outputs": [],
   "source": [
    "#Replacing all electric car NEDC values with zero, since they do not produce any CO2\n",
    "for i in range(len(data[\"CO2_NEDC\"])):\n",
    "    kütus=data[\"Kütusekombinatsioon\"].iloc[i]\n",
    "    NEDC=data[\"CO2_NEDC\"].iloc[i]\n",
    "    if str(NEDC)==\"nan\" and str(kütus)==\"ELEKTER\":\n",
    "        data.loc[i,'CO2_NEDC']=0"
   ]
  },
  {
   "cell_type": "code",
   "execution_count": 13,
   "id": "b246337b",
   "metadata": {},
   "outputs": [],
   "source": [
    "#Replacing faulty county names and creating list of county names\n",
    "tundmatud=['L��NE-VIRU MAAKOND', 'P�RNU MAAKOND', 'J�RVA MAAKOND', 'P�LVA MAAKOND', 'V�RU MAAKOND']\n",
    "asendused=[\"LÄÄNE-VIRU MAAKOND\", \"PÄRNU MAAKOND\", \"JÄRVA MAAKOND\", \"PÕLVA MAAKOND\", \"VÕRU MAAKOND\"]\n",
    "\n",
    "for i in range(len(tundmatud)):\n",
    "    data[\"VK/OM MAAKOND\"]=data[\"VK/OM MAAKOND\"].replace([tundmatud[i]],asendused[i])\n",
    "    \n",
    "MAAKONNAD=[]\n",
    "for i in range(len(data[\"VK/OM MAAKOND\"])):\n",
    "    maakond=data[\"VK/OM MAAKOND\"].iloc[i]\n",
    "    if str(maakond) not in MAAKONNAD:\n",
    "        MAAKONNAD.append(str(maakond))"
   ]
  },
  {
   "cell_type": "code",
   "execution_count": 14,
   "id": "b10abda6",
   "metadata": {
    "scrolled": true
   },
   "outputs": [
    {
     "name": "stdout",
     "output_type": "stream",
     "text": [
      "Passateid Eestis 29261\n"
     ]
    }
   ],
   "source": [
    "#Dictionarys, where we can add information about the amount of cars in different counties\n",
    "autod_maakonnas={'HARJU MAAKOND':0, 'PÄRNU MAAKOND':0, 'TARTU MAAKOND':0, 'VALGA MAAKOND':0, 'VÕRU MAAKOND':0, 'HIIU MAAKOND':0, 'PÕLVA MAAKOND':0, 'SAARE MAAKOND':0, 'LÄÄNE-VIRU MAAKOND':0, 'IDA-VIRU MAAKOND':0, 'JÕGEVA MAAKOND':0, 'LÄÄNE MAAKOND':0, 'RAPLA MAAKOND':0, 'VILJANDI MAAKOND':0, 'JÄRVA MAAKOND':0, 'MÄÄRAMATA':0}\n",
    "passatid_maakonnas={'HARJU MAAKOND':0, 'PÄRNU MAAKOND':0, 'TARTU MAAKOND':0, 'VALGA MAAKOND':0, 'VÕRU MAAKOND':0, 'HIIU MAAKOND':0, 'PÕLVA MAAKOND':0, 'SAARE MAAKOND':0, 'LÄÄNE-VIRU MAAKOND':0, 'IDA-VIRU MAAKOND':0, 'JÕGEVA MAAKOND':0, 'LÄÄNE MAAKOND':0, 'RAPLA MAAKOND':0, 'VILJANDI MAAKOND':0, 'JÄRVA MAAKOND':0, 'MÄÄRAMATA':0}\n",
    "passatid_kokku=0\n",
    "\n",
    "#Counting all cars and passats in different counties\n",
    "for i in range(len(data[\"VK/OM MAAKOND\"])):\n",
    "    mudel=data[\"Mudel\"].iloc[i]\n",
    "    maakond=data[\"VK/OM MAAKOND\"].iloc[i]\n",
    "    autod_maakonnas[str(maakond)]= int(autod_maakonnas.get(str(maakond)))+1\n",
    "    if \"PASSAT\" in str(mudel):\n",
    "        passatid_kokku+=1\n",
    "        passatid_maakonnas[str(maakond)]= int(passatid_maakonnas.get(str(maakond)))+1\n",
    "\n",
    "print(\"Passateid Eestis \" + str(passatid_kokku))"
   ]
  },
  {
   "cell_type": "code",
   "execution_count": 15,
   "id": "750da0d1",
   "metadata": {
    "scrolled": true
   },
   "outputs": [
    {
     "name": "stdout",
     "output_type": "stream",
     "text": [
      "Passateid HARJU MAAKOND 3.14 %\n",
      "Passateid PÄRNU MAAKOND 4.78 %\n",
      "Passateid TARTU MAAKOND 5.82 %\n",
      "Passateid VALGA MAAKOND 7.15 %\n",
      "Passateid VÕRU MAAKOND 9.09 %\n",
      "Passateid HIIU MAAKOND 4.35 %\n",
      "Passateid PÕLVA MAAKOND 9.4 %\n",
      "Passateid SAARE MAAKOND 4.04 %\n",
      "Passateid LÄÄNE-VIRU MAAKOND 4.48 %\n",
      "Passateid IDA-VIRU MAAKOND 4.32 %\n",
      "Passateid JÕGEVA MAAKOND 6.76 %\n",
      "Passateid LÄÄNE MAAKOND 4.37 %\n",
      "Passateid RAPLA MAAKOND 4.63 %\n",
      "Passateid VILJANDI MAAKOND 6.01 %\n",
      "Passateid JÄRVA MAAKOND 5.24 %\n",
      "Passateid MÄÄRAMATA 5.17 %\n"
     ]
    }
   ],
   "source": [
    "#Procentual porpotion of Passats in every county\n",
    "for i in range(len(autod_maakonnas)):\n",
    "    print(\"Passateid \" + str(MAAKONNAD[i]) +\" \"+ str(round((passatid_maakonnas.get(MAAKONNAD[i])/autod_maakonnas.get(MAAKONNAD[i]))*100,2))+ \" %\")"
   ]
  },
  {
   "cell_type": "code",
   "execution_count": null,
   "id": "a0dbf631",
   "metadata": {},
   "outputs": [],
   "source": [
    "#Creating a dictionary for CO2 emissions in every county\n",
    "CO2_maakonnas={'HARJU MAAKOND':0, 'PÄRNU MAAKOND':0, 'TARTU MAAKOND':0, 'VALGA MAAKOND':0, 'VÕRU MAAKOND':0, 'HIIU MAAKOND':0, 'PÕLVA MAAKOND':0, 'SAARE MAAKOND':0, 'LÄÄNE-VIRU MAAKOND':0, 'IDA-VIRU MAAKOND':0, 'JÕGEVA MAAKOND':0, 'LÄÄNE MAAKOND':0, 'RAPLA MAAKOND':0, 'VILJANDI MAAKOND':0, 'JÄRVA MAAKOND':0, 'MÄÄRAMATA':0}\n",
    "#Adding up all NEDC values in every county\n",
    "for i in range(len(data[\"CO2_NEDC\"])):\n",
    "    maakond=data[\"VK/OM MAAKOND\"].iloc[i]\n",
    "    co=data[\"CO2_NEDC\"].iloc[i]\n",
    "    if str(co)!=\"nan\":\n",
    "        CO2_maakonnas[str(maakond)]= float(CO2_maakonnas.get(str(maakond))) + float(data[\"CO2_NEDC\"].iloc[i])"
   ]
  },
  {
   "cell_type": "code",
   "execution_count": null,
   "id": "e0cb747f",
   "metadata": {
    "scrolled": true
   },
   "outputs": [],
   "source": [
    "CO2_maakonniti=[]\n",
    "#Printing out avergae CO2 emission by county\n",
    "for i in range(len(autod_maakonnas)):\n",
    "    print(\"CO2 reostus: \" + str(MAAKONNAD[i]) +\" \"+ str(round((CO2_maakonnas.get(MAAKONNAD[i])/autod_maakonnas.get(MAAKONNAD[i])),2))+ \" g/km\")\n",
    "    CO2_maakonniti.append(round((CO2_maakonnas.get(MAAKONNAD[i])/autod_maakonnas.get(MAAKONNAD[i])),2))"
   ]
  },
  {
   "cell_type": "code",
   "execution_count": null,
   "id": "968a09f9",
   "metadata": {
    "scrolled": true
   },
   "outputs": [],
   "source": [
    "#Graph representing average CO2 emissions by car in county\n",
    "colors = sns.color_palette('pastel')[0:16]\n",
    "fig, ax = plt.subplots(figsize =(16, 9))\n",
    "\n",
    "ax.barh(MAAKONNAD, CO2_maakonniti, color=colors)\n",
    "\n",
    "ax.set_xlabel('CO2 emissions (g/km)')\n",
    "ax.set_ylabel('Counties')\n",
    "ax.set_title('Average CO2 emissions by car in county')\n",
    "\n",
    "plt.xlim([122.5,138])\n",
    "\n",
    "plt.show()"
   ]
  },
  {
   "cell_type": "code",
   "execution_count": null,
   "id": "ed66caeb",
   "metadata": {},
   "outputs": [],
   "source": [
    "#Dictionary of all car brands in database\n",
    "margid={}\n",
    "for i in range(len(data[\"Mark\"])):\n",
    "    mark=data[\"Mark\"].iloc[i]\n",
    "    if str(mark) not in margid:\n",
    "        margid[str(mark)]=1  "
   ]
  },
  {
   "cell_type": "code",
   "execution_count": null,
   "id": "c8085898",
   "metadata": {},
   "outputs": [],
   "source": [
    "#top 3 most popular car brands\n",
    "for i in range(len(data[\"Mark\"])):\n",
    "    mark=data[\"Mark\"].iloc[i]\n",
    "    margid[str(mark)]=margid.get(str(mark))+1\n",
    "margid=dict(sorted(margid.items(), key=lambda item: item[1]))\n",
    "print(list(margid.keys())[-1])\n",
    "print(list(margid.keys())[-2])\n",
    "print(list(margid.keys())[-3])"
   ]
  },
  {
   "cell_type": "code",
   "execution_count": null,
   "id": "6c5e0a79",
   "metadata": {},
   "outputs": [],
   "source": [
    "#Dictionarys for all car models of TOP 3 most popular car brands\n",
    "mudelid_vw={}\n",
    "mudelid_toyota={}\n",
    "mudelid_audi={}\n",
    "\n",
    "for i in range(len(data[\"Mudel\"])):\n",
    "    mark=data[\"Mark\"].iloc[i]\n",
    "    mudel=data[\"Mudel\"].iloc[i]\n",
    "    if str(mark) == \"VOLKSWAGEN\":\n",
    "        if str(mudel) not in mudelid_vw:\n",
    "            mudelid_vw[str(mudel)]=1\n",
    "        else:\n",
    "            mudelid_vw[str(mudel)]=mudelid_vw.get(str(mudel))+1\n",
    "    elif str(mark) == \"TOYOTA\":\n",
    "        if str(mudel) not in mudelid_toyota:\n",
    "            mudelid_toyota[str(mudel)]=1\n",
    "        else:\n",
    "            mudelid_toyota[str(mudel)]=mudelid_toyota.get(str(mudel))+1\n",
    "    elif str(mark) == \"AUDI\":\n",
    "        if str(mudel) not in mudelid_audi:\n",
    "            mudelid_audi[str(mudel)]=1\n",
    "        else:\n",
    "            mudelid_audi[str(mudel)]=mudelid_audi.get(str(mudel))+1"
   ]
  },
  {
   "cell_type": "code",
   "execution_count": null,
   "id": "1dced717",
   "metadata": {
    "scrolled": true
   },
   "outputs": [],
   "source": [
    "mudelid_audi=dict(sorted(mudelid_audi.items(), key=lambda item: item[1]))\n",
    "mudelid_toyota=dict(sorted(mudelid_toyota.items(), key=lambda item: item[1]))\n",
    "mudelid_vw=dict(sorted(mudelid_vw.items(), key=lambda item: item[1]))\n",
    "\n",
    "print(\"AUDI TOP 3: \")\n",
    "print(list(mudelid_audi.keys())[-1] + \" \" + str(list(mudelid_audi.values())[-1]))\n",
    "print(list(mudelid_audi.keys())[-2] + \" \" + str(list(mudelid_audi.values())[-2]))\n",
    "print(list(mudelid_audi.keys())[-3] + \" \" + str(list(mudelid_audi.values())[-3]))\n",
    "print(list(mudelid_audi.keys())[-4] + \" \" + str(list(mudelid_audi.values())[-4]))\n",
    "print()\n",
    "print(\"Volkswagen TOP 3: \")\n",
    "print(list(mudelid_vw.keys())[-1] + \" \" + str(list(mudelid_vw.values())[-1]))\n",
    "print(list(mudelid_vw.keys())[-2] + \" \" + str(list(mudelid_vw.values())[-2]))\n",
    "print(list(mudelid_vw.keys())[-3] + \" \" + str(list(mudelid_vw.values())[-3]))\n",
    "print()\n",
    "print(\"Toyota TOP 3: \")\n",
    "print(list(mudelid_toyota.keys())[-1] + \" \" + str(list(mudelid_toyota.values())[-1]))\n",
    "print(list(mudelid_toyota.keys())[-2] + \" \" + str(list(mudelid_toyota.values())[-2]))\n",
    "print(list(mudelid_toyota.keys())[-3] + \" \" + str(list(mudelid_toyota.values())[-3]))"
   ]
  },
  {
   "cell_type": "code",
   "execution_count": null,
   "id": "8be58b60",
   "metadata": {},
   "outputs": [],
   "source": [
    "#All engine sizes\n",
    "mootori_maht = {}\n",
    "mootori_mahud = []\n",
    "mootoreid = []\n",
    "data[\"MOOTORI_MAHT\"] = data[\"MOOTORI_MAHT\"].fillna(0)\n",
    "for i in range(len(data[\"MOOTORI_MAHT\"])):\n",
    "    maht = data[\"MOOTORI_MAHT\"].iloc[i]\n",
    "    mahtr = round(int(maht)/1000,1)\n",
    "    if str(mahtr) not in mootori_maht:\n",
    "        mootori_maht[str(mahtr)] = 1\n",
    "    else:\n",
    "        mootori_maht[str(mahtr)]=mootori_maht.get(str(mahtr))+1\n",
    "mootori_maht=dict(sorted(mootori_maht.items(), key=lambda item: item[1]))"
   ]
  },
  {
   "cell_type": "code",
   "execution_count": null,
   "id": "ba88e681",
   "metadata": {},
   "outputs": [],
   "source": [
    "#All engine sizes with users over 25000\n",
    "for key, value in mootori_maht.items():\n",
    "    if int(value) > 25000:\n",
    "        mootori_mahud.append(key) \n",
    "        mootoreid.append(value)"
   ]
  },
  {
   "cell_type": "code",
   "execution_count": null,
   "id": "0e1b5c25",
   "metadata": {},
   "outputs": [],
   "source": [
    "#Sorting engine sizes\n",
    "res = {}\n",
    "mootorcopy = mootoreid.copy()\n",
    "for key in mootori_mahud:\n",
    "    for value in mootorcopy:\n",
    "        res[key] = value\n",
    "        mootorcopy.remove(value)\n",
    "        break\n",
    "res=dict(sorted(res.items(), key=lambda item: item[1]))"
   ]
  },
  {
   "cell_type": "code",
   "execution_count": null,
   "id": "6639f673",
   "metadata": {
    "scrolled": true
   },
   "outputs": [],
   "source": [
    "#Graph representing most popular engine sizes in Estonia\n",
    "colors = sns.color_palette('pastel')[0:9]\n",
    "plt.figure(figsize = (10,10))\n",
    "plt.bar(*zip(*res.items()), color=colors)\n",
    "#plt.title('Most popular engine sizes')\n",
    "#plt.ylabel('Popularity')\n",
    "#plt.xlabel('Engine size (l)')\n",
    "plt.show()\n",
    "#plt.savefig('engine_sizes.png')"
   ]
  },
  {
   "cell_type": "code",
   "execution_count": null,
   "id": "3c2f9c06",
   "metadata": {
    "scrolled": false
   },
   "outputs": [],
   "source": [
    "#Dictionary of all fuel types and amount of cars that use them\n",
    "kütused = {}\n",
    "data[\"Kütusekombinatsioon\"] = data[\"Kütusekombinatsioon\"].fillna(\"TEADMATA\")\n",
    "for i in range(len(data[\"Kütusekombinatsioon\"])):\n",
    "    kütus = data[\"Kütusekombinatsioon\"].iloc[i]\n",
    "    if str(kütus) not in kütused:\n",
    "        kütused[str(kütus)] = 1\n",
    "    else:\n",
    "        kütused[str(kütus)]=kütused.get(str(kütus))+1\n",
    "kütused=dict(sorted(kütused.items(), key=lambda item: item[1]))\n",
    "kütused = dict(reversed(list(kütused.items())))"
   ]
  },
  {
   "cell_type": "code",
   "execution_count": null,
   "id": "e2f23e3e",
   "metadata": {},
   "outputs": [],
   "source": [
    "# Pie chart representing most popular fuel types\n",
    "labels = []\n",
    "sizes = []\n",
    "\n",
    "colors = sns.color_palette('pastel')[0:5]\n",
    "muu_suurus=0\n",
    "for x, y in kütused.items():\n",
    "    if str(x)==\"DIISEL\" or str(x)==\"BENSIIN\" or str(x)==\"BENSIIN-ELEKTER\":\n",
    "        labels.append(x)\n",
    "        sizes.append(y)\n",
    "    else:\n",
    "        muu_suurus+=y\n",
    "\n",
    "labels.append(\"MUU\")\n",
    "sizes.append(muu_suurus)\n",
    "\n",
    "#explsion\n",
    "explode = (0.05,0.05,0.05,0.05)\n",
    " \n",
    "plt.pie(sizes, colors = colors, labels=labels, autopct='%1.0f%%', startangle=90, pctdistance=0.75, explode = explode, radius=1.4, textprops={'fontsize': 12})\n",
    "#draw circle\n",
    "centre_circle = plt.Circle((0,0),0.70,fc='white')\n",
    "fig = plt.gcf()\n",
    "fig.set_size_inches(10,10)\n",
    "fig.gca().add_artist(centre_circle)\n",
    "# Equal aspect ratio ensures that pie is drawn as a circle\n",
    "#ax1.axis('equal')  \n",
    "plt.tight_layout()\n",
    "plt.show()"
   ]
  },
  {
   "cell_type": "code",
   "execution_count": null,
   "id": "23bacb52",
   "metadata": {},
   "outputs": [],
   "source": [
    "#Dictionary for all gearbox types and their usage\n",
    "käigukastid = {}\n",
    "data[\"KAIGUKASTI_TYYP\"] = data[\"KAIGUKASTI_TYYP\"].fillna(\"TEADMATA\")\n",
    "for i in range(len(data[\"KAIGUKASTI_TYYP\"])):\n",
    "    käigukast = data[\"KAIGUKASTI_TYYP\"].iloc[i]\n",
    "    if str(käigukast) not in käigukastid:\n",
    "        käigukastid[str(käigukast)] = 1\n",
    "    else:\n",
    "        käigukastid[str(käigukast)]=käigukastid.get(str(käigukast))+1\n",
    "käigukastid=dict(sorted(käigukastid.items(), key=lambda item: item[1]))\n",
    "käigukastid = dict(reversed(list(käigukastid.items())))"
   ]
  },
  {
   "cell_type": "code",
   "execution_count": null,
   "id": "93336ebd",
   "metadata": {},
   "outputs": [],
   "source": [
    "#Pie chart to represent most popular gearbox types\n",
    "fig =plt.figure(figsize = (4,4))\n",
    "ax11 = fig.add_subplot(111)\n",
    "# Data to plot\n",
    "\n",
    "labels = []\n",
    "sizes = []\n",
    "\n",
    "colors = sns.color_palette('pastel')[0:5]\n",
    "muu_suurus=0\n",
    "for x, y in käigukastid.items():\n",
    "    if str(x)==\"MANUAAL\" or str(x)==\"AUTOMAAT\" or str(x)==\"CVT\":\n",
    "        labels.append(x)\n",
    "        sizes.append(y)\n",
    "    else:\n",
    "        muu_suurus+=y\n",
    "\n",
    "labels.append(\"MUU\")\n",
    "sizes.append(muu_suurus)\n",
    "\n",
    "explode = (0.05,0.05,0.05,0.05)\n",
    "\n",
    "# Plot\n",
    "w,l,p = ax11.pie(sizes,  labels=labels, colors=colors,\n",
    "        autopct='%1.1f%%', startangle=140, pctdistance=1, explode=explode,textprops={'fontsize': 14})\n",
    "\n",
    "pctdists = [.7, .7, .8, .65]\n",
    "\n",
    "for t,d in zip(p, pctdists):\n",
    "    xi,yi = t.get_position()\n",
    "    ri = np.sqrt(xi**2+yi**2)\n",
    "    phi = np.arctan2(yi,xi)\n",
    "    x = d*ri*np.cos(phi)\n",
    "    y = d*ri*np.sin(phi)\n",
    "    t.set_position((x,y))\n",
    "    \n",
    "centre_circle = plt.Circle((0,0),0.45,fc='white')\n",
    "fig = plt.gcf()\n",
    "fig.set_size_inches(10,10)\n",
    "fig.gca().add_artist(centre_circle)\n",
    "\n",
    "plt.axis('equal')\n",
    "plt.show()"
   ]
  },
  {
   "cell_type": "code",
   "execution_count": null,
   "id": "90fce4a2",
   "metadata": {},
   "outputs": [],
   "source": [
    "#Dictionary for manufacturing years and the amount of cars manufactured in that year\n",
    "aastad = {}\n",
    "for i in range(len(data[\"ESMANE_REG_KP\"])):\n",
    "    aasta = int(str(data[\"ESMANE_REG_KP\"].iloc[i])[6:10])\n",
    "    if aasta not in aastad:\n",
    "        aastad[aasta] = 1\n",
    "    else:\n",
    "        aastad[aasta]=aastad.get(aasta)+1"
   ]
  },
  {
   "cell_type": "code",
   "execution_count": null,
   "id": "05a49ad7",
   "metadata": {},
   "outputs": [],
   "source": [
    "#Sorting dictionary\n",
    "aastad=dict(sorted(aastad.items(), key=lambda item: item[1]))\n",
    "#Dividing manufacturing years into different time periods\n",
    "aasta_vahemikud = [\"1900-1989\", \"1990-1999\", \"2000-2005\", \"2006-2010\", \"2010-2015\", \"2016-2020\", \"2021+\"]\n",
    "autode_arv_vahemikus = [0,0,0,0,0,0,0]\n",
    "\n",
    "for key, value in aastad.items():\n",
    "    if key > 1899 and key < 1990:\n",
    "        autode_arv_vahemikus[0] = autode_arv_vahemikus[0] + value\n",
    "    elif key > 1899 and key < 2000:\n",
    "        autode_arv_vahemikus[1] = autode_arv_vahemikus[1] + value\n",
    "    elif key > 1999 and key < 2006:\n",
    "        autode_arv_vahemikus[2] = autode_arv_vahemikus[2] + value\n",
    "    elif key > 2005 and key < 2011:\n",
    "        autode_arv_vahemikus[3] = autode_arv_vahemikus[3] + value\n",
    "    elif key > 2010 and key < 2016:\n",
    "        autode_arv_vahemikus[4] = autode_arv_vahemikus[4] + value\n",
    "    elif key > 2015 and key < 2021:\n",
    "        autode_arv_vahemikus[5] = autode_arv_vahemikus[5] + value\n",
    "    else:\n",
    "        autode_arv_vahemikus[6] = autode_arv_vahemikus[6] + value"
   ]
  },
  {
   "cell_type": "code",
   "execution_count": null,
   "id": "dbc265c4",
   "metadata": {
    "scrolled": false
   },
   "outputs": [],
   "source": [
    "#Bar chart to represent most popular manufacturing years of cars in Estonia\n",
    "colors = sns.color_palette('pastel')[0:7]\n",
    "\n",
    "fig, ax = plt.subplots(figsize =(16, 9))\n",
    "\n",
    "ax.barh(aasta_vahemikud, autode_arv_vahemikus, color=colors)\n",
    "\n",
    "#ax.set_xlabel('Number of cars')\n",
    "#ax.set_ylabel('Years')\n",
    "#ax.set_title('What manufacturing year are estonian cars')\n",
    "\n",
    "plt.show()"
   ]
  },
  {
   "cell_type": "code",
   "execution_count": null,
   "id": "4bbb3936",
   "metadata": {},
   "outputs": [],
   "source": [
    "võimsuse_vahemikud = [\"0-50\", \"51-100\", \"101-150\", \"151-200\", \"201-250\", \"251+\"]\n",
    "autode_arv_võimsuse_vahemikus = [0,0,0,0,0,0]\n",
    "\n",
    "for i in range(len(data[\"MOOTORI_VOIMSUS\"])):\n",
    "    võimsus_str = str(data[\"MOOTORI_VOIMSUS\"].iloc[i])\n",
    "    if ',' in võimsus_str:\n",
    "        võimsus_str=võimsus_str.replace(\",\",\".\")\n",
    "        data[\"MOOTORI_VOIMSUS\"].iloc[i] = võimsus_str\n",
    "        \n",
    "    võimsus = float(võimsus_str)\n",
    "    if võimsus <= 50:\n",
    "        autode_arv_võimsuse_vahemikus[0] = autode_arv_võimsuse_vahemikus[0] + 1\n",
    "    elif võimsus <= 100 and võimsus > 50:\n",
    "        autode_arv_võimsuse_vahemikus[1] = autode_arv_võimsuse_vahemikus[1] + 1\n",
    "    elif võimsus <= 150 and võimsus > 100:\n",
    "        autode_arv_võimsuse_vahemikus[2] = autode_arv_võimsuse_vahemikus[2] + 1\n",
    "    elif võimsus <= 200 and võimsus > 150:\n",
    "        autode_arv_võimsuse_vahemikus[3] = autode_arv_võimsuse_vahemikus[3] + 1\n",
    "    elif võimsus <= 250 and võimsus > 200:\n",
    "        autode_arv_võimsuse_vahemikus[4] = autode_arv_võimsuse_vahemikus[4] + 1\n",
    "    else:\n",
    "        autode_arv_võimsuse_vahemikus[5] = autode_arv_võimsuse_vahemikus[5] + 1\n",
    "    "
   ]
  },
  {
   "cell_type": "code",
   "execution_count": null,
   "id": "e4a8a349",
   "metadata": {},
   "outputs": [],
   "source": [
    "colors = sns.color_palette('pastel')[0:6]\n",
    "fig, ax = plt.subplots(figsize =(16, 9))\n",
    "\n",
    "ax.barh(võimsuse_vahemikud, autode_arv_võimsuse_vahemikus, color=colors)\n",
    "\n",
    "#ax.set_xlabel('Autode arv')\n",
    "#ax.set_ylabel('Võimsus')\n",
    "#ax.set_title('Kui võimsad on Eesti rahva autod')\n",
    "\n",
    "plt.show()"
   ]
  },
  {
   "cell_type": "code",
   "execution_count": null,
   "id": "6ace1f8d",
   "metadata": {},
   "outputs": [],
   "source": [
    "#Copying data for prediction process\n",
    "big_predict=data.copy()"
   ]
  },
  {
   "cell_type": "code",
   "execution_count": null,
   "id": "b5bfe50a",
   "metadata": {},
   "outputs": [],
   "source": [
    "#Changing original data, preparing data for prediction process\n",
    "big_predict[\"AASTA\"]=data[\"ESMANE_REG_KP\"].str[-4:]\n",
    "big_predict=big_predict.drop([\"ESMANE_REG_KP\",\"Mark\",\"Mudel\",\"VK/OM MAAKOND\", \"HEITMENORM\"], axis=1)\n",
    "big_predict=big_predict.dropna()"
   ]
  },
  {
   "cell_type": "code",
   "execution_count": null,
   "id": "6a9923db",
   "metadata": {},
   "outputs": [],
   "source": [
    "#Fixing indexes\n",
    "big_predict=big_predict.reset_index()\n",
    "big_predict=big_predict.drop([\"index\"], axis=1)"
   ]
  },
  {
   "cell_type": "code",
   "execution_count": null,
   "id": "7ba5eb06",
   "metadata": {},
   "outputs": [],
   "source": [
    "#Changing aspects with very low values to \"muu\"\n",
    "vägaoluline=[\"BENSIIN-CNG-LPG\",\"DIISEL-LPG\",\"BENSIIN-LNG\",\"ELEKTER-VESINIK\",\"BENSIIN-CNG-ETANOOL\",\"CNG-LPG\",\"LPG\",\"BENSIIN-ETANOOL-LPG\",\"BENSIIN-ETANOOL\",\"BENSIIN-ELEKTER-LPG\", \"BENSIIN-CNG\",\"DIISEL-ELEKTER\", \"BENSIIN-LPG\", \"BENSIIN-ELEKTER\"] \n",
    "for i in range(len(vägaoluline)):\n",
    "    big_predict[\"Kütusekombinatsioon\"]=big_predict[\"Kütusekombinatsioon\"].replace([vägaoluline[i]],\"MUU\")"
   ]
  },
  {
   "cell_type": "code",
   "execution_count": null,
   "id": "ac9706f4",
   "metadata": {
    "scrolled": true
   },
   "outputs": [],
   "source": [
    "#Data to binary form\n",
    "columns = big_predict.columns\n",
    "big_predict = pd.get_dummies(big_predict, columns=['KAIGUKASTI_TYYP', \"Kütusekombinatsioon\"])"
   ]
  },
  {
   "cell_type": "code",
   "execution_count": null,
   "id": "8bbc976d",
   "metadata": {},
   "outputs": [],
   "source": [
    "#Shuffling data\n",
    "shuffle_data = big_predict.sample(frac = 1)\n",
    "shuffle_data=shuffle_data.reset_index()\n",
    "shuffle_data=shuffle_data.drop([\"index\"], axis=1)"
   ]
  },
  {
   "cell_type": "code",
   "execution_count": null,
   "id": "171b118d",
   "metadata": {},
   "outputs": [],
   "source": [
    "#Splitting data into train and test set\n",
    "X_train, X_test, y_train, y_test = train_test_split(shuffle_data.iloc[:, shuffle_data.columns!=\"CO2_NEDC\"],shuffle_data[\"CO2_NEDC\"], test_size=0.25, random_state=1)"
   ]
  },
  {
   "cell_type": "code",
   "execution_count": null,
   "id": "56261b0f",
   "metadata": {},
   "outputs": [],
   "source": [
    "#Regressions\n",
    "linear = LinearRegression()\n",
    "ridge = Ridge()\n",
    "lasso = Lasso()"
   ]
  },
  {
   "cell_type": "code",
   "execution_count": null,
   "id": "e6b0aaad",
   "metadata": {},
   "outputs": [],
   "source": [
    "#Predicting algorithm realization, comparing actual and predicted values\n",
    "linear.fit(X_train,y_train)\n",
    "y_pred = linear.predict(X_test)\n",
    "df_preds = pd.DataFrame({\"Actual\":y_test.squeeze(), \"pred\":y_pred.squeeze()})\n",
    "print(df_preds)\n",
    "print(linear.score(X_train, y_train))\n",
    "print(linear.score(X_test, y_test))\n",
    "print(linear.coef_)"
   ]
  },
  {
   "cell_type": "code",
   "execution_count": null,
   "id": "e3456d59",
   "metadata": {},
   "outputs": [],
   "source": [
    "#Choosing gearbox for future CO2 predictions\n",
    "autosid = 0\n",
    "automaate = 0\n",
    "manuaale = 0\n",
    "for i in range(len(data[\"ESMANE_REG_KP\"])):\n",
    "    aasta = int(str(data[\"ESMANE_REG_KP\"].iloc[i])[-4:])\n",
    "    if aasta >= 2010:\n",
    "        if str(data[\"KAIGUKASTI_TYYP\"].iloc[i]) == \"MANUAAL\":\n",
    "            autosid += 1\n",
    "            manuaale += 1\n",
    "        elif str(data[\"KAIGUKASTI_TYYP\"].iloc[i]) == \"AUTOMAAT\":\n",
    "            autosid += 1\n",
    "            automaate += 1\n",
    "            \n",
    "print(str((manuaale/autosid)*100) + \" %\")\n",
    "print(str((automaate/autosid)*100) + \" %\")        "
   ]
  },
  {
   "cell_type": "code",
   "execution_count": null,
   "id": "a701fe9e",
   "metadata": {},
   "outputs": [],
   "source": [
    "#Choosing the engine power output\n",
    "mootori_võimsused = []\n",
    "for i in range(len(data[\"MOOTORI_VOIMSUS\"])):\n",
    "    võimsus_str = str(data[\"MOOTORI_VOIMSUS\"].iloc[i])  \n",
    "    võimsus = float(võimsus_str)\n",
    "    aasta = int(str(data[\"ESMANE_REG_KP\"].iloc[i])[-4:])\n",
    "    if aasta >= 2010:\n",
    "        mootori_võimsused.append(võimsus)\n",
    "\n",
    "auto_võimsus = round(sum(mootori_võimsused)/len(mootori_võimsused))\n",
    "print(auto_võimsus)"
   ]
  },
  {
   "cell_type": "code",
   "execution_count": null,
   "id": "051e4d0b",
   "metadata": {
    "scrolled": true
   },
   "outputs": [],
   "source": [
    "#Predictions\n",
    "autod_bensiin = []\n",
    "autod_diisel = []\n",
    "aastad = [2025, 2030, 2035, 2040]\n",
    "for i in range(len(aastad)):\n",
    "    autod_diisel.append(linear.predict([[2000, auto_võimsus, 1500, aastad[i], 1, 0, 0, 0, 0, 0, 0, 0, 0, 1, 0, 0]])[0])\n",
    "    autod_bensiin.append(linear.predict([[2000, auto_võimsus, 1500, aastad[i], 1, 0, 0, 0, 0, 0, 0, 1, 0, 0, 0, 0]])[0])\n",
    "    \n",
    "print(autod_diisel)\n",
    "print(autod_bensiin)"
   ]
  },
  {
   "cell_type": "code",
   "execution_count": null,
   "id": "cdd81ff6",
   "metadata": {},
   "outputs": [],
   "source": [
    "#Representing prediction results on graph\n",
    "\n",
    "def set_size(w,h, ax=None):\n",
    "    \"\"\" w, h: width, height in inches \"\"\"\n",
    "    if not ax: ax=plt.gca()\n",
    "    l = ax.figure.subplotpars.left\n",
    "    r = ax.figure.subplotpars.right\n",
    "    t = ax.figure.subplotpars.top\n",
    "    b = ax.figure.subplotpars.bottom\n",
    "    figw = float(w)/(r-l)\n",
    "    figh = float(h)/(t-b)\n",
    "    ax.figure.set_size_inches(figw, figh)\n",
    "\n",
    "\n",
    "\n",
    "plt.figure(figsize = (20,20))\n",
    "\n",
    "x = np.arange(len(aastad))  # the label locations\n",
    "width = 0.4  # the width of the bars\n",
    "\n",
    "fig, ax = plt.subplots()\n",
    "rects1 = ax.bar(x - width/2, autod_diisel, width, label='Diesel', color=\"lightblue\")\n",
    "rects2 = ax.bar(x + width/2, autod_bensiin, width, label='Petrol', color=\"peachpuff\")\n",
    "\n",
    "# Add some text for labels, title and custom x-axis tick labels, etc.\n",
    "#ax.set_ylabel('CO2 emissions')\n",
    "#ax.set_title('Predicted CO2 emissions in future')\n",
    "ax.set_xticks(x, aastad)\n",
    "ax.legend()\n",
    "set_size(10,10)\n",
    "plt.ylim((20,120))\n",
    "ax.bar_label(rects1, padding=2)\n",
    "ax.bar_label(rects2, padding=2)\n",
    "\n",
    "#fig.tight_layout()\n",
    "\n",
    "plt.show()"
   ]
  },
  {
   "cell_type": "code",
   "execution_count": null,
   "id": "003331a3",
   "metadata": {},
   "outputs": [],
   "source": []
  }
 ],
 "metadata": {
  "kernelspec": {
   "display_name": "Python 3 (ipykernel)",
   "language": "python",
   "name": "python3"
  },
  "language_info": {
   "codemirror_mode": {
    "name": "ipython",
    "version": 3
   },
   "file_extension": ".py",
   "mimetype": "text/x-python",
   "name": "python",
   "nbconvert_exporter": "python",
   "pygments_lexer": "ipython3",
   "version": "3.9.12"
  }
 },
 "nbformat": 4,
 "nbformat_minor": 5
}
