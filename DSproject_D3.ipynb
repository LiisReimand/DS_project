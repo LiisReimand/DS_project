{
 "cells": [
  {
   "cell_type": "code",
   "execution_count": 15,
   "id": "5bd87b80",
   "metadata": {},
   "outputs": [],
   "source": [
    "import pandas as pd\n",
    "import numpy as np\n",
    "from matplotlib import pyplot as plt\n",
    "import seaborn as sns"
   ]
  },
  {
   "cell_type": "code",
   "execution_count": 16,
   "id": "92b0b7ad",
   "metadata": {},
   "outputs": [
    {
     "name": "stderr",
     "output_type": "stream",
     "text": [
      "C:\\Users\\Liis Reimand\\AppData\\Local\\Temp\\ipykernel_15816\\1789013292.py:2: DtypeWarning: Columns (8,9,21) have mixed types. Specify dtype option on import or set low_memory=False.\n",
      "  data_orig=pd.read_csv(\"soidukid.csv\",on_bad_lines='skip', sep=\";\")\n"
     ]
    }
   ],
   "source": [
    "#loeme andmed sisse\n",
    "data_orig=pd.read_csv(\"soidukid.csv\",on_bad_lines='skip', sep=\";\")"
   ]
  },
  {
   "cell_type": "code",
   "execution_count": 17,
   "id": "573b1f6f",
   "metadata": {},
   "outputs": [
    {
     "data": {
      "text/html": [
       "<div>\n",
       "<style scoped>\n",
       "    .dataframe tbody tr th:only-of-type {\n",
       "        vertical-align: middle;\n",
       "    }\n",
       "\n",
       "    .dataframe tbody tr th {\n",
       "        vertical-align: top;\n",
       "    }\n",
       "\n",
       "    .dataframe thead th {\n",
       "        text-align: right;\n",
       "    }\n",
       "</style>\n",
       "<table border=\"1\" class=\"dataframe\">\n",
       "  <thead>\n",
       "    <tr style=\"text-align: right;\">\n",
       "      <th></th>\n",
       "      <th>Andmed seisuga</th>\n",
       "      <th>YLDINE_STAATUS</th>\n",
       "      <th>EESTIS_ESMAREG_KP</th>\n",
       "      <th>ESMANE_REG_KP</th>\n",
       "      <th>KAIGUKASTI_TYYP</th>\n",
       "      <th>Kütuse tüüp</th>\n",
       "      <th>MOOTORI_TYYP</th>\n",
       "      <th>MOOTORI_MAHT</th>\n",
       "      <th>MOOTORI_VOIMSUS</th>\n",
       "      <th>HYBRIIDI_TYYP</th>\n",
       "      <th>...</th>\n",
       "      <th>REG_MASS</th>\n",
       "      <th>TAISMASS</th>\n",
       "      <th>TYHIMASS</th>\n",
       "      <th>TELGI_KOKKU</th>\n",
       "      <th>HEITMENORM</th>\n",
       "      <th>VARV</th>\n",
       "      <th>ISTEKOHTI</th>\n",
       "      <th>Kere nimetus</th>\n",
       "      <th>VK/OM MAAKOND</th>\n",
       "      <th>ARV</th>\n",
       "    </tr>\n",
       "  </thead>\n",
       "  <tbody>\n",
       "    <tr>\n",
       "      <th>0</th>\n",
       "      <td>01.12.2022</td>\n",
       "      <td>PEATATUD</td>\n",
       "      <td>01.01.0987</td>\n",
       "      <td>01.01.1987</td>\n",
       "      <td>NaN</td>\n",
       "      <td>BENSIIN</td>\n",
       "      <td>BENSIIN</td>\n",
       "      <td>1452.0</td>\n",
       "      <td>55.0</td>\n",
       "      <td>NaN</td>\n",
       "      <td>...</td>\n",
       "      <td>1510</td>\n",
       "      <td>1510.0</td>\n",
       "      <td>1050.0</td>\n",
       "      <td>2.0</td>\n",
       "      <td>NaN</td>\n",
       "      <td>BEEZ</td>\n",
       "      <td>5</td>\n",
       "      <td>UNIVERSAAL</td>\n",
       "      <td>PÕLVA MAAKOND</td>\n",
       "      <td>1</td>\n",
       "    </tr>\n",
       "    <tr>\n",
       "      <th>1</th>\n",
       "      <td>01.12.2022</td>\n",
       "      <td>PEATATUD</td>\n",
       "      <td>30.12.1899</td>\n",
       "      <td>01.01.1987</td>\n",
       "      <td>NaN</td>\n",
       "      <td>DIISEL</td>\n",
       "      <td>DIISEL</td>\n",
       "      <td>1608.0</td>\n",
       "      <td>40.0</td>\n",
       "      <td>NaN</td>\n",
       "      <td>...</td>\n",
       "      <td>1350</td>\n",
       "      <td>1350.0</td>\n",
       "      <td>910.0</td>\n",
       "      <td>2.0</td>\n",
       "      <td>NaN</td>\n",
       "      <td>BEEZ</td>\n",
       "      <td>5</td>\n",
       "      <td>LUUKPÄRA</td>\n",
       "      <td>HARJU MAAKOND</td>\n",
       "      <td>1</td>\n",
       "    </tr>\n",
       "    <tr>\n",
       "      <th>2</th>\n",
       "      <td>01.12.2022</td>\n",
       "      <td>PEATATUD</td>\n",
       "      <td>01.01.1900</td>\n",
       "      <td>01.01.1939</td>\n",
       "      <td>NaN</td>\n",
       "      <td>BENSIIN</td>\n",
       "      <td>BENSIIN</td>\n",
       "      <td>690.0</td>\n",
       "      <td>15.0</td>\n",
       "      <td>NaN</td>\n",
       "      <td>...</td>\n",
       "      <td>1120</td>\n",
       "      <td>1120.0</td>\n",
       "      <td>750.0</td>\n",
       "      <td>2.0</td>\n",
       "      <td>NaN</td>\n",
       "      <td>MUST</td>\n",
       "      <td>4</td>\n",
       "      <td>KUPEE</td>\n",
       "      <td>HARJU MAAKOND</td>\n",
       "      <td>1</td>\n",
       "    </tr>\n",
       "    <tr>\n",
       "      <th>3</th>\n",
       "      <td>01.12.2022</td>\n",
       "      <td>PEATATUD</td>\n",
       "      <td>01.01.1900</td>\n",
       "      <td>01.01.1939</td>\n",
       "      <td>NaN</td>\n",
       "      <td>BENSIIN</td>\n",
       "      <td>BENSIIN</td>\n",
       "      <td>2120.0</td>\n",
       "      <td>58.0</td>\n",
       "      <td>NaN</td>\n",
       "      <td>...</td>\n",
       "      <td>2020</td>\n",
       "      <td>2020.0</td>\n",
       "      <td>1430.0</td>\n",
       "      <td>2.0</td>\n",
       "      <td>NaN</td>\n",
       "      <td>HALL</td>\n",
       "      <td>5</td>\n",
       "      <td>SEDAAN</td>\n",
       "      <td>TARTU MAAKOND</td>\n",
       "      <td>1</td>\n",
       "    </tr>\n",
       "    <tr>\n",
       "      <th>4</th>\n",
       "      <td>01.12.2022</td>\n",
       "      <td>PEATATUD</td>\n",
       "      <td>01.01.1900</td>\n",
       "      <td>01.01.1948</td>\n",
       "      <td>MANUAAL</td>\n",
       "      <td>BENSIIN</td>\n",
       "      <td>BENSIIN</td>\n",
       "      <td>2445.0</td>\n",
       "      <td>52.0</td>\n",
       "      <td>NaN</td>\n",
       "      <td>...</td>\n",
       "      <td>1550</td>\n",
       "      <td>1550.0</td>\n",
       "      <td>1050.0</td>\n",
       "      <td>2.0</td>\n",
       "      <td>NaN</td>\n",
       "      <td>ROHELINE</td>\n",
       "      <td>5</td>\n",
       "      <td>LUUKPÄRA</td>\n",
       "      <td>SAARE MAAKOND</td>\n",
       "      <td>1</td>\n",
       "    </tr>\n",
       "  </tbody>\n",
       "</table>\n",
       "<p>5 rows × 27 columns</p>\n",
       "</div>"
      ],
      "text/plain": [
       "  Andmed seisuga YLDINE_STAATUS EESTIS_ESMAREG_KP ESMANE_REG_KP  \\\n",
       "0     01.12.2022       PEATATUD        01.01.0987    01.01.1987   \n",
       "1     01.12.2022       PEATATUD        30.12.1899    01.01.1987   \n",
       "2     01.12.2022       PEATATUD        01.01.1900    01.01.1939   \n",
       "3     01.12.2022       PEATATUD        01.01.1900    01.01.1939   \n",
       "4     01.12.2022       PEATATUD        01.01.1900    01.01.1948   \n",
       "\n",
       "  KAIGUKASTI_TYYP Kütuse tüüp MOOTORI_TYYP  MOOTORI_MAHT MOOTORI_VOIMSUS  \\\n",
       "0             NaN     BENSIIN      BENSIIN        1452.0            55.0   \n",
       "1             NaN      DIISEL       DIISEL        1608.0            40.0   \n",
       "2             NaN     BENSIIN      BENSIIN         690.0            15.0   \n",
       "3             NaN     BENSIIN      BENSIIN        2120.0            58.0   \n",
       "4         MANUAAL     BENSIIN      BENSIIN        2445.0            52.0   \n",
       "\n",
       "  HYBRIIDI_TYYP  ... REG_MASS  TAISMASS  TYHIMASS TELGI_KOKKU HEITMENORM  \\\n",
       "0           NaN  ...     1510    1510.0    1050.0         2.0        NaN   \n",
       "1           NaN  ...     1350    1350.0     910.0         2.0        NaN   \n",
       "2           NaN  ...     1120    1120.0     750.0         2.0        NaN   \n",
       "3           NaN  ...     2020    2020.0    1430.0         2.0        NaN   \n",
       "4           NaN  ...     1550    1550.0    1050.0         2.0        NaN   \n",
       "\n",
       "       VARV ISTEKOHTI  Kere nimetus  VK/OM MAAKOND  ARV  \n",
       "0      BEEZ         5    UNIVERSAAL  PÕLVA MAAKOND    1  \n",
       "1      BEEZ         5      LUUKPÄRA  HARJU MAAKOND    1  \n",
       "2      MUST         4         KUPEE  HARJU MAAKOND    1  \n",
       "3      HALL         5        SEDAAN  TARTU MAAKOND    1  \n",
       "4  ROHELINE         5      LUUKPÄRA  SAARE MAAKOND    1  \n",
       "\n",
       "[5 rows x 27 columns]"
      ]
     },
     "execution_count": 17,
     "metadata": {},
     "output_type": "execute_result"
    }
   ],
   "source": [
    "#kopeerime originaalse andmestiku\n",
    "data=data_orig.copy()\n",
    "data.head()"
   ]
  },
  {
   "cell_type": "code",
   "execution_count": 18,
   "id": "694a39ce",
   "metadata": {},
   "outputs": [],
   "source": [
    "#kustutame ebavajalikud andmed\n",
    "data=data[data.YLDINE_STAATUS != \"PEATATUD\"]\n",
    "data=data.reset_index()\n",
    "data=data.drop([\"Andmed seisuga\",\"index\",\"VARV\",\"ISTEKOHTI\", \"Kere nimetus\", \"ARV\",\"Kategooria\",\"Keretüüp\",\"TELGI_KOKKU\",\"TAISMASS\", \"TYHIMASS\",\"YLDINE_STAATUS\",\"EESTIS_ESMAREG_KP\", \"MOOTORI_TYYP\", \"Kütuse tüüp\", \"HYBRIIDI_TYYP\"], axis=1)"
   ]
  },
  {
   "cell_type": "code",
   "execution_count": 19,
   "id": "474abacc",
   "metadata": {},
   "outputs": [],
   "source": [
    "#asendame Nan-informatsioonilahtrid käigukastitüübis\n",
    "#Nan -> manuaal\n",
    "data[\"KAIGUKASTI_TYYP\"]=data[\"KAIGUKASTI_TYYP\"].fillna(\"MANUAAL\")"
   ]
  },
  {
   "cell_type": "code",
   "execution_count": 20,
   "id": "28aea41e",
   "metadata": {},
   "outputs": [],
   "source": [
    "#asendame puuduvad NEDC väärtused võimalusel WLTP omadega, vastasel juhul\n",
    "#eelistame NEDC\n",
    "\n",
    "for i in range(len(data[\"CO2_NEDC\"])):\n",
    "    vana=data[\"CO2_NEDC\"].iloc[i]\n",
    "    uus=data[\"CO2_WLTP\"].iloc[i]\n",
    "    if str(vana)==\"nan\" and str(uus)!=\"nan\":\n",
    "        data.loc[i,'CO2_NEDC']=int(uus)\n",
    "data=data.drop([\"CO2_WLTP\"], axis=1)        "
   ]
  },
  {
   "cell_type": "code",
   "execution_count": 21,
   "id": "710ec49e",
   "metadata": {},
   "outputs": [],
   "source": [
    "#data.to_csv('soidukid_cleaned.csv',encoding='utf-8-sig',sep=';')"
   ]
  },
  {
   "cell_type": "code",
   "execution_count": 22,
   "id": "16d38618",
   "metadata": {},
   "outputs": [],
   "source": [
    "#VAZ-de CO2_NEDC NaN väärtused asendame 210-ga, kuna antud autod omavad sama mootorit\n",
    "for i in range(len(data[\"CO2_NEDC\"])):\n",
    "    mark=data[\"Mark\"].iloc[i]\n",
    "    if str(mark)==\"VAZ\":\n",
    "        data.loc[i,'CO2_NEDC']=210"
   ]
  },
  {
   "cell_type": "code",
   "execution_count": 24,
   "id": "e0728212",
   "metadata": {},
   "outputs": [],
   "source": [
    "#Peamised mootorid ning nende CO2_NEDC, et vähendada NaN valuesid CO2 tulbas\n",
    "motoras_VW={1968.0:146.0, 1896.0:162.0, 2461.0:171.0, 2771.0:255.0, 2967.0:180.0 ,1781.0:190.0, 2792.0:278.0}\n",
    "motoras_BMW={1596.0:171.6, 1991.0:165.3, 2979.0:169.0, 2993.0:170.0, 2926.0:178.0, 1995.0:153.0, 1796.0:208.0, 1950.0:158.0}"
   ]
  },
  {
   "cell_type": "code",
   "execution_count": 25,
   "id": "5a88ce84",
   "metadata": {},
   "outputs": [],
   "source": [
    "#Asendame NaN-valued võimalusel Volkswageni ja Audi peamiste mootorite CO2 reostustasemed\n",
    "for i in range(len(data[\"CO2_NEDC\"])):\n",
    "    mootor=data[\"MOOTORI_MAHT\"].iloc[i]\n",
    "    NEDC=data[\"CO2_NEDC\"].iloc[i]\n",
    "    mark=data[\"Mark\"].iloc[i]\n",
    "    if str(NEDC)==\"nan\" and float(mootor) in motoras_VW.keys() and (str(mark)==\"VOLKSWAGEN\" or str(mark)==\"AUDI\"):\n",
    "        data.loc[i,'CO2_NEDC']=int(motoras_VW.get(float(mootor)))"
   ]
  },
  {
   "cell_type": "code",
   "execution_count": 26,
   "id": "4af53edf",
   "metadata": {},
   "outputs": [],
   "source": [
    "#Asendame NaN-valued võimalusel BMW peamiste mootorite CO2 reostustasemed\n",
    "for i in range(len(data[\"CO2_NEDC\"])):\n",
    "    mootor=data[\"MOOTORI_MAHT\"].iloc[i]\n",
    "    NEDC=data[\"CO2_NEDC\"].iloc[i]\n",
    "    mark=data[\"Mark\"].iloc[i]\n",
    "    if str(NEDC)==\"nan\" and float(mootor) in motoras_BMW.keys() and str(mark)==\"BMW\":\n",
    "        data.loc[i,'CO2_NEDC']=int(motoras_BMW.get(float(mootor)))"
   ]
  },
  {
   "cell_type": "code",
   "execution_count": 27,
   "id": "c51cae12",
   "metadata": {},
   "outputs": [],
   "source": [
    "#Asendame NaN-valued elektri-autodel nulliga\n",
    "for i in range(len(data[\"CO2_NEDC\"])):\n",
    "    kütus=data[\"Kütusekombinatsioon\"].iloc[i]\n",
    "    NEDC=data[\"CO2_NEDC\"].iloc[i]\n",
    "    if str(NEDC)==\"nan\" and str(kütus)==\"ELEKTER\":\n",
    "        data.loc[i,'CO2_NEDC']=0"
   ]
  },
  {
   "cell_type": "code",
   "execution_count": 28,
   "id": "6d5136b1",
   "metadata": {},
   "outputs": [],
   "source": [
    "brändid={}\n",
    "for i in range(len(data[\"CO2_NEDC\"])):\n",
    "    NEDC=data[\"CO2_NEDC\"].iloc[i]\n",
    "    if str(NEDC)==\"nan\":\n",
    "        if str(data[\"Mark\"].iloc[i]) in brändid.keys():\n",
    "            brändid[str(data[\"Mark\"].iloc[i])]= int(brändid.get(str(data[\"Mark\"].iloc[i])))+1\n",
    "        else:\n",
    "            brändid[str(data[\"Mark\"].iloc[i])]= 1             \n",
    "brändid=dict(sorted(brändid.items(), key=lambda item: item[1]))\n",
    "#print(brändid)"
   ]
  },
  {
   "cell_type": "code",
   "execution_count": 29,
   "id": "b246337b",
   "metadata": {},
   "outputs": [],
   "source": [
    "#Asendame vigased maakonna nimed\n",
    "tundmatud=['L��NE-VIRU MAAKOND', 'P�RNU MAAKOND', 'J�RVA MAAKOND', 'P�LVA MAAKOND', 'V�RU MAAKOND']\n",
    "asendused=[\"LÄÄNE-VIRU MAAKOND\", \"PÄRNU MAAKOND\", \"JÄRVA MAAKOND\", \"PÕLVA MAAKOND\", \"VÕRU MAAKOND\"]\n",
    "\n",
    "for i in range(len(tundmatud)):\n",
    "    data[\"VK/OM MAAKOND\"]=data[\"VK/OM MAAKOND\"].replace([tundmatud[i]],asendused[i])\n",
    "    \n",
    "MAAKONNAD=[]\n",
    "for i in range(len(data[\"VK/OM MAAKOND\"])):\n",
    "    maakond=data[\"VK/OM MAAKOND\"].iloc[i]\n",
    "    if str(maakond) not in MAAKONNAD:\n",
    "        MAAKONNAD.append(str(maakond))"
   ]
  },
  {
   "cell_type": "code",
   "execution_count": 30,
   "id": "b10abda6",
   "metadata": {
    "scrolled": true
   },
   "outputs": [
    {
     "name": "stdout",
     "output_type": "stream",
     "text": [
      "Passateid Eestis 29261\n",
      "{'HARJU MAAKOND': 281403, 'PÄRNU MAAKOND': 42387, 'TARTU MAAKOND': 74682, 'VALGA MAAKOND': 14754, 'VÕRU MAAKOND': 20159, 'HIIU MAAKOND': 6339, 'PÕLVA MAAKOND': 15091, 'SAARE MAAKOND': 20174, 'LÄÄNE-VIRU MAAKOND': 29375, 'IDA-VIRU MAAKOND': 48605, 'JÕGEVA MAAKOND': 14729, 'LÄÄNE MAAKOND': 10963, 'RAPLA MAAKOND': 18914, 'VILJANDI MAAKOND': 24343, 'JÄRVA MAAKOND': 15828, 'MÄÄRAMATA': 11487}\n",
      "{'HARJU MAAKOND': 8835, 'PÄRNU MAAKOND': 2027, 'TARTU MAAKOND': 4346, 'VALGA MAAKOND': 1055, 'VÕRU MAAKOND': 1833, 'HIIU MAAKOND': 276, 'PÕLVA MAAKOND': 1419, 'SAARE MAAKOND': 816, 'LÄÄNE-VIRU MAAKOND': 1317, 'IDA-VIRU MAAKOND': 2101, 'JÕGEVA MAAKOND': 995, 'LÄÄNE MAAKOND': 479, 'RAPLA MAAKOND': 876, 'VILJANDI MAAKOND': 1462, 'JÄRVA MAAKOND': 830, 'MÄÄRAMATA': 594}\n"
     ]
    }
   ],
   "source": [
    "autod_maakonnas={'HARJU MAAKOND':0, 'PÄRNU MAAKOND':0, 'TARTU MAAKOND':0, 'VALGA MAAKOND':0, 'VÕRU MAAKOND':0, 'HIIU MAAKOND':0, 'PÕLVA MAAKOND':0, 'SAARE MAAKOND':0, 'LÄÄNE-VIRU MAAKOND':0, 'IDA-VIRU MAAKOND':0, 'JÕGEVA MAAKOND':0, 'LÄÄNE MAAKOND':0, 'RAPLA MAAKOND':0, 'VILJANDI MAAKOND':0, 'JÄRVA MAAKOND':0, 'MÄÄRAMATA':0}\n",
    "passatid_maakonnas={'HARJU MAAKOND':0, 'PÄRNU MAAKOND':0, 'TARTU MAAKOND':0, 'VALGA MAAKOND':0, 'VÕRU MAAKOND':0, 'HIIU MAAKOND':0, 'PÕLVA MAAKOND':0, 'SAARE MAAKOND':0, 'LÄÄNE-VIRU MAAKOND':0, 'IDA-VIRU MAAKOND':0, 'JÕGEVA MAAKOND':0, 'LÄÄNE MAAKOND':0, 'RAPLA MAAKOND':0, 'VILJANDI MAAKOND':0, 'JÄRVA MAAKOND':0, 'MÄÄRAMATA':0}\n",
    "passatid_kokku=0\n",
    "\n",
    "#Loeme maakondades kõik autod ja passatid kokku ning lisame vastavalt sõnastikesse\n",
    "for i in range(len(data[\"VK/OM MAAKOND\"])):\n",
    "    mudel=data[\"Mudel\"].iloc[i]\n",
    "    maakond=data[\"VK/OM MAAKOND\"].iloc[i]\n",
    "    autod_maakonnas[str(maakond)]= int(autod_maakonnas.get(str(maakond)))+1\n",
    "    if \"PASSAT\" in str(mudel):\n",
    "        passatid_kokku+=1\n",
    "        passatid_maakonnas[str(maakond)]= int(passatid_maakonnas.get(str(maakond)))+1\n",
    "\n",
    "print(\"Passateid Eestis \" + str(passatid_kokku))\n",
    "print(autod_maakonnas)\n",
    "print(passatid_maakonnas)"
   ]
  },
  {
   "cell_type": "code",
   "execution_count": 31,
   "id": "750da0d1",
   "metadata": {
    "scrolled": true
   },
   "outputs": [
    {
     "name": "stdout",
     "output_type": "stream",
     "text": [
      "Passateid HARJU MAAKOND 3.14 %\n",
      "Passateid PÄRNU MAAKOND 4.78 %\n",
      "Passateid TARTU MAAKOND 5.82 %\n",
      "Passateid VALGA MAAKOND 7.15 %\n",
      "Passateid VÕRU MAAKOND 9.09 %\n",
      "Passateid HIIU MAAKOND 4.35 %\n",
      "Passateid PÕLVA MAAKOND 9.4 %\n",
      "Passateid SAARE MAAKOND 4.04 %\n",
      "Passateid LÄÄNE-VIRU MAAKOND 4.48 %\n",
      "Passateid IDA-VIRU MAAKOND 4.32 %\n",
      "Passateid JÕGEVA MAAKOND 6.76 %\n",
      "Passateid LÄÄNE MAAKOND 4.37 %\n",
      "Passateid RAPLA MAAKOND 4.63 %\n",
      "Passateid VILJANDI MAAKOND 6.01 %\n",
      "Passateid JÄRVA MAAKOND 5.24 %\n",
      "Passateid MÄÄRAMATA 5.17 %\n"
     ]
    }
   ],
   "source": [
    "for i in range(len(autod_maakonnas)):\n",
    "    print(\"Passateid \" + str(MAAKONNAD[i]) +\" \"+ str(round((passatid_maakonnas.get(MAAKONNAD[i])/autod_maakonnas.get(MAAKONNAD[i]))*100,2))+ \" %\")"
   ]
  },
  {
   "cell_type": "code",
   "execution_count": 32,
   "id": "a0dbf631",
   "metadata": {},
   "outputs": [],
   "source": [
    "CO2_maakonnas={'HARJU MAAKOND':0, 'PÄRNU MAAKOND':0, 'TARTU MAAKOND':0, 'VALGA MAAKOND':0, 'VÕRU MAAKOND':0, 'HIIU MAAKOND':0, 'PÕLVA MAAKOND':0, 'SAARE MAAKOND':0, 'LÄÄNE-VIRU MAAKOND':0, 'IDA-VIRU MAAKOND':0, 'JÕGEVA MAAKOND':0, 'LÄÄNE MAAKOND':0, 'RAPLA MAAKOND':0, 'VILJANDI MAAKOND':0, 'JÄRVA MAAKOND':0, 'MÄÄRAMATA':0}\n",
    "\n",
    "for i in range(len(data[\"CO2_NEDC\"])):\n",
    "    maakond=data[\"VK/OM MAAKOND\"].iloc[i]\n",
    "    co=data[\"CO2_NEDC\"].iloc[i]\n",
    "    if str(co)!=\"nan\":\n",
    "        CO2_maakonnas[str(maakond)]= float(CO2_maakonnas.get(str(maakond))) + float(data[\"CO2_NEDC\"].iloc[i])"
   ]
  },
  {
   "cell_type": "code",
   "execution_count": 33,
   "id": "e0cb747f",
   "metadata": {
    "scrolled": true
   },
   "outputs": [
    {
     "name": "stdout",
     "output_type": "stream",
     "text": [
      "CO2 reostus: HARJU MAAKOND 135.47 g/km\n",
      "CO2 reostus: PÄRNU MAAKOND 130.43 g/km\n",
      "CO2 reostus: TARTU MAAKOND 132.39 g/km\n",
      "CO2 reostus: VALGA MAAKOND 128.27 g/km\n",
      "CO2 reostus: VÕRU MAAKOND 127.07 g/km\n",
      "CO2 reostus: HIIU MAAKOND 126.2 g/km\n",
      "CO2 reostus: PÕLVA MAAKOND 126.13 g/km\n",
      "CO2 reostus: SAARE MAAKOND 124.21 g/km\n",
      "CO2 reostus: LÄÄNE-VIRU MAAKOND 129.11 g/km\n",
      "CO2 reostus: IDA-VIRU MAAKOND 137.09 g/km\n",
      "CO2 reostus: JÕGEVA MAAKOND 129.22 g/km\n",
      "CO2 reostus: LÄÄNE MAAKOND 127.54 g/km\n",
      "CO2 reostus: RAPLA MAAKOND 129.7 g/km\n",
      "CO2 reostus: VILJANDI MAAKOND 127.56 g/km\n",
      "CO2 reostus: JÄRVA MAAKOND 130.09 g/km\n",
      "CO2 reostus: MÄÄRAMATA 134.39 g/km\n"
     ]
    }
   ],
   "source": [
    "CO2_maakonniti=[]\n",
    "for i in range(len(autod_maakonnas)):\n",
    "    print(\"CO2 reostus: \" + str(MAAKONNAD[i]) +\" \"+ str(round((CO2_maakonnas.get(MAAKONNAD[i])/autod_maakonnas.get(MAAKONNAD[i])),2))+ \" g/km\")\n",
    "    CO2_maakonniti.append(round((CO2_maakonnas.get(MAAKONNAD[i])/autod_maakonnas.get(MAAKONNAD[i])),2))"
   ]
  },
  {
   "cell_type": "code",
   "execution_count": 120,
   "id": "968a09f9",
   "metadata": {
    "scrolled": true
   },
   "outputs": [
    {
     "data": {
      "image/png": "[encoded data removed]",
      "text/plain": [
       "<Figure size 1152x648 with 1 Axes>"
      ]
     },
     "metadata": {
      "needs_background": "light"
     },
     "output_type": "display_data"
    }
   ],
   "source": [
    "colors = sns.color_palette('pastel')[0:16]\n",
    "fig, ax = plt.subplots(figsize =(16, 9))\n",
    "\n",
    "ax.barh(MAAKONNAD, CO2_maakonniti, color=colors)\n",
    "\n",
    "ax.set_xlabel('CO2 emissions (g/km)')\n",
    "ax.set_ylabel('Counties')\n",
    "ax.set_title('Average CO2 emissions by car in county')\n",
    "\n",
    "plt.xlim([122.5,138])\n",
    "\n",
    "plt.show()"
   ]
  },
  {
   "cell_type": "code",
   "execution_count": 35,
   "id": "ed66caeb",
   "metadata": {},
   "outputs": [],
   "source": [
    "margid={}\n",
    "for i in range(len(data[\"Mark\"])):\n",
    "    mark=data[\"Mark\"].iloc[i]\n",
    "    if str(mark) not in margid:\n",
    "        margid[str(mark)]=1  "
   ]
  },
  {
   "cell_type": "code",
   "execution_count": 36,
   "id": "c8085898",
   "metadata": {},
   "outputs": [
    {
     "name": "stdout",
     "output_type": "stream",
     "text": [
      "VOLKSWAGEN\n",
      "TOYOTA\n",
      "AUDI\n"
     ]
    }
   ],
   "source": [
    "#top 3 enim kasutatud auto mark\n",
    "for i in range(len(data[\"Mark\"])):\n",
    "    mark=data[\"Mark\"].iloc[i]\n",
    "    margid[str(mark)]=margid.get(str(mark))+1\n",
    "margid=dict(sorted(margid.items(), key=lambda item: item[1]))\n",
    "print(list(margid.keys())[-1])\n",
    "print(list(margid.keys())[-2])\n",
    "print(list(margid.keys())[-3])"
   ]
  },
  {
   "cell_type": "code",
   "execution_count": 37,
   "id": "6c5e0a79",
   "metadata": {},
   "outputs": [],
   "source": [
    "mudelid_vw={}\n",
    "mudelid_toyota={}\n",
    "mudelid_audi={}\n",
    "\n",
    "for i in range(len(data[\"Mudel\"])):\n",
    "    mark=data[\"Mark\"].iloc[i]\n",
    "    mudel=data[\"Mudel\"].iloc[i]\n",
    "    if str(mark) == \"VOLKSWAGEN\":\n",
    "        if str(mudel) not in mudelid_vw:\n",
    "            mudelid_vw[str(mudel)]=1\n",
    "        else:\n",
    "            mudelid_vw[str(mudel)]=mudelid_vw.get(str(mudel))+1\n",
    "    elif str(mark) == \"TOYOTA\":\n",
    "        if str(mudel) not in mudelid_toyota:\n",
    "            mudelid_toyota[str(mudel)]=1\n",
    "        else:\n",
    "            mudelid_toyota[str(mudel)]=mudelid_toyota.get(str(mudel))+1\n",
    "    elif str(mark) == \"AUDI\":\n",
    "        if str(mudel) not in mudelid_audi:\n",
    "            mudelid_audi[str(mudel)]=1\n",
    "        else:\n",
    "            mudelid_audi[str(mudel)]=mudelid_audi.get(str(mudel))+1"
   ]
  },
  {
   "cell_type": "code",
   "execution_count": 38,
   "id": "1dced717",
   "metadata": {
    "scrolled": true
   },
   "outputs": [
    {
     "name": "stdout",
     "output_type": "stream",
     "text": [
      "AUDI TOP 3: \n",
      "A6 AVANT 9395\n",
      "A4 AVANT 7399\n",
      "A4 4787\n",
      "A6 4625\n",
      "\n",
      "Volkswagen TOP 3: \n",
      "PASSAT 17205\n",
      "GOLF 12801\n",
      "PASSAT VARIANT 11543\n",
      "\n",
      "Toyota TOP 3: \n",
      "AVENSIS 14439\n",
      "COROLLA 11531\n",
      "RAV4 11394\n"
     ]
    }
   ],
   "source": [
    "mudelid_audi=dict(sorted(mudelid_audi.items(), key=lambda item: item[1]))\n",
    "mudelid_toyota=dict(sorted(mudelid_toyota.items(), key=lambda item: item[1]))\n",
    "mudelid_vw=dict(sorted(mudelid_vw.items(), key=lambda item: item[1]))\n",
    "\n",
    "print(\"AUDI TOP 3: \")\n",
    "print(list(mudelid_audi.keys())[-1] + \" \" + str(list(mudelid_audi.values())[-1]))\n",
    "print(list(mudelid_audi.keys())[-2] + \" \" + str(list(mudelid_audi.values())[-2]))\n",
    "print(list(mudelid_audi.keys())[-3] + \" \" + str(list(mudelid_audi.values())[-3]))\n",
    "print(list(mudelid_audi.keys())[-4] + \" \" + str(list(mudelid_audi.values())[-4]))\n",
    "print()\n",
    "print(\"Volkswagen TOP 3: \")\n",
    "print(list(mudelid_vw.keys())[-1] + \" \" + str(list(mudelid_vw.values())[-1]))\n",
    "print(list(mudelid_vw.keys())[-2] + \" \" + str(list(mudelid_vw.values())[-2]))\n",
    "print(list(mudelid_vw.keys())[-3] + \" \" + str(list(mudelid_vw.values())[-3]))\n",
    "print()\n",
    "print(\"Toyota TOP 3: \")\n",
    "print(list(mudelid_toyota.keys())[-1] + \" \" + str(list(mudelid_toyota.values())[-1]))\n",
    "print(list(mudelid_toyota.keys())[-2] + \" \" + str(list(mudelid_toyota.values())[-2]))\n",
    "print(list(mudelid_toyota.keys())[-3] + \" \" + str(list(mudelid_toyota.values())[-3]))"
   ]
  },
  {
   "cell_type": "code",
   "execution_count": 40,
   "id": "8be58b60",
   "metadata": {},
   "outputs": [],
   "source": [
    "#Estonian motor sizes\n",
    "mootori_maht = {}\n",
    "mootori_mahud = []\n",
    "mootoreid = []\n",
    "data[\"MOOTORI_MAHT\"] = data[\"MOOTORI_MAHT\"].fillna(0)\n",
    "for i in range(len(data[\"MOOTORI_MAHT\"])):\n",
    "    maht = data[\"MOOTORI_MAHT\"].iloc[i]\n",
    "    mahtr = round(int(maht)/1000,1)\n",
    "    if str(mahtr) not in mootori_maht:\n",
    "        mootori_maht[str(mahtr)] = 1\n",
    "    else:\n",
    "        mootori_maht[str(mahtr)]=mootori_maht.get(str(mahtr))+1\n",
    "mootori_maht=dict(sorted(mootori_maht.items(), key=lambda item: item[1]))"
   ]
  },
  {
   "cell_type": "code",
   "execution_count": 41,
   "id": "ba88e681",
   "metadata": {},
   "outputs": [],
   "source": [
    "for key, value in mootori_maht.items():\n",
    "    if int(value) > 25000:\n",
    "        mootori_mahud.append(key) \n",
    "        mootoreid.append(value)"
   ]
  },
  {
   "cell_type": "code",
   "execution_count": 42,
   "id": "0e1b5c25",
   "metadata": {},
   "outputs": [],
   "source": [
    "res = {}\n",
    "mootorcopy = mootoreid.copy()\n",
    "for key in mootori_mahud:\n",
    "    for value in mootorcopy:\n",
    "        res[key] = value\n",
    "        mootorcopy.remove(value)\n",
    "        break\n",
    "res=dict(sorted(res.items(), key=lambda item: item[1]))"
   ]
  },
  {
   "cell_type": "code",
   "execution_count": 128,
   "id": "6639f673",
   "metadata": {
    "scrolled": true
   },
   "outputs": [
    {
     "data": {
      "image/png": "[encoded data removed]",
      "text/plain": [
       "<Figure size 432x288 with 1 Axes>"
      ]
     },
     "metadata": {
      "needs_background": "light"
     },
     "output_type": "display_data"
    }
   ],
   "source": [
    "colors = sns.color_palette('pastel')[0:9]\n",
    "plt.bar(*zip(*res.items()), color=colors)\n",
    "#plt.title('Most popular engine sizes')\n",
    "#plt.ylabel('Popularity')\n",
    "#plt.xlabel('Engine size (l)')\n",
    "plt.show()"
   ]
  },
  {
   "cell_type": "code",
   "execution_count": 44,
   "id": "3c2f9c06",
   "metadata": {
    "scrolled": false
   },
   "outputs": [],
   "source": [
    "kütused = {}\n",
    "data[\"Kütusekombinatsioon\"] = data[\"Kütusekombinatsioon\"].fillna(\"TEADMATA\")\n",
    "for i in range(len(data[\"Kütusekombinatsioon\"])):\n",
    "    kütus = data[\"Kütusekombinatsioon\"].iloc[i]\n",
    "    if str(kütus) not in kütused:\n",
    "        kütused[str(kütus)] = 1\n",
    "    else:\n",
    "        kütused[str(kütus)]=kütused.get(str(kütus))+1\n",
    "kütused=dict(sorted(kütused.items(), key=lambda item: item[1]))\n",
    "kütused = dict(reversed(list(kütused.items())))"
   ]
  },
  {
   "cell_type": "code",
   "execution_count": 45,
   "id": "e2f23e3e",
   "metadata": {},
   "outputs": [
    {
     "data": {
      "image/png": "[encoded data removed]",
      "text/plain": [
       "<Figure size 432x288 with 1 Axes>"
      ]
     },
     "metadata": {},
     "output_type": "display_data"
    }
   ],
   "source": [
    "# Data to plot\n",
    "labels = []\n",
    "sizes = []\n",
    "\n",
    "colors = sns.color_palette('pastel')[0:5]\n",
    "muu_suurus=0\n",
    "for x, y in kütused.items():\n",
    "    if str(x)==\"DIISEL\" or str(x)==\"BENSIIN\" or str(x)==\"BENSIIN-ELEKTER\":\n",
    "        labels.append(x)\n",
    "        sizes.append(y)\n",
    "    else:\n",
    "        muu_suurus+=y\n",
    "\n",
    "labels.append(\"MUU\")\n",
    "sizes.append(muu_suurus)\n",
    "\n",
    "#explsion\n",
    "explode = (0.05,0.05,0.05,0.05)\n",
    " \n",
    "plt.pie(sizes, colors = colors, labels=labels, autopct='%1.0f%%', startangle=90, pctdistance=0.75, explode = explode, radius=1.4, textprops={'fontsize': 12})\n",
    "#draw circle\n",
    "centre_circle = plt.Circle((0,0),0.70,fc='white')\n",
    "fig = plt.gcf()\n",
    "fig.gca().add_artist(centre_circle)\n",
    "# Equal aspect ratio ensures that pie is drawn as a circle\n",
    "#ax1.axis('equal')  \n",
    "plt.tight_layout()\n",
    "plt.show()"
   ]
  },
  {
   "cell_type": "code",
   "execution_count": 46,
   "id": "23bacb52",
   "metadata": {},
   "outputs": [],
   "source": [
    "käigukastid = {}\n",
    "data[\"KAIGUKASTI_TYYP\"] = data[\"KAIGUKASTI_TYYP\"].fillna(\"TEADMATA\")\n",
    "for i in range(len(data[\"KAIGUKASTI_TYYP\"])):\n",
    "    käigukast = data[\"KAIGUKASTI_TYYP\"].iloc[i]\n",
    "    if str(käigukast) not in käigukastid:\n",
    "        käigukastid[str(käigukast)] = 1\n",
    "    else:\n",
    "        käigukastid[str(käigukast)]=käigukastid.get(str(käigukast))+1\n",
    "käigukastid=dict(sorted(käigukastid.items(), key=lambda item: item[1]))\n",
    "käigukastid = dict(reversed(list(käigukastid.items())))"
   ]
  },
  {
   "cell_type": "code",
   "execution_count": 47,
   "id": "93336ebd",
   "metadata": {},
   "outputs": [
    {
     "data": {
      "image/png": "[encoded data removed]",
      "text/plain": [
       "<Figure size 288x288 with 1 Axes>"
      ]
     },
     "metadata": {},
     "output_type": "display_data"
    }
   ],
   "source": [
    "fig =plt.figure(figsize = (4,4))\n",
    "ax11 = fig.add_subplot(111)\n",
    "# Data to plot\n",
    "\n",
    "labels = []\n",
    "sizes = []\n",
    "\n",
    "colors = sns.color_palette('pastel')[0:5]\n",
    "muu_suurus=0\n",
    "for x, y in käigukastid.items():\n",
    "    if str(x)==\"MANUAAL\" or str(x)==\"AUTOMAAT\" or str(x)==\"CVT\":\n",
    "        labels.append(x)\n",
    "        sizes.append(y)\n",
    "    else:\n",
    "        muu_suurus+=y\n",
    "\n",
    "labels.append(\"MUU\")\n",
    "sizes.append(muu_suurus)\n",
    "\n",
    "explode = (0.05,0.05,0.05,0.05)\n",
    "\n",
    "# Plot\n",
    "w,l,p = ax11.pie(sizes,  labels=labels, colors=colors,\n",
    "        autopct='%1.1f%%', startangle=140, pctdistance=1, explode=explode,textprops={'fontsize': 14})\n",
    "\n",
    "pctdists = [.7, .7, .8, .65]\n",
    "\n",
    "for t,d in zip(p, pctdists):\n",
    "    xi,yi = t.get_position()\n",
    "    ri = np.sqrt(xi**2+yi**2)\n",
    "    phi = np.arctan2(yi,xi)\n",
    "    x = d*ri*np.cos(phi)\n",
    "    y = d*ri*np.sin(phi)\n",
    "    t.set_position((x,y))\n",
    "    \n",
    "centre_circle = plt.Circle((0,0),0.45,fc='white')\n",
    "fig = plt.gcf()\n",
    "fig.gca().add_artist(centre_circle)\n",
    "\n",
    "plt.axis('equal')\n",
    "plt.show()"
   ]
  },
  {
   "cell_type": "code",
   "execution_count": 48,
   "id": "90fce4a2",
   "metadata": {},
   "outputs": [],
   "source": [
    "aastad = {}\n",
    "for i in range(len(data[\"ESMANE_REG_KP\"])):\n",
    "    aasta = int(str(data[\"ESMANE_REG_KP\"].iloc[i])[6:10])\n",
    "    if aasta not in aastad:\n",
    "        aastad[aasta] = 1\n",
    "    else:\n",
    "        aastad[aasta]=aastad.get(aasta)+1"
   ]
  },
  {
   "cell_type": "code",
   "execution_count": 49,
   "id": "05a49ad7",
   "metadata": {},
   "outputs": [],
   "source": [
    "aastad=dict(sorted(aastad.items(), key=lambda item: item[1]))\n",
    "\n",
    "aasta_vahemikud = [\"1900-1989\", \"1990-1999\", \"2000-2005\", \"2006-2010\", \"2010-2015\", \"2016-2020\", \"2021+\"]\n",
    "autode_arv_vahemikus = [0,0,0,0,0,0,0]\n",
    "\n",
    "for key, value in aastad.items():\n",
    "    if key > 1899 and key < 1990:\n",
    "        autode_arv_vahemikus[0] = autode_arv_vahemikus[0] + value\n",
    "    elif key > 1899 and key < 2000:\n",
    "        autode_arv_vahemikus[1] = autode_arv_vahemikus[1] + value\n",
    "    elif key > 1999 and key < 2006:\n",
    "        autode_arv_vahemikus[2] = autode_arv_vahemikus[2] + value\n",
    "    elif key > 2005 and key < 2011:\n",
    "        autode_arv_vahemikus[3] = autode_arv_vahemikus[3] + value\n",
    "    elif key > 2010 and key < 2016:\n",
    "        autode_arv_vahemikus[4] = autode_arv_vahemikus[4] + value\n",
    "    elif key > 2015 and key < 2021:\n",
    "        autode_arv_vahemikus[5] = autode_arv_vahemikus[5] + value\n",
    "    else:\n",
    "        autode_arv_vahemikus[6] = autode_arv_vahemikus[6] + value"
   ]
  },
  {
   "cell_type": "code",
   "execution_count": 127,
   "id": "dbc265c4",
   "metadata": {
    "scrolled": false
   },
   "outputs": [
    {
     "data": {
      "image/png": "[encoded data removed]",
      "text/plain": [
       "<Figure size 1152x648 with 1 Axes>"
      ]
     },
     "metadata": {
      "needs_background": "light"
     },
     "output_type": "display_data"
    }
   ],
   "source": [
    "colors = sns.color_palette('pastel')[0:7]\n",
    "\n",
    "fig, ax = plt.subplots(figsize =(16, 9))\n",
    "\n",
    "ax.barh(aasta_vahemikud, autode_arv_vahemikus, color=colors)\n",
    "\n",
    "#ax.set_xlabel('Number of cars')\n",
    "#ax.set_ylabel('Years')\n",
    "#ax.set_title('What manufacturing year are estonian cars')\n",
    "\n",
    "plt.show()"
   ]
  },
  {
   "cell_type": "code",
   "execution_count": 51,
   "id": "4bbb3936",
   "metadata": {},
   "outputs": [
    {
     "name": "stderr",
     "output_type": "stream",
     "text": [
      "C:\\Users\\Liis Reimand\\AppData\\Local\\Temp\\ipykernel_15816\\2250848960.py:8: SettingWithCopyWarning: \n",
      "A value is trying to be set on a copy of a slice from a DataFrame\n",
      "\n",
      "See the caveats in the documentation: https://pandas.pydata.org/pandas-docs/stable/user_guide/indexing.html#returning-a-view-versus-a-copy\n",
      "  data[\"MOOTORI_VOIMSUS\"].iloc[i] = võimsus_str\n"
     ]
    },
    {
     "data": {
      "text/html": [
       "<div>\n",
       "<style scoped>\n",
       "    .dataframe tbody tr th:only-of-type {\n",
       "        vertical-align: middle;\n",
       "    }\n",
       "\n",
       "    .dataframe tbody tr th {\n",
       "        vertical-align: top;\n",
       "    }\n",
       "\n",
       "    .dataframe thead th {\n",
       "        text-align: right;\n",
       "    }\n",
       "</style>\n",
       "<table border=\"1\" class=\"dataframe\">\n",
       "  <thead>\n",
       "    <tr style=\"text-align: right;\">\n",
       "      <th></th>\n",
       "      <th>ESMANE_REG_KP</th>\n",
       "      <th>KAIGUKASTI_TYYP</th>\n",
       "      <th>MOOTORI_MAHT</th>\n",
       "      <th>MOOTORI_VOIMSUS</th>\n",
       "      <th>Kütusekombinatsioon</th>\n",
       "      <th>CO2_NEDC</th>\n",
       "      <th>Mark</th>\n",
       "      <th>Mudel</th>\n",
       "      <th>REG_MASS</th>\n",
       "      <th>HEITMENORM</th>\n",
       "      <th>VK/OM MAAKOND</th>\n",
       "    </tr>\n",
       "  </thead>\n",
       "  <tbody>\n",
       "    <tr>\n",
       "      <th>0</th>\n",
       "      <td>18.05.2020</td>\n",
       "      <td>AUTOMAAT</td>\n",
       "      <td>1332.0</td>\n",
       "      <td>117</td>\n",
       "      <td>BENSIIN</td>\n",
       "      <td>131.0</td>\n",
       "      <td>NISSAN</td>\n",
       "      <td>QASHQAI</td>\n",
       "      <td>1885</td>\n",
       "      <td>EURO6</td>\n",
       "      <td>HARJU MAAKOND</td>\n",
       "    </tr>\n",
       "    <tr>\n",
       "      <th>1</th>\n",
       "      <td>01.01.1938</td>\n",
       "      <td>MANUAAL</td>\n",
       "      <td>2127.0</td>\n",
       "      <td>79</td>\n",
       "      <td>BENSIIN</td>\n",
       "      <td>NaN</td>\n",
       "      <td>VAUXHALL</td>\n",
       "      <td>-</td>\n",
       "      <td>1450</td>\n",
       "      <td>NaN</td>\n",
       "      <td>PÄRNU MAAKOND</td>\n",
       "    </tr>\n",
       "    <tr>\n",
       "      <th>2</th>\n",
       "      <td>01.01.1960</td>\n",
       "      <td>MANUAAL</td>\n",
       "      <td>2445.0</td>\n",
       "      <td>55</td>\n",
       "      <td>BENSIIN</td>\n",
       "      <td>NaN</td>\n",
       "      <td>GAZ</td>\n",
       "      <td>21I</td>\n",
       "      <td>1875</td>\n",
       "      <td>NaN</td>\n",
       "      <td>TARTU MAAKOND</td>\n",
       "    </tr>\n",
       "    <tr>\n",
       "      <th>3</th>\n",
       "      <td>01.01.1969</td>\n",
       "      <td>MANUAAL</td>\n",
       "      <td>1360.0</td>\n",
       "      <td>36</td>\n",
       "      <td>BENSIIN</td>\n",
       "      <td>NaN</td>\n",
       "      <td>AZLK</td>\n",
       "      <td>408</td>\n",
       "      <td>1290</td>\n",
       "      <td>NaN</td>\n",
       "      <td>VALGA MAAKOND</td>\n",
       "    </tr>\n",
       "    <tr>\n",
       "      <th>4</th>\n",
       "      <td>01.01.1974</td>\n",
       "      <td>MANUAAL</td>\n",
       "      <td>1450.0</td>\n",
       "      <td>55</td>\n",
       "      <td>BENSIIN</td>\n",
       "      <td>210.0</td>\n",
       "      <td>VAZ</td>\n",
       "      <td>2103</td>\n",
       "      <td>1430</td>\n",
       "      <td>NaN</td>\n",
       "      <td>VÕRU MAAKOND</td>\n",
       "    </tr>\n",
       "    <tr>\n",
       "      <th>...</th>\n",
       "      <td>...</td>\n",
       "      <td>...</td>\n",
       "      <td>...</td>\n",
       "      <td>...</td>\n",
       "      <td>...</td>\n",
       "      <td>...</td>\n",
       "      <td>...</td>\n",
       "      <td>...</td>\n",
       "      <td>...</td>\n",
       "      <td>...</td>\n",
       "      <td>...</td>\n",
       "    </tr>\n",
       "    <tr>\n",
       "      <th>95</th>\n",
       "      <td>02.01.1952</td>\n",
       "      <td>MANUAAL</td>\n",
       "      <td>2120.0</td>\n",
       "      <td>38</td>\n",
       "      <td>BENSIIN</td>\n",
       "      <td>NaN</td>\n",
       "      <td>GAZ</td>\n",
       "      <td>69A</td>\n",
       "      <td>1960</td>\n",
       "      <td>NaN</td>\n",
       "      <td>HARJU MAAKOND</td>\n",
       "    </tr>\n",
       "    <tr>\n",
       "      <th>96</th>\n",
       "      <td>01.01.1953</td>\n",
       "      <td>MANUAAL</td>\n",
       "      <td>1070.0</td>\n",
       "      <td>17</td>\n",
       "      <td>BENSIIN</td>\n",
       "      <td>NaN</td>\n",
       "      <td>MOSKVITŠ</td>\n",
       "      <td>401-420</td>\n",
       "      <td>1155</td>\n",
       "      <td>NaN</td>\n",
       "      <td>PÄRNU MAAKOND</td>\n",
       "    </tr>\n",
       "    <tr>\n",
       "      <th>97</th>\n",
       "      <td>01.01.1953</td>\n",
       "      <td>MANUAAL</td>\n",
       "      <td>1360.0</td>\n",
       "      <td>37</td>\n",
       "      <td>BENSIIN</td>\n",
       "      <td>NaN</td>\n",
       "      <td>MZMA</td>\n",
       "      <td>401</td>\n",
       "      <td>1155</td>\n",
       "      <td>NaN</td>\n",
       "      <td>RAPLA MAAKOND</td>\n",
       "    </tr>\n",
       "    <tr>\n",
       "      <th>98</th>\n",
       "      <td>01.01.1953</td>\n",
       "      <td>MANUAAL</td>\n",
       "      <td>1478.0</td>\n",
       "      <td>55</td>\n",
       "      <td>BENSIIN</td>\n",
       "      <td>NaN</td>\n",
       "      <td>MZMA</td>\n",
       "      <td>401</td>\n",
       "      <td>1155</td>\n",
       "      <td>NaN</td>\n",
       "      <td>VILJANDI MAAKOND</td>\n",
       "    </tr>\n",
       "    <tr>\n",
       "      <th>99</th>\n",
       "      <td>01.01.1953</td>\n",
       "      <td>MANUAAL</td>\n",
       "      <td>3280.0</td>\n",
       "      <td>40</td>\n",
       "      <td>BENSIIN</td>\n",
       "      <td>NaN</td>\n",
       "      <td>GAZ</td>\n",
       "      <td>67B</td>\n",
       "      <td>1745</td>\n",
       "      <td>NaN</td>\n",
       "      <td>HARJU MAAKOND</td>\n",
       "    </tr>\n",
       "  </tbody>\n",
       "</table>\n",
       "<p>100 rows × 11 columns</p>\n",
       "</div>"
      ],
      "text/plain": [
       "   ESMANE_REG_KP KAIGUKASTI_TYYP  MOOTORI_MAHT MOOTORI_VOIMSUS  \\\n",
       "0     18.05.2020        AUTOMAAT        1332.0             117   \n",
       "1     01.01.1938         MANUAAL        2127.0              79   \n",
       "2     01.01.1960         MANUAAL        2445.0              55   \n",
       "3     01.01.1969         MANUAAL        1360.0              36   \n",
       "4     01.01.1974         MANUAAL        1450.0              55   \n",
       "..           ...             ...           ...             ...   \n",
       "95    02.01.1952         MANUAAL        2120.0              38   \n",
       "96    01.01.1953         MANUAAL        1070.0              17   \n",
       "97    01.01.1953         MANUAAL        1360.0              37   \n",
       "98    01.01.1953         MANUAAL        1478.0              55   \n",
       "99    01.01.1953         MANUAAL        3280.0              40   \n",
       "\n",
       "   Kütusekombinatsioon  CO2_NEDC      Mark    Mudel  REG_MASS HEITMENORM  \\\n",
       "0              BENSIIN     131.0    NISSAN  QASHQAI      1885      EURO6   \n",
       "1              BENSIIN       NaN  VAUXHALL        -      1450        NaN   \n",
       "2              BENSIIN       NaN       GAZ      21I      1875        NaN   \n",
       "3              BENSIIN       NaN      AZLK      408      1290        NaN   \n",
       "4              BENSIIN     210.0       VAZ     2103      1430        NaN   \n",
       "..                 ...       ...       ...      ...       ...        ...   \n",
       "95             BENSIIN       NaN       GAZ      69A      1960        NaN   \n",
       "96             BENSIIN       NaN  MOSKVITŠ  401-420      1155        NaN   \n",
       "97             BENSIIN       NaN      MZMA      401      1155        NaN   \n",
       "98             BENSIIN       NaN      MZMA      401      1155        NaN   \n",
       "99             BENSIIN       NaN       GAZ      67B      1745        NaN   \n",
       "\n",
       "       VK/OM MAAKOND  \n",
       "0      HARJU MAAKOND  \n",
       "1      PÄRNU MAAKOND  \n",
       "2      TARTU MAAKOND  \n",
       "3      VALGA MAAKOND  \n",
       "4       VÕRU MAAKOND  \n",
       "..               ...  \n",
       "95     HARJU MAAKOND  \n",
       "96     PÄRNU MAAKOND  \n",
       "97     RAPLA MAAKOND  \n",
       "98  VILJANDI MAAKOND  \n",
       "99     HARJU MAAKOND  \n",
       "\n",
       "[100 rows x 11 columns]"
      ]
     },
     "execution_count": 51,
     "metadata": {},
     "output_type": "execute_result"
    }
   ],
   "source": [
    "võimsuse_vahemikud = [\"0-50\", \"51-100\", \"101-150\", \"151-200\", \"201-250\", \"251+\"]\n",
    "autode_arv_võimsuse_vahemikus = [0,0,0,0,0,0]\n",
    "\n",
    "for i in range(len(data[\"MOOTORI_VOIMSUS\"])):\n",
    "    võimsus_str = str(data[\"MOOTORI_VOIMSUS\"].iloc[i])\n",
    "    if ',' in võimsus_str:\n",
    "        võimsus_str=võimsus_str.replace(\",\",\".\")\n",
    "        data[\"MOOTORI_VOIMSUS\"].iloc[i] = võimsus_str\n",
    "        \n",
    "    võimsus = float(võimsus_str)\n",
    "    if võimsus <= 50:\n",
    "        autode_arv_võimsuse_vahemikus[0] = autode_arv_võimsuse_vahemikus[0] + 1\n",
    "    elif võimsus <= 100 and võimsus > 50:\n",
    "        autode_arv_võimsuse_vahemikus[1] = autode_arv_võimsuse_vahemikus[1] + 1\n",
    "    elif võimsus <= 150 and võimsus > 100:\n",
    "        autode_arv_võimsuse_vahemikus[2] = autode_arv_võimsuse_vahemikus[2] + 1\n",
    "    elif võimsus <= 200 and võimsus > 150:\n",
    "        autode_arv_võimsuse_vahemikus[3] = autode_arv_võimsuse_vahemikus[3] + 1\n",
    "    elif võimsus <= 250 and võimsus > 200:\n",
    "        autode_arv_võimsuse_vahemikus[4] = autode_arv_võimsuse_vahemikus[4] + 1\n",
    "    else:\n",
    "        autode_arv_võimsuse_vahemikus[5] = autode_arv_võimsuse_vahemikus[5] + 1\n",
    "        \n",
    "data.head(100)"
   ]
  },
  {
   "cell_type": "code",
   "execution_count": 129,
   "id": "e4a8a349",
   "metadata": {},
   "outputs": [
    {
     "data": {
      "image/png": "[encoded data removed]",
      "text/plain": [
       "<Figure size 1152x648 with 1 Axes>"
      ]
     },
     "metadata": {
      "needs_background": "light"
     },
     "output_type": "display_data"
    }
   ],
   "source": [
    "colors = sns.color_palette('pastel')[0:6]\n",
    "fig, ax = plt.subplots(figsize =(16, 9))\n",
    "\n",
    "ax.barh(võimsuse_vahemikud, autode_arv_võimsuse_vahemikus, color=colors)\n",
    "\n",
    "#ax.set_xlabel('Autode arv')\n",
    "#ax.set_ylabel('Võimsus')\n",
    "#ax.set_title('Kui võimsad on Eesti rahva autod')\n",
    "\n",
    "plt.show()"
   ]
  },
  {
   "cell_type": "code",
   "execution_count": 54,
   "id": "3ad55f92",
   "metadata": {
    "scrolled": true
   },
   "outputs": [
    {
     "data": {
      "text/html": [
       "<div>\n",
       "<style scoped>\n",
       "    .dataframe tbody tr th:only-of-type {\n",
       "        vertical-align: middle;\n",
       "    }\n",
       "\n",
       "    .dataframe tbody tr th {\n",
       "        vertical-align: top;\n",
       "    }\n",
       "\n",
       "    .dataframe thead th {\n",
       "        text-align: right;\n",
       "    }\n",
       "</style>\n",
       "<table border=\"1\" class=\"dataframe\">\n",
       "  <thead>\n",
       "    <tr style=\"text-align: right;\">\n",
       "      <th></th>\n",
       "      <th>ESMANE_REG_KP</th>\n",
       "      <th>KAIGUKASTI_TYYP</th>\n",
       "      <th>MOOTORI_MAHT</th>\n",
       "      <th>MOOTORI_VOIMSUS</th>\n",
       "      <th>Kütusekombinatsioon</th>\n",
       "      <th>CO2_NEDC</th>\n",
       "      <th>Mark</th>\n",
       "      <th>Mudel</th>\n",
       "      <th>REG_MASS</th>\n",
       "      <th>HEITMENORM</th>\n",
       "      <th>VK/OM MAAKOND</th>\n",
       "    </tr>\n",
       "  </thead>\n",
       "  <tbody>\n",
       "    <tr>\n",
       "      <th>0</th>\n",
       "      <td>18.05.2020</td>\n",
       "      <td>AUTOMAAT</td>\n",
       "      <td>1332.0</td>\n",
       "      <td>117</td>\n",
       "      <td>BENSIIN</td>\n",
       "      <td>131.0</td>\n",
       "      <td>NISSAN</td>\n",
       "      <td>QASHQAI</td>\n",
       "      <td>1885</td>\n",
       "      <td>EURO6</td>\n",
       "      <td>HARJU MAAKOND</td>\n",
       "    </tr>\n",
       "    <tr>\n",
       "      <th>1</th>\n",
       "      <td>01.01.1938</td>\n",
       "      <td>MANUAAL</td>\n",
       "      <td>2127.0</td>\n",
       "      <td>79</td>\n",
       "      <td>BENSIIN</td>\n",
       "      <td>NaN</td>\n",
       "      <td>VAUXHALL</td>\n",
       "      <td>-</td>\n",
       "      <td>1450</td>\n",
       "      <td>NaN</td>\n",
       "      <td>PÄRNU MAAKOND</td>\n",
       "    </tr>\n",
       "    <tr>\n",
       "      <th>2</th>\n",
       "      <td>01.01.1960</td>\n",
       "      <td>MANUAAL</td>\n",
       "      <td>2445.0</td>\n",
       "      <td>55</td>\n",
       "      <td>BENSIIN</td>\n",
       "      <td>NaN</td>\n",
       "      <td>GAZ</td>\n",
       "      <td>21I</td>\n",
       "      <td>1875</td>\n",
       "      <td>NaN</td>\n",
       "      <td>TARTU MAAKOND</td>\n",
       "    </tr>\n",
       "    <tr>\n",
       "      <th>3</th>\n",
       "      <td>01.01.1969</td>\n",
       "      <td>MANUAAL</td>\n",
       "      <td>1360.0</td>\n",
       "      <td>36</td>\n",
       "      <td>BENSIIN</td>\n",
       "      <td>NaN</td>\n",
       "      <td>AZLK</td>\n",
       "      <td>408</td>\n",
       "      <td>1290</td>\n",
       "      <td>NaN</td>\n",
       "      <td>VALGA MAAKOND</td>\n",
       "    </tr>\n",
       "    <tr>\n",
       "      <th>4</th>\n",
       "      <td>01.01.1974</td>\n",
       "      <td>MANUAAL</td>\n",
       "      <td>1450.0</td>\n",
       "      <td>55</td>\n",
       "      <td>BENSIIN</td>\n",
       "      <td>210.0</td>\n",
       "      <td>VAZ</td>\n",
       "      <td>2103</td>\n",
       "      <td>1430</td>\n",
       "      <td>NaN</td>\n",
       "      <td>VÕRU MAAKOND</td>\n",
       "    </tr>\n",
       "  </tbody>\n",
       "</table>\n",
       "</div>"
      ],
      "text/plain": [
       "  ESMANE_REG_KP KAIGUKASTI_TYYP  MOOTORI_MAHT MOOTORI_VOIMSUS  \\\n",
       "0    18.05.2020        AUTOMAAT        1332.0             117   \n",
       "1    01.01.1938         MANUAAL        2127.0              79   \n",
       "2    01.01.1960         MANUAAL        2445.0              55   \n",
       "3    01.01.1969         MANUAAL        1360.0              36   \n",
       "4    01.01.1974         MANUAAL        1450.0              55   \n",
       "\n",
       "  Kütusekombinatsioon  CO2_NEDC      Mark    Mudel  REG_MASS HEITMENORM  \\\n",
       "0             BENSIIN     131.0    NISSAN  QASHQAI      1885      EURO6   \n",
       "1             BENSIIN       NaN  VAUXHALL        -      1450        NaN   \n",
       "2             BENSIIN       NaN       GAZ      21I      1875        NaN   \n",
       "3             BENSIIN       NaN      AZLK      408      1290        NaN   \n",
       "4             BENSIIN     210.0       VAZ     2103      1430        NaN   \n",
       "\n",
       "   VK/OM MAAKOND  \n",
       "0  HARJU MAAKOND  \n",
       "1  PÄRNU MAAKOND  \n",
       "2  TARTU MAAKOND  \n",
       "3  VALGA MAAKOND  \n",
       "4   VÕRU MAAKOND  "
      ]
     },
     "execution_count": 54,
     "metadata": {},
     "output_type": "execute_result"
    }
   ],
   "source": [
    "data.head()"
   ]
  },
  {
   "cell_type": "code",
   "execution_count": 55,
   "id": "6ace1f8d",
   "metadata": {},
   "outputs": [],
   "source": [
    "big_predict=data.copy()"
   ]
  },
  {
   "cell_type": "code",
   "execution_count": 56,
   "id": "b5bfe50a",
   "metadata": {},
   "outputs": [],
   "source": [
    "big_predict[\"AASTA\"]=data[\"ESMANE_REG_KP\"].str[-4:]\n",
    "big_predict=big_predict.drop([\"ESMANE_REG_KP\",\"Mark\",\"Mudel\",\"VK/OM MAAKOND\", \"HEITMENORM\"], axis=1)\n",
    "big_predict=big_predict.dropna()"
   ]
  },
  {
   "cell_type": "code",
   "execution_count": 57,
   "id": "6a9923db",
   "metadata": {},
   "outputs": [],
   "source": [
    "big_predict=big_predict.reset_index()\n",
    "big_predict=big_predict.drop([\"index\"], axis=1)"
   ]
  },
  {
   "cell_type": "code",
   "execution_count": 58,
   "id": "7ba5eb06",
   "metadata": {},
   "outputs": [],
   "source": [
    "vägaoluline=[\"BENSIIN-CNG-LPG\",\"DIISEL-LPG\",\"BENSIIN-LNG\",\"ELEKTER-VESINIK\",\"BENSIIN-CNG-ETANOOL\",\"CNG-LPG\",\"LPG\",\"BENSIIN-ETANOOL-LPG\",\"BENSIIN-ETANOOL\",\"BENSIIN-ELEKTER-LPG\", \"BENSIIN-CNG\",\"DIISEL-ELEKTER\", \"BENSIIN-LPG\", \"BENSIIN-ELEKTER\"] \n",
    "for i in range(len(vägaoluline)):\n",
    "    big_predict[\"Kütusekombinatsioon\"]=big_predict[\"Kütusekombinatsioon\"].replace([vägaoluline[i]],\"MUU\")"
   ]
  },
  {
   "cell_type": "code",
   "execution_count": 60,
   "id": "ac9706f4",
   "metadata": {
    "scrolled": true
   },
   "outputs": [],
   "source": [
    "columns = big_predict.columns\n",
    "big_predict = pd.get_dummies(big_predict, columns=['KAIGUKASTI_TYYP', \"Kütusekombinatsioon\"])"
   ]
  },
  {
   "cell_type": "code",
   "execution_count": 61,
   "id": "8bbc976d",
   "metadata": {},
   "outputs": [],
   "source": [
    "#train_data = tf.data.Dataset.from_tensor_slices((x_train, y_train))\n",
    "#shuffle_data = big_predict.repeat().shuffle(5000).batch(batch_size).prefetch(1)\n",
    "shuffle_data = big_predict.sample(frac = 1)\n",
    "shuffle_data=shuffle_data.reset_index()\n",
    "shuffle_data=shuffle_data.drop([\"index\"], axis=1)"
   ]
  },
  {
   "cell_type": "code",
   "execution_count": 62,
   "id": "d823b986",
   "metadata": {},
   "outputs": [
    {
     "data": {
      "text/html": [
       "<div>\n",
       "<style scoped>\n",
       "    .dataframe tbody tr th:only-of-type {\n",
       "        vertical-align: middle;\n",
       "    }\n",
       "\n",
       "    .dataframe tbody tr th {\n",
       "        vertical-align: top;\n",
       "    }\n",
       "\n",
       "    .dataframe thead th {\n",
       "        text-align: right;\n",
       "    }\n",
       "</style>\n",
       "<table border=\"1\" class=\"dataframe\">\n",
       "  <thead>\n",
       "    <tr style=\"text-align: right;\">\n",
       "      <th></th>\n",
       "      <th>MOOTORI_MAHT</th>\n",
       "      <th>MOOTORI_VOIMSUS</th>\n",
       "      <th>CO2_NEDC</th>\n",
       "      <th>REG_MASS</th>\n",
       "      <th>AASTA</th>\n",
       "      <th>KAIGUKASTI_TYYP_AUTOMAAT</th>\n",
       "      <th>KAIGUKASTI_TYYP_AUTOMAT_MANUAAL</th>\n",
       "      <th>KAIGUKASTI_TYYP_CVT</th>\n",
       "      <th>KAIGUKASTI_TYYP_DCT</th>\n",
       "      <th>KAIGUKASTI_TYYP_KONSTANTNE_YLEKANNE</th>\n",
       "      <th>KAIGUKASTI_TYYP_MANUAAL</th>\n",
       "      <th>KAIGUKASTI_TYYP_MUU</th>\n",
       "      <th>Kütusekombinatsioon_BENSIIN</th>\n",
       "      <th>Kütusekombinatsioon_CNG</th>\n",
       "      <th>Kütusekombinatsioon_DIISEL</th>\n",
       "      <th>Kütusekombinatsioon_ELEKTER</th>\n",
       "      <th>Kütusekombinatsioon_MUU</th>\n",
       "    </tr>\n",
       "  </thead>\n",
       "  <tbody>\n",
       "    <tr>\n",
       "      <th>0</th>\n",
       "      <td>1598.0</td>\n",
       "      <td>92</td>\n",
       "      <td>146.0</td>\n",
       "      <td>3020</td>\n",
       "      <td>2018</td>\n",
       "      <td>0</td>\n",
       "      <td>0</td>\n",
       "      <td>0</td>\n",
       "      <td>0</td>\n",
       "      <td>0</td>\n",
       "      <td>1</td>\n",
       "      <td>0</td>\n",
       "      <td>0</td>\n",
       "      <td>0</td>\n",
       "      <td>1</td>\n",
       "      <td>0</td>\n",
       "      <td>0</td>\n",
       "    </tr>\n",
       "    <tr>\n",
       "      <th>1</th>\n",
       "      <td>4663.0</td>\n",
       "      <td>320</td>\n",
       "      <td>269.0</td>\n",
       "      <td>3250</td>\n",
       "      <td>2014</td>\n",
       "      <td>1</td>\n",
       "      <td>0</td>\n",
       "      <td>0</td>\n",
       "      <td>0</td>\n",
       "      <td>0</td>\n",
       "      <td>0</td>\n",
       "      <td>0</td>\n",
       "      <td>1</td>\n",
       "      <td>0</td>\n",
       "      <td>0</td>\n",
       "      <td>0</td>\n",
       "      <td>0</td>\n",
       "    </tr>\n",
       "    <tr>\n",
       "      <th>2</th>\n",
       "      <td>1198.0</td>\n",
       "      <td>51</td>\n",
       "      <td>128.0</td>\n",
       "      <td>1570</td>\n",
       "      <td>2014</td>\n",
       "      <td>0</td>\n",
       "      <td>0</td>\n",
       "      <td>0</td>\n",
       "      <td>0</td>\n",
       "      <td>0</td>\n",
       "      <td>1</td>\n",
       "      <td>0</td>\n",
       "      <td>1</td>\n",
       "      <td>0</td>\n",
       "      <td>0</td>\n",
       "      <td>0</td>\n",
       "      <td>0</td>\n",
       "    </tr>\n",
       "    <tr>\n",
       "      <th>3</th>\n",
       "      <td>1198.0</td>\n",
       "      <td>47</td>\n",
       "      <td>142.0</td>\n",
       "      <td>1570</td>\n",
       "      <td>2006</td>\n",
       "      <td>0</td>\n",
       "      <td>0</td>\n",
       "      <td>0</td>\n",
       "      <td>0</td>\n",
       "      <td>0</td>\n",
       "      <td>1</td>\n",
       "      <td>0</td>\n",
       "      <td>1</td>\n",
       "      <td>0</td>\n",
       "      <td>0</td>\n",
       "      <td>0</td>\n",
       "      <td>0</td>\n",
       "    </tr>\n",
       "    <tr>\n",
       "      <th>4</th>\n",
       "      <td>1995.0</td>\n",
       "      <td>110</td>\n",
       "      <td>174.0</td>\n",
       "      <td>2085</td>\n",
       "      <td>2007</td>\n",
       "      <td>0</td>\n",
       "      <td>0</td>\n",
       "      <td>0</td>\n",
       "      <td>0</td>\n",
       "      <td>0</td>\n",
       "      <td>1</td>\n",
       "      <td>0</td>\n",
       "      <td>0</td>\n",
       "      <td>0</td>\n",
       "      <td>1</td>\n",
       "      <td>0</td>\n",
       "      <td>0</td>\n",
       "    </tr>\n",
       "  </tbody>\n",
       "</table>\n",
       "</div>"
      ],
      "text/plain": [
       "   MOOTORI_MAHT MOOTORI_VOIMSUS  CO2_NEDC  REG_MASS AASTA  \\\n",
       "0        1598.0              92     146.0      3020  2018   \n",
       "1        4663.0             320     269.0      3250  2014   \n",
       "2        1198.0              51     128.0      1570  2014   \n",
       "3        1198.0              47     142.0      1570  2006   \n",
       "4        1995.0             110     174.0      2085  2007   \n",
       "\n",
       "   KAIGUKASTI_TYYP_AUTOMAAT  KAIGUKASTI_TYYP_AUTOMAT_MANUAAL  \\\n",
       "0                         0                                0   \n",
       "1                         1                                0   \n",
       "2                         0                                0   \n",
       "3                         0                                0   \n",
       "4                         0                                0   \n",
       "\n",
       "   KAIGUKASTI_TYYP_CVT  KAIGUKASTI_TYYP_DCT  \\\n",
       "0                    0                    0   \n",
       "1                    0                    0   \n",
       "2                    0                    0   \n",
       "3                    0                    0   \n",
       "4                    0                    0   \n",
       "\n",
       "   KAIGUKASTI_TYYP_KONSTANTNE_YLEKANNE  KAIGUKASTI_TYYP_MANUAAL  \\\n",
       "0                                    0                        1   \n",
       "1                                    0                        0   \n",
       "2                                    0                        1   \n",
       "3                                    0                        1   \n",
       "4                                    0                        1   \n",
       "\n",
       "   KAIGUKASTI_TYYP_MUU  Kütusekombinatsioon_BENSIIN  Kütusekombinatsioon_CNG  \\\n",
       "0                    0                            0                        0   \n",
       "1                    0                            1                        0   \n",
       "2                    0                            1                        0   \n",
       "3                    0                            1                        0   \n",
       "4                    0                            0                        0   \n",
       "\n",
       "   Kütusekombinatsioon_DIISEL  Kütusekombinatsioon_ELEKTER  \\\n",
       "0                           1                            0   \n",
       "1                           0                            0   \n",
       "2                           0                            0   \n",
       "3                           0                            0   \n",
       "4                           1                            0   \n",
       "\n",
       "   Kütusekombinatsioon_MUU  \n",
       "0                        0  \n",
       "1                        0  \n",
       "2                        0  \n",
       "3                        0  \n",
       "4                        0  "
      ]
     },
     "execution_count": 62,
     "metadata": {},
     "output_type": "execute_result"
    }
   ],
   "source": [
    "shuffle_data.head()"
   ]
  },
  {
   "cell_type": "code",
   "execution_count": 63,
   "id": "171b118d",
   "metadata": {},
   "outputs": [
    {
     "data": {
      "text/plain": [
       "(404214, 16)"
      ]
     },
     "execution_count": 63,
     "metadata": {},
     "output_type": "execute_result"
    }
   ],
   "source": [
    "from sklearn.model_selection import train_test_split\n",
    "X_train, X_test, y_train, y_test = train_test_split(shuffle_data.iloc[:, shuffle_data.columns!=\"CO2_NEDC\"],shuffle_data[\"CO2_NEDC\"], test_size=0.25, random_state=1)\n",
    "X_train.shape"
   ]
  },
  {
   "cell_type": "code",
   "execution_count": 64,
   "id": "56261b0f",
   "metadata": {},
   "outputs": [],
   "source": [
    "from sklearn.linear_model import LinearRegression\n",
    "from sklearn.linear_model import Ridge\n",
    "from sklearn.linear_model import Lasso\n",
    "from sklearn.metrics import mean_squared_error\n",
    "linear = LinearRegression()\n",
    "ridge = Ridge()\n",
    "lasso = Lasso()"
   ]
  },
  {
   "cell_type": "code",
   "execution_count": 65,
   "id": "4dcf3f21",
   "metadata": {},
   "outputs": [],
   "source": [
    "#shuffle_data.to_csv(\"file.csv\", encoding=\"utf-8\")"
   ]
  },
  {
   "cell_type": "code",
   "execution_count": 66,
   "id": "e6b0aaad",
   "metadata": {},
   "outputs": [
    {
     "name": "stdout",
     "output_type": "stream",
     "text": [
      "        Actual        pred\n",
      "251327   104.0   94.736296\n",
      "416604   105.0   99.693586\n",
      "400343   246.0  229.543703\n",
      "460280   184.0  179.475181\n",
      "22545    162.0  183.382169\n",
      "...        ...         ...\n",
      "287012   148.0  148.759602\n",
      "100658    96.0  103.788870\n",
      "281899   171.0  198.300157\n",
      "221532   157.0  159.516524\n",
      "191106   106.0  123.625126\n",
      "\n",
      "[134739 rows x 2 columns]\n",
      "0.7810266449578794\n",
      "0.7807021901830578\n",
      "[ 3.06029991e-02 -5.64587864e-02  4.96736572e-02 -3.06282514e+00\n",
      "  8.62866059e-01  1.57892986e+01 -1.05717373e+01  3.49963209e+01\n",
      " -9.69204644e+00 -5.71541655e+00 -2.56692852e+01  4.13690576e+01\n",
      "  8.17657789e+00  6.12385686e+00 -6.26567107e+01  6.98721840e+00]\n"
     ]
    }
   ],
   "source": [
    "#column_names = list(train_data.columns.values)\n",
    "#column_names.remove(\"CO2_NEDC\")\n",
    "#x=np.array(train_data[column_names])\n",
    "#y=np.array(train_data[\"CO2_NEDC\"])\n",
    "linear.fit(X_train,y_train)\n",
    "y_pred = linear.predict(X_test)\n",
    "df_preds = pd.DataFrame({\"Actual\":y_test.squeeze(), \"pred\":y_pred.squeeze()})\n",
    "print(df_preds)\n",
    "print(linear.score(X_train, y_train))\n",
    "print(linear.score(X_test, y_test))\n",
    "#print(s.intercept_)\n",
    "#plt.scatter(X_train, y_train)\n",
    "#plt.plot(X_train, s, color=\"red\")\n",
    "#plt.show\n",
    "print(linear.coef_)"
   ]
  },
  {
   "cell_type": "code",
   "execution_count": 67,
   "id": "d22b2d08",
   "metadata": {},
   "outputs": [
    {
     "name": "stdout",
     "output_type": "stream",
     "text": [
      "[87.60106313]\n"
     ]
    },
    {
     "name": "stderr",
     "output_type": "stream",
     "text": [
      "C:\\Users\\Liis Reimand\\anaconda3\\lib\\site-packages\\sklearn\\base.py:450: UserWarning: X does not have valid feature names, but LinearRegression was fitted with feature names\n",
      "  warnings.warn(\n"
     ]
    }
   ],
   "source": [
    "auto1 = linear.predict([[2000, 96, 1500, 2022, 1, 0, 0, 0, 0, 0, 0, 0, 0, 1, 0, 0]])\n",
    "print(auto1)"
   ]
  },
  {
   "cell_type": "code",
   "execution_count": 68,
   "id": "e3456d59",
   "metadata": {},
   "outputs": [
    {
     "name": "stdout",
     "output_type": "stream",
     "text": [
      "19.768253525059333 %\n",
      "80.23174647494066 %\n"
     ]
    }
   ],
   "source": [
    "autosid = 0\n",
    "automaate = 0\n",
    "manuaale = 0\n",
    "for i in range(len(data[\"ESMANE_REG_KP\"])):\n",
    "    aasta = int(str(data[\"ESMANE_REG_KP\"].iloc[i])[-4:])\n",
    "    if aasta >= 2022:\n",
    "        if str(data[\"KAIGUKASTI_TYYP\"].iloc[i]) == \"MANUAAL\":\n",
    "            autosid += 1\n",
    "            manuaale += 1\n",
    "        elif str(data[\"KAIGUKASTI_TYYP\"].iloc[i]) == \"AUTOMAAT\":\n",
    "            autosid += 1\n",
    "            automaate += 1\n",
    "            \n",
    "print(str((manuaale/autosid)*100) + \" %\")\n",
    "print(str((automaate/autosid)*100) + \" %\")        "
   ]
  },
  {
   "cell_type": "code",
   "execution_count": 69,
   "id": "a701fe9e",
   "metadata": {},
   "outputs": [],
   "source": [
    "mootori_võimsused = []\n",
    "for i in range(len(data[\"MOOTORI_VOIMSUS\"])):\n",
    "    võimsus_str = str(data[\"MOOTORI_VOIMSUS\"].iloc[i])  \n",
    "    võimsus = float(võimsus_str)\n",
    "    aasta = int(str(data[\"ESMANE_REG_KP\"].iloc[i])[-4:])\n",
    "    if aasta >= 2010:\n",
    "        mootori_võimsused.append(võimsus)"
   ]
  },
  {
   "cell_type": "code",
   "execution_count": 70,
   "id": "051e4d0b",
   "metadata": {
    "scrolled": true
   },
   "outputs": [
    {
     "name": "stdout",
     "output_type": "stream",
     "text": [
      "118\n",
      "[77.17049439517723, 61.85636867869562, 46.542242962214914, 31.22811724573421]\n",
      "[112.41569510562658, 97.10156938914497, 81.78744367266427, 66.47331795618356]\n"
     ]
    },
    {
     "name": "stderr",
     "output_type": "stream",
     "text": [
      "C:\\Users\\Liis Reimand\\anaconda3\\lib\\site-packages\\sklearn\\base.py:450: UserWarning: X does not have valid feature names, but LinearRegression was fitted with feature names\n",
      "  warnings.warn(\n",
      "C:\\Users\\Liis Reimand\\anaconda3\\lib\\site-packages\\sklearn\\base.py:450: UserWarning: X does not have valid feature names, but LinearRegression was fitted with feature names\n",
      "  warnings.warn(\n",
      "C:\\Users\\Liis Reimand\\anaconda3\\lib\\site-packages\\sklearn\\base.py:450: UserWarning: X does not have valid feature names, but LinearRegression was fitted with feature names\n",
      "  warnings.warn(\n",
      "C:\\Users\\Liis Reimand\\anaconda3\\lib\\site-packages\\sklearn\\base.py:450: UserWarning: X does not have valid feature names, but LinearRegression was fitted with feature names\n",
      "  warnings.warn(\n",
      "C:\\Users\\Liis Reimand\\anaconda3\\lib\\site-packages\\sklearn\\base.py:450: UserWarning: X does not have valid feature names, but LinearRegression was fitted with feature names\n",
      "  warnings.warn(\n",
      "C:\\Users\\Liis Reimand\\anaconda3\\lib\\site-packages\\sklearn\\base.py:450: UserWarning: X does not have valid feature names, but LinearRegression was fitted with feature names\n",
      "  warnings.warn(\n",
      "C:\\Users\\Liis Reimand\\anaconda3\\lib\\site-packages\\sklearn\\base.py:450: UserWarning: X does not have valid feature names, but LinearRegression was fitted with feature names\n",
      "  warnings.warn(\n",
      "C:\\Users\\Liis Reimand\\anaconda3\\lib\\site-packages\\sklearn\\base.py:450: UserWarning: X does not have valid feature names, but LinearRegression was fitted with feature names\n",
      "  warnings.warn(\n"
     ]
    }
   ],
   "source": [
    "autod_bensiin = []\n",
    "autod_diisel = []\n",
    "aastad = [2025, 2030, 2035, 2040]\n",
    "auto_võimsus = round(sum(mootori_võimsused)/len(mootori_võimsused))\n",
    "print(auto_võimsus)\n",
    "for i in range(len(aastad)):\n",
    "    autod_diisel.append(linear.predict([[2000, auto_võimsus, 1500, aastad[i], 1, 0, 0, 0, 0, 0, 0, 0, 0, 1, 0, 0]])[0])\n",
    "    autod_bensiin.append(linear.predict([[2000, auto_võimsus, 1500, aastad[i], 1, 0, 0, 0, 0, 0, 0, 1, 0, 0, 0, 0]])[0])\n",
    "    \n",
    "print(autod_diisel)\n",
    "print(autod_bensiin)"
   ]
  },
  {
   "cell_type": "code",
   "execution_count": 130,
   "id": "cdd81ff6",
   "metadata": {},
   "outputs": [
    {
     "data": {
      "text/plain": [
       "<Figure size 1440x1440 with 0 Axes>"
      ]
     },
     "metadata": {},
     "output_type": "display_data"
    },
    {
     "data": {
      "image/png": "[encoded data removed]",
      "text/plain": [
       "<Figure size 557.419x572.185 with 1 Axes>"
      ]
     },
     "metadata": {
      "needs_background": "light"
     },
     "output_type": "display_data"
    }
   ],
   "source": [
    "import matplotlib.pyplot as plt\n",
    "import numpy as np\n",
    "\n",
    "def set_size(w,h, ax=None):\n",
    "    \"\"\" w, h: width, height in inches \"\"\"\n",
    "    if not ax: ax=plt.gca()\n",
    "    l = ax.figure.subplotpars.left\n",
    "    r = ax.figure.subplotpars.right\n",
    "    t = ax.figure.subplotpars.top\n",
    "    b = ax.figure.subplotpars.bottom\n",
    "    figw = float(w)/(r-l)\n",
    "    figh = float(h)/(t-b)\n",
    "    ax.figure.set_size_inches(figw, figh)\n",
    "\n",
    "\n",
    "\n",
    "plt.figure(figsize = (20,20))\n",
    "\n",
    "x = np.arange(len(aastad))  # the label locations\n",
    "width = 0.4  # the width of the bars\n",
    "\n",
    "fig, ax = plt.subplots()\n",
    "rects1 = ax.bar(x - width/2, autod_diisel, width, label='Diesel', color=\"lightblue\")\n",
    "rects2 = ax.bar(x + width/2, autod_bensiin, width, label='Petrol', color=\"peachpuff\")\n",
    "\n",
    "# Add some text for labels, title and custom x-axis tick labels, etc.\n",
    "#ax.set_ylabel('CO2 emissions')\n",
    "#ax.set_title('Predicted CO2 emissions in future')\n",
    "ax.set_xticks(x, aastad)\n",
    "ax.legend()\n",
    "set_size(6,6)\n",
    "plt.ylim((20,120))\n",
    "ax.bar_label(rects1, padding=2)\n",
    "ax.bar_label(rects2, padding=2)\n",
    "\n",
    "#fig.tight_layout()\n",
    "\n",
    "plt.show()"
   ]
  },
  {
   "cell_type": "code",
   "execution_count": null,
   "id": "597c2e70",
   "metadata": {},
   "outputs": [],
   "source": []
  }
 ],
 "metadata": {
  "kernelspec": {
   "display_name": "Python 3 (ipykernel)",
   "language": "python",
   "name": "python3"
  },
  "language_info": {
   "codemirror_mode": {
    "name": "ipython",
    "version": 3
   },
   "file_extension": ".py",
   "mimetype": "text/x-python",
   "name": "python",
   "nbconvert_exporter": "python",
   "pygments_lexer": "ipython3",
   "version": "3.9.12"
  }
 },
 "nbformat": 4,
 "nbformat_minor": 5
}
