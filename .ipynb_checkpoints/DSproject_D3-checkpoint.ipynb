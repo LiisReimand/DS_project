{
 "cells": [
  {
   "cell_type": "code",
   "execution_count": 1,
   "id": "5bd87b80",
   "metadata": {},
   "outputs": [],
   "source": [
    "import pandas as pd\n",
    "import numpy as np\n",
    "from matplotlib import pyplot as plt\n",
    "import seaborn as sns"
   ]
  },
  {
   "cell_type": "code",
   "execution_count": 2,
   "id": "92b0b7ad",
   "metadata": {},
   "outputs": [
    {
     "name": "stderr",
     "output_type": "stream",
     "text": [
      "C:\\Users\\Liis Reimand\\AppData\\Local\\Temp\\ipykernel_5772\\1361949397.py:1: DtypeWarning: Columns (8,20) have mixed types. Specify dtype option on import or set low_memory=False.\n",
      "  data_orig=pd.read_csv(\"soidukid.csv\",on_bad_lines='skip', sep=\";\")\n"
     ]
    }
   ],
   "source": [
    "data_orig=pd.read_csv(\"soidukid.csv\",on_bad_lines='skip', sep=\";\")"
   ]
  },
  {
   "cell_type": "code",
   "execution_count": 3,
   "id": "694a39ce",
   "metadata": {},
   "outputs": [],
   "source": [
    "#kopeerime originaalse andmestiku\n",
    "data=data_orig.copy()"
   ]
  },
  {
   "cell_type": "code",
   "execution_count": 4,
   "id": "8ee5352b",
   "metadata": {},
   "outputs": [],
   "source": [
    "#kustutame ebavajalikud andmed\n",
    "data=data[data.YLDINE_STAATUS != \"PEATATUD\"]\n",
    "data=data.reset_index()\n",
    "#data=data.drop(data[data[\"YLDINE_STAATUS\"]==\"PEATATUD\"].index, inplace=True)\n",
    "data=data.drop([\"Andmed seisuga\",\"index\",\"VARV\",\"ISTEKOHTI\", \"Kere nimetus\", \"ARV\",\"Kategooria\",\"Keretüüp\",\"TELGI_KOKKU\",\"TAISMASS\", \"TYHIMASS\",\"YLDINE_STAATUS\",\"EESTIS_ESMAREG_KP\", \"MOOTORI_TYYP\", \"Kütuse tüüp\", \"HYBRIIDI_TYYP\"], axis=1)"
   ]
  },
  {
   "cell_type": "code",
   "execution_count": 5,
   "id": "474abacc",
   "metadata": {},
   "outputs": [],
   "source": [
    "#asendame Nan-informatsioonilahtrid käigukastitüübis\n",
    "#Nan -> manuaal\n",
    "data[\"KAIGUKASTI_TYYP\"]=data[\"KAIGUKASTI_TYYP\"].fillna(\"MANUAAL\")"
   ]
  },
  {
   "cell_type": "code",
   "execution_count": 6,
   "id": "28aea41e",
   "metadata": {},
   "outputs": [],
   "source": [
    "#asendame puuduvad NEDC väärtused võimalusel WLTP omadega, vastasel juhul\n",
    "#eelistame NEDC\n",
    "\n",
    "for i in range(len(data[\"CO2_NEDC\"])):\n",
    "    vana=data[\"CO2_NEDC\"].iloc[i]\n",
    "    uus=data[\"CO2_WLTP\"].iloc[i]\n",
    "    if str(vana)==\"nan\" and str(uus)!=\"nan\":\n",
    "        data.loc[i,'CO2_NEDC']=str(uus)\n",
    "data=data.drop([\"CO2_WLTP\"], axis=1)        "
   ]
  },
  {
   "cell_type": "code",
   "execution_count": 7,
   "id": "82066207",
   "metadata": {},
   "outputs": [
    {
     "data": {
      "text/plain": [
       "145023"
      ]
     },
     "execution_count": 7,
     "metadata": {},
     "output_type": "execute_result"
    }
   ],
   "source": [
    "data[\"CO2_NEDC\"].isna().sum()"
   ]
  },
  {
   "cell_type": "code",
   "execution_count": 8,
   "id": "de9adac4",
   "metadata": {
    "scrolled": true
   },
   "outputs": [
    {
     "data": {
      "text/html": [
       "<div>\n",
       "<style scoped>\n",
       "    .dataframe tbody tr th:only-of-type {\n",
       "        vertical-align: middle;\n",
       "    }\n",
       "\n",
       "    .dataframe tbody tr th {\n",
       "        vertical-align: top;\n",
       "    }\n",
       "\n",
       "    .dataframe thead th {\n",
       "        text-align: right;\n",
       "    }\n",
       "</style>\n",
       "<table border=\"1\" class=\"dataframe\">\n",
       "  <thead>\n",
       "    <tr style=\"text-align: right;\">\n",
       "      <th></th>\n",
       "      <th>ESMANE_REG_KP</th>\n",
       "      <th>KAIGUKASTI_TYYP</th>\n",
       "      <th>MOOTORI_MAHT</th>\n",
       "      <th>Kütusekombinatsioon</th>\n",
       "      <th>CO2_NEDC</th>\n",
       "      <th>Mark</th>\n",
       "      <th>Mudel</th>\n",
       "      <th>REG_MASS</th>\n",
       "      <th>HEITMENORM</th>\n",
       "      <th>VK/OM MAAKOND</th>\n",
       "    </tr>\n",
       "  </thead>\n",
       "  <tbody>\n",
       "    <tr>\n",
       "      <th>0</th>\n",
       "      <td>18.05.2020</td>\n",
       "      <td>AUTOMAAT</td>\n",
       "      <td>1332.0</td>\n",
       "      <td>BENSIIN</td>\n",
       "      <td>131.0</td>\n",
       "      <td>NISSAN</td>\n",
       "      <td>QASHQAI</td>\n",
       "      <td>1885</td>\n",
       "      <td>EURO6</td>\n",
       "      <td>HARJU MAAKOND</td>\n",
       "    </tr>\n",
       "    <tr>\n",
       "      <th>1</th>\n",
       "      <td>01.01.1938</td>\n",
       "      <td>MANUAAL</td>\n",
       "      <td>2127.0</td>\n",
       "      <td>BENSIIN</td>\n",
       "      <td>NaN</td>\n",
       "      <td>VAUXHALL</td>\n",
       "      <td>-</td>\n",
       "      <td>1450</td>\n",
       "      <td>NaN</td>\n",
       "      <td>PÄRNU MAAKOND</td>\n",
       "    </tr>\n",
       "    <tr>\n",
       "      <th>2</th>\n",
       "      <td>01.01.1960</td>\n",
       "      <td>MANUAAL</td>\n",
       "      <td>2445.0</td>\n",
       "      <td>BENSIIN</td>\n",
       "      <td>NaN</td>\n",
       "      <td>GAZ</td>\n",
       "      <td>21I</td>\n",
       "      <td>1875</td>\n",
       "      <td>NaN</td>\n",
       "      <td>TARTU MAAKOND</td>\n",
       "    </tr>\n",
       "    <tr>\n",
       "      <th>3</th>\n",
       "      <td>01.01.1969</td>\n",
       "      <td>MANUAAL</td>\n",
       "      <td>1360.0</td>\n",
       "      <td>BENSIIN</td>\n",
       "      <td>NaN</td>\n",
       "      <td>AZLK</td>\n",
       "      <td>408</td>\n",
       "      <td>1290</td>\n",
       "      <td>NaN</td>\n",
       "      <td>VALGA MAAKOND</td>\n",
       "    </tr>\n",
       "    <tr>\n",
       "      <th>4</th>\n",
       "      <td>01.01.1974</td>\n",
       "      <td>MANUAAL</td>\n",
       "      <td>1450.0</td>\n",
       "      <td>BENSIIN</td>\n",
       "      <td>NaN</td>\n",
       "      <td>VAZ</td>\n",
       "      <td>2103</td>\n",
       "      <td>1430</td>\n",
       "      <td>NaN</td>\n",
       "      <td>VÕRU MAAKOND</td>\n",
       "    </tr>\n",
       "  </tbody>\n",
       "</table>\n",
       "</div>"
      ],
      "text/plain": [
       "  ESMANE_REG_KP KAIGUKASTI_TYYP  MOOTORI_MAHT Kütusekombinatsioon CO2_NEDC  \\\n",
       "0    18.05.2020        AUTOMAAT        1332.0             BENSIIN    131.0   \n",
       "1    01.01.1938         MANUAAL        2127.0             BENSIIN      NaN   \n",
       "2    01.01.1960         MANUAAL        2445.0             BENSIIN      NaN   \n",
       "3    01.01.1969         MANUAAL        1360.0             BENSIIN      NaN   \n",
       "4    01.01.1974         MANUAAL        1450.0             BENSIIN      NaN   \n",
       "\n",
       "       Mark    Mudel  REG_MASS HEITMENORM  VK/OM MAAKOND  \n",
       "0    NISSAN  QASHQAI      1885      EURO6  HARJU MAAKOND  \n",
       "1  VAUXHALL        -      1450        NaN  PÄRNU MAAKOND  \n",
       "2       GAZ      21I      1875        NaN  TARTU MAAKOND  \n",
       "3      AZLK      408      1290        NaN  VALGA MAAKOND  \n",
       "4       VAZ     2103      1430        NaN   VÕRU MAAKOND  "
      ]
     },
     "execution_count": 8,
     "metadata": {},
     "output_type": "execute_result"
    }
   ],
   "source": [
    "data.head()"
   ]
  },
  {
   "cell_type": "code",
   "execution_count": 13,
   "id": "710ec49e",
   "metadata": {},
   "outputs": [],
   "source": [
    "data.to_csv('soidukid_cleaned.csv',encoding='utf-8-sig',sep=';')"
   ]
  },
  {
   "cell_type": "code",
   "execution_count": null,
   "id": "16d38618",
   "metadata": {},
   "outputs": [],
   "source": []
  }
 ],
 "metadata": {
  "kernelspec": {
   "display_name": "Python 3 (ipykernel)",
   "language": "python",
   "name": "python3"
  },
  "language_info": {
   "codemirror_mode": {
    "name": "ipython",
    "version": 3
   },
   "file_extension": ".py",
   "mimetype": "text/x-python",
   "name": "python",
   "nbconvert_exporter": "python",
   "pygments_lexer": "ipython3",
   "version": "3.9.12"
  }
 },
 "nbformat": 4,
 "nbformat_minor": 5
}
